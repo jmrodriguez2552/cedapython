{
 "cells": [
  {
   "cell_type": "markdown",
   "metadata": {},
   "source": [
    "# **5101.Análisis de Datos con Python**🐍   \n",
    "Duración total de **75 horas**.    \n",
    "Horas semanales: **4 horas**"
   ]
  },
  {
   "cell_type": "markdown",
   "metadata": {},
   "source": [
    "## Unidad de Trabajo 1: Introducción al análisis de datos y entornos Python\n",
    "\n",
    "**Duración aproximada:** 7.5 horas\n",
    "\n",
    "### Objetivos de la Unidad\n",
    "\n",
    "Esta unidad de trabajo contribuye a la consecución del **Resultado de Aprendizaje 1 (RA 1)**: *Manejo, limpieza y normalización de distintos tipos de datos en función del problema a resolver*. Al finalizar esta unidad, seréis capaces de:\n",
    "\n",
    "* Comprender los conceptos fundamentales del análisis de datos.\n",
    "* Identificar y empezar a utilizar las librerías esenciales de Python para la ciencia de datos.\n",
    "* Configurar un entorno de trabajo adecuado para el análisis de datos."
   ]
  },
  {
   "cell_type": "markdown",
   "metadata": {},
   "source": [
    "### 1. Conceptos Fundamentales del Análisis de Datos\n",
    "\n",
    "El análisis de datos es el proceso de inspeccionar, limpiar, transformar y modelar datos con el objetivo de descubrir información útil, llegar a conclusiones y apoyar la toma de decisiones. En un mundo cada vez más digital, la cantidad de datos que se generan es inmensa (lo que a menudo se denomina **Big Data**), y la capacidad de extraer conocimiento de ellos es una habilidad muy demandada.\n",
    "\n",
    "Python se ha convertido en el lenguaje de referencia para el análisis de datos por varias razones:\n",
    "\n",
    "* **Es un lenguaje de propósito general:** Permite construir sistemas completos, desde la obtención de los datos hasta la presentación de los resultados.\n",
    "* **Facilidad de aprendizaje:** Su sintaxis es clara y legible, lo que lo hace ideal para principiantes.\n",
    "* **Un ecosistema de librerías muy potente:** Dispone de herramientas especializadas que facilitan enormemente el trabajo con datos."
   ]
  },
  {
   "cell_type": "markdown",
   "metadata": {},
   "source": [
    "### 2. Librerías Esenciales para Ciencia de Datos en Python\n",
    "\n",
    "Para el análisis de datos en Python, no partimos de cero. Nos apoyaremos en un conjunto de librerías que son el estándar en la industria. El criterio de evaluación principal de esta unidad es que \"se conocen y se importan las librerías usadas en ciencia de datos\". Las más importantes son:\n",
    "\n",
    "* **NumPy:** Es la piedra angular de la computación numérica en Python. Proporciona un objeto de array multidimensional (ndarray) muy eficiente y herramientas para operar con él.\n",
    "* **Pandas:** Ofrece estructuras de datos de alto nivel como el `DataFrame` y las `Series`, diseñadas para hacer el trabajo con datos estructurados o tabulares de forma fácil e intuitiva. Será nuestra herramienta principal en este módulo.\n",
    "* **Matplotlib:** Es la librería más popular para crear gráficos y visualizaciones de datos estáticas, interactivas y animadas en Python.\n",
    "* **IPython y Jupyter:** IPython es un intérprete de Python interactivo mejorado. Jupyter, y en concreto los **Jupyter Notebooks**, nos proporcionan un entorno de trabajo basado en web que permite combinar código, texto, ecuaciones matemáticas y visualizaciones en un único documento. Es la herramienta que usaremos en este curso.\n",
    "\n",
    "#### **Convenciones de Importación**\n",
    "\n",
    "En la comunidad de Python, es una práctica estándar importar estas librerías con alias específicos para que el código sea más legible y conciso. A lo largo del curso, usaremos las siguientes convenciones:"
   ]
  },
  {
   "cell_type": "code",
   "execution_count": null,
   "metadata": {},
   "outputs": [
    {
     "ename": "",
     "evalue": "",
     "output_type": "error",
     "traceback": [
      "\u001b[1;31mLa ejecución de celdas con 'Python 3.11.9 64-bit (microsoft store)' requieren el paquete ipykernel.\n",
      "\u001b[1;31mEjecute el siguiente comando para instalar 'ipykernel' en el entorno de Python. comando \n",
      "\u001b[1;31m: '\"c:/Program Files/WindowsApps/PythonSoftwareFoundation.Python.3.11_3.11.2544.0_x64__qbz5n2kfra8p0/python3.11.exe\" -m pip install ipykernel -U --force-reinstall'"
     ]
    }
   ],
   "source": [
    "import numpy as np\n",
    "import pandas as pd\n",
    "import matplotlib.pyplot as plt"
   ]
  },
  {
   "cell_type": "markdown",
   "metadata": {},
   "source": [
    "### 3. Configuración del Entorno de Trabajo\n",
    "\n",
    "Para empezar a trabajar, necesitamos instalar Python y las librerías mencionadas.   \n",
    "Una de las formas más sencillas (y \"recomendable\") de hacerlo es a través de una distribución como **Anaconda** o su versión más ligera, **Miniconda**. Estas distribuciones incluyen un gestor de paquetes llamado `conda` que facilita enormemente la instalación y gestión de las librerías y sus dependencias.\n",
    "\n",
    "#### **Pasos para la instalación con CONDA (Resumen):**\n",
    "\n",
    "1.  Descargar e instalar Miniconda desde su página oficial (recomiendo la última versión de Python 3.x).\n",
    "2.  Abrir la terminal o el \"Anaconda Prompt\".\n",
    "3.  Crear un entorno virtual para nuestro curso. Esto es una buena práctica para aislar las dependencias de diferentes proyectos:\n",
    "    ```bash\n",
    "    conda create --name analisis_datos_py python=3.10\n",
    "    ```\n",
    "4.  Activar el nuevo entorno:\n",
    "    ```bash\n",
    "    conda activate analisis_datos_py\n",
    "    ```\n",
    "5.  Instalar las librerías necesarias dentro de este entorno:\n",
    "    ```bash\n",
    "    conda install numpy pandas matplotlib jupyter\n",
    "    ```\n",
    "6.  Una vez instalado, para iniciar nuestro entorno de trabajo, simplemente navegamos en la terminal hasta la carpeta donde queramos guardar nuestros archivos y ejecutamos:\n",
    "    ```bash\n",
    "    jupyter notebook\n",
    "    ```\n",
    "    Esto abrirá una nueva pestaña en vuestro navegador web con el panel de Jupyter, desde donde podréis crear nuevos notebooks o abrir los existentes.\n",
    "\n",
    "También es posible, y mucho más sencillo, usar el entorno gráfico proporcionado por las distribuciones. Desde dicho entorno gráfico podremos realizar la instalación de todos aquellos elementos y librerías que consideremos necesario para realizar nuestras tareas."
   ]
  },
  {
   "cell_type": "markdown",
   "metadata": {},
   "source": [
    "#### **Gestor de paquetes PIP**\n",
    "Otro modo de hacerlo es, simplemente, instalando Python en nuestro equipo y, bien usando nuestro IDE habitual para desarrollo o bien desde la consola o terminal, realizar la instalación de las librerías necesarias usando `pip`.   \n",
    "La sintaxis para los comandos más comunes de PIP es la siguiente:\n",
    "\n",
    "`pip install <nombre_paquete>`: Instala un paquete desde el Python Package Index (PyPI).    \n",
    "\n",
    "Ejemplo: `pip install requests`   \n",
    "\n",
    "`pip install --upgrade <nombre_paquete>`: Actualiza un paquete a la última versión.    \n",
    "\n",
    "Ejemplo: `pip install --upgrade requests`   \n",
    "\n",
    "`pip install <nombre_paquete>==<version>`: Instala una versión específica de un paquete.    \n",
    "\n",
    "Ejemplo: `pip install requests==2.28.1`  \n",
    "\n",
    "`pip uninstall <nombre_paquete>`: Elimina un paquete del entorno.    \n",
    "\n",
    "Ejemplo: `pip uninstall requests`   \n",
    "\n",
    "`pip list`: Muestra una lista de todos los paquetes instalados en el entorno virtual actual.    \n",
    "\n",
    "`pip freeze`: Similar a pip list, pero suele usarse para generar un archivo requirements.txt con los paquetes y sus versiones.    \n",
    "\n",
    "`pip show <nombre_paquete>`: Muestra información detallada sobre un paquete específico. "
   ]
  },
  {
   "cell_type": "markdown",
   "metadata": {},
   "source": [
    "### Ejemplos Prácticos\n",
    "\n",
    "Vamos a poner en práctica estos primeros conceptos directamente en nuestro Jupyter Notebook.\n",
    "\n",
    "**Ejemplo 1: Importar librerías y comprobar versiones**\n",
    "\n",
    "Es una buena práctica comprobar que tenemos todo correctamente instalado y ver con qué versiones de las librerías estamos trabajando."
   ]
  },
  {
   "cell_type": "code",
   "execution_count": null,
   "metadata": {},
   "outputs": [],
   "source": [
    "# Importar las librerías con sus alias estándar\n",
    "import numpy as np\n",
    "import pandas as pd\n",
    "import matplotlib as mpl\n",
    "\n",
    "# Imprimir las versiones\n",
    "print(f\"Versión de NumPy: {np.__version__}\")\n",
    "print(f\"Versión de Pandas: {pd.__version__}\")\n",
    "print(f\"Versión de Matplotlib: {mpl.__version__}\")"
   ]
  },
  {
   "cell_type": "markdown",
   "metadata": {},
   "source": [
    "**Ejemplo 2: Creando nuestras primeras estructuras de datos**\n",
    "\n",
    "Vamos a crear un `DataFrame` de Pandas, que es la estructura fundamental con la que trabajaremos. Un `DataFrame` es esencialmente una tabla bidimensional con etiquetas en las filas y columnas."
   ]
  },
  {
   "cell_type": "code",
   "execution_count": null,
   "metadata": {},
   "outputs": [],
   "source": [
    "# Crear un diccionario de Python con los datos\n",
    "datos = {\n",
    "    'nombre': ['Ana', 'Luis', 'Marta', 'Juan'],\n",
    "    'edad': [28, 34, 29, 42],\n",
    "    'ciudad': ['Madrid', 'Barcelona', 'Madrid', 'Valencia']\n",
    "}\n",
    "\n",
    "# Crear un DataFrame a partir del diccionario\n",
    "df = pd.DataFrame(datos)\n",
    "\n",
    "# Mostrar el DataFrame\n",
    "print(\"Mi primer DataFrame:\")\n",
    "print(df)"
   ]
  },
  {
   "cell_type": "markdown",
   "metadata": {},
   "source": [
    "**Ejemplo 3: Un vistazo rápido a los datos**\n",
    "\n",
    "Pandas nos ofrece métodos sencillos para obtener una primera impresión de nuestros datos."
   ]
  },
  {
   "cell_type": "code",
   "execution_count": null,
   "metadata": {},
   "outputs": [],
   "source": [
    "# El método .head() nos muestra las primeras filas (5 por defecto)\n",
    "print(\"\\nPrimeras filas del DataFrame:\")\n",
    "print(df.head(2))\n",
    "\n",
    "# El método .info() nos da un resumen técnico del DataFrame\n",
    "print(\"\\nInformación del DataFrame:\")\n",
    "df.info()"
   ]
  },
  {
   "cell_type": "markdown",
   "metadata": {},
   "source": [
    "### Propuesta de Ejercicios\n",
    "\n",
    "Para asentar estos primeros conocimientos, os propongo los siguientes ejercicios para que los resolváis en vuestro propio Jupyter Notebook.\n",
    "\n",
    "**Ejercicio 1: Tu Entorno de Trabajo**\n",
    "\n",
    "1.  Sigue los pasos descritos para instalar Miniconda y crear un entorno virtual llamado `ce_python`.\n",
    "2.  Dentro de este entorno, instala las librerías `numpy`, `pandas`, `matplotlib` y `jupyter`.\n",
    "3.  Crea un nuevo Jupyter Notebook llamado `Unidad1_Ejercicios.ipynb`.\n",
    "4.  En la primera celda, importa las librerías con sus alias convencionales y muestra sus versiones.\n",
    "\n",
    "**Ejercicio 2: Creación de un DataFrame**\n",
    "\n",
    "1.  Crea un `DataFrame` de Pandas a partir de un diccionario que contenga información sobre tus asignaturas de este curso. Debe tener al menos las siguientes columnas: `nombre_modulo`, `horas_semanales` y `profesor`.\n",
    "2.  Muestra el `DataFrame` completo en una celda.\n",
    "3.  Utiliza el método `.tail(2)` para mostrar las dos últimas filas de tu `DataFrame`.\n",
    "\n",
    "**Ejercicio 3: Exploración inicial**\n",
    "\n",
    "1.  Utiliza el método `.describe()` sobre el DataFrame del ejercicio anterior. Este método proporciona estadísticas descriptivas de las columnas numéricas. ¿Qué observas?\n",
    "2.  Investiga y explica en una celda de texto (Markdown) en tu notebook para qué sirve el atributo `.shape` de un DataFrame. Aplícalo a tu DataFrame de asignaturas."
   ]
  }
 ],
 "metadata": {
  "kernelspec": {
   "display_name": "Python 3.11.9 64-bit (microsoft store)",
   "language": "python",
   "name": "python3"
  },
  "language_info": {
   "codemirror_mode": {
    "name": "ipython",
    "version": 3
   },
   "file_extension": ".py",
   "mimetype": "text/x-python",
   "name": "python",
   "nbconvert_exporter": "python",
   "pygments_lexer": "ipython3",
   "version": "3.11.9"
  },
  "vscode": {
   "interpreter": {
    "hash": "464d041c5b6371c8c973d2db4f25375fc900d25e621426e9db1b4429eb428a41"
   }
  }
 },
 "nbformat": 4,
 "nbformat_minor": 4
}
