{
  "cells": [
    {
      "cell_type": "markdown",
      "metadata": {
        "id": "kVOUulfR1Vwn"
      },
      "source": [
        "# Librería Numpy\n",
        "\n",
        "<img src=\"/home/jordi/Documentos/Ribera/Curso_25_26/CEDAPY/REPOS/CEDAPY_25_26/ANALISIS_DATOS_PYTHON/NOTEBOOKS/img/logoNumpy.png\">\n",
        "\n",
        "---\n",
        "\n",
        "## Introducción a NumPy\n",
        "\n",
        "### ¿Qué es NumPy?\n",
        "\n",
        "**NumPy** (del inglés *Numerical Python*) es una **biblioteca de Python** diseñada para trabajar con **arrays** (también llamados *vectores* o *matrices* de datos numéricos).\n",
        "\n",
        "Además de manejar datos en forma de arrays, NumPy incluye muchas funciones matemáticas avanzadas:\n",
        "\n",
        "* Álgebra lineal (matrices, vectores, determinantes...).\n",
        "* Transformadas de Fourier.\n",
        "* Operaciones con números complejos.\n",
        "\n",
        "**Fue creada en 2005 por Travis Oliphant** y es un proyecto de **código abierto**, lo que significa que puedes usarla libremente y también contribuir a mejorarla.\n",
        "\n",
        "---\n",
        "\n",
        "### ¿Por qué usar NumPy?\n",
        "\n",
        "En Python ya existen las **listas**, que pueden parecer similares a los arrays, pero hay una gran diferencia:\n",
        "👉 **las listas son mucho más lentas** para cálculos numéricos.\n",
        "\n",
        "NumPy proporciona un **objeto especial llamado `ndarray`** (abreviatura de *n-dimensional array*), que está diseñado para ejecutar operaciones **hasta 50 veces más rápido** que una lista tradicional.\n",
        "\n",
        "Esto se debe a que:\n",
        "\n",
        "* Los arrays de NumPy están **optimizados para cálculo numérico intensivo**.\n",
        "* Incluyen **funciones vectorizadas**, que aplican operaciones a todos los elementos a la vez, sin bucles.\n",
        "* Permiten aprovechar **la arquitectura del procesador (CPU)** de forma más eficiente.\n",
        "\n",
        "💡 **En ciencia de datos e inteligencia artificial**, los arrays son fundamentales porque se trabaja constantemente con grandes volúmenes de números (imágenes, registros, medidas, etc.).\n",
        "Cuanto más rápido se procesen, mejor.\n",
        "\n",
        "---\n",
        "\n",
        "*¿Qué es la ciencia de datos?*\n",
        "\n",
        "La **ciencia de datos (Data Science)** es una rama de la informática que estudia **cómo almacenar, usar y analizar datos** para obtener conocimiento o tomar decisiones.\n",
        "\n",
        "\n",
        "\n",
        "---\n",
        "\n",
        "### ¿Por qué NumPy es más rápido que las listas?\n",
        "\n",
        "La diferencia está en **cómo se guardan los datos en la memoria del ordenador**.\n",
        "\n",
        "* Una **lista de Python** guarda los elementos de forma dispersa (cada número puede estar en una zona distinta de la memoria).\n",
        "* Un **array de NumPy** guarda todos los datos **en un único bloque continuo** de memoria.\n",
        "\n",
        "Esto permite al procesador:\n",
        "\n",
        "* Acceder a los datos más rápidamente.\n",
        "* Aplicar operaciones matemáticas a todos los elementos sin repetir pasos innecesarios.\n",
        "\n",
        "Este principio se llama **localidad de referencia**, y es clave para entender por qué NumPy es tan veloz.\n",
        "\n",
        "---\n",
        "\n",
        "### ¿En qué lenguaje está escrito NumPy?\n",
        "\n",
        "Aunque tú lo usas desde Python, **la mayor parte del código de NumPy está escrita en C y C++**, lenguajes mucho más rápidos.\n",
        "Python actúa como una “capa amigable” para que podamos usar esa potencia sin complicarnos con código bajo nivel.\n",
        "\n",
        "---\n",
        "\n",
        "### ¿Dónde se encuentra el código de NumPy?\n",
        "\n",
        "NumPy es **software libre y colaborativo**.\n",
        "Su código fuente está disponible en GitHub:\n",
        "🔗 [https://github.com/numpy/numpy](https://github.com/numpy/numpy)\n",
        "\n",
        "GitHub es una plataforma donde desarrolladores de todo el mundo pueden trabajar juntos en un mismo proyecto, añadir mejoras y corregir errores.\n",
        "\n",
        "---\n",
        "\n"
      ]
    },
    {
      "cell_type": "markdown",
      "metadata": {
        "id": "zeFefsfZ1gDO"
      },
      "source": [
        "## Empezando con NumPy 🚀\n",
        "\n",
        "### Instalación de NumPy\n",
        "\n",
        "Si ya tienes **Python** y **PIP** instalados en tu ordenador, instalar NumPy es muy sencillo.\n",
        "\n",
        "Abre una **terminal** (o el símbolo del sistema en Windows) y escribe:\n"
      ]
    },
    {
      "cell_type": "code",
      "execution_count": null,
      "metadata": {
        "colab": {
          "base_uri": "https://localhost:8080/"
        },
        "id": "o7MNFGUG07Ml",
        "outputId": "56bda477-39bd-49ea-a20c-6640191320ac"
      },
      "outputs": [
        {
          "name": "stdout",
          "output_type": "stream",
          "text": [
            "Requirement already satisfied: numpy in /usr/local/lib/python3.12/dist-packages (2.0.2)\n"
          ]
        }
      ],
      "source": [
        "# pip install numpy"
      ]
    },
    {
      "cell_type": "markdown",
      "metadata": {
        "id": "PBvX01MWM46t"
      },
      "source": [
        "Si usas **Google Colab**, no necesitas instalar nada: NumPy ya viene incluido.\n",
        "Si trabajas en **VS Code**, **Jupyter Notebook** o **Anaconda**, también suele venir preinstalado.\n",
        "\n",
        "En caso de que el comando falle, puedes instalar una **distribución de Python** que ya incluya NumPy y otras herramientas científicas:\n",
        "\n",
        "* [Anaconda](https://www.anaconda.com/)\n",
        "* [Spyder](https://www.spyder-ide.org/)\n",
        "* [Google Colab](https://colab.research.google.com)"
      ]
    },
    {
      "cell_type": "markdown",
      "metadata": {
        "id": "XBm2QiJO1nDm"
      },
      "source": [
        "### Importar NumPy en tu programa\n",
        "\n",
        "Una vez instalado, para usar NumPy debes **importarlo** en tu código con la palabra clave `import`"
      ]
    },
    {
      "cell_type": "code",
      "execution_count": 1,
      "metadata": {
        "id": "r1apVW4P1r0P"
      },
      "outputs": [],
      "source": [
        "import numpy"
      ]
    },
    {
      "cell_type": "markdown",
      "metadata": {
        "id": "6eacD28aM46u"
      },
      "source": [
        "A partir de este momento, puedes acceder a todas las funciones de NumPy.\n",
        "\n",
        "Ejemplo:"
      ]
    },
    {
      "cell_type": "code",
      "execution_count": 2,
      "metadata": {
        "id": "yQWqseA61r3I"
      },
      "outputs": [
        {
          "name": "stdout",
          "output_type": "stream",
          "text": [
            "[1 2 3 4 5]\n"
          ]
        }
      ],
      "source": [
        "#import numpy\n",
        "\n",
        "arr = numpy.array([1, 2, 3, 4, 5])\n",
        "print(arr)"
      ]
    },
    {
      "cell_type": "markdown",
      "metadata": {
        "id": "XcP6IDudM46v"
      },
      "source": [
        "### Usar un alias: `np`\n",
        "\n",
        "En casi todos los programas verás que NumPy se importa con un **alias**, normalmente `np`.\n",
        "Esto ahorra tiempo al escribir y hace el código más limpio.\n",
        "\n",
        "👉 *Un alias* en Python es simplemente un **nombre alternativo** para referirse a la misma librería u objeto.\n",
        "\n",
        "Ejemplo:"
      ]
    },
    {
      "cell_type": "markdown",
      "metadata": {
        "id": "3LfKbIPpM46v"
      },
      "source": [
        "import numpy as np\n",
        "\n",
        "arr = np.array([1, 2, 3, 4, 5])\n",
        "print(arr)"
      ]
    },
    {
      "cell_type": "markdown",
      "metadata": {
        "id": "8mkMDBUCM46w"
      },
      "source": [
        "Ahora puedes escribir `np.array()` en lugar de `numpy.array()`.\n",
        "Ambos significan lo mismo.\n",
        "\n",
        "---\n",
        "\n",
        "### Comprobar la versión instalada\n",
        "\n",
        "Si quieres saber qué versión de NumPy estás utilizando, puedes hacerlo con el atributo especial `__version__`:"
      ]
    },
    {
      "cell_type": "code",
      "execution_count": 3,
      "metadata": {
        "colab": {
          "base_uri": "https://localhost:8080/"
        },
        "id": "4pMWyZV71r53",
        "outputId": "903d77a3-5d1e-488f-fd7f-868a7aef7b8e"
      },
      "outputs": [
        {
          "name": "stdout",
          "output_type": "stream",
          "text": [
            "2.2.6\n"
          ]
        }
      ],
      "source": [
        "import numpy as np\n",
        "\n",
        "print(np.__version__)"
      ]
    },
    {
      "cell_type": "markdown",
      "metadata": {
        "id": "nN71jTN9M46w"
      },
      "source": [
        "## Creación de Arrays en NumPy\n",
        "\n",
        "### El objeto principal: `ndarray`\n",
        "\n",
        "NumPy se usa para trabajar con **arrays**, que son estructuras donde guardamos **muchos valores numéricos** juntos (como listas, pero mucho más rápidas).\n",
        "\n",
        "El objeto que representa un array en NumPy se llama **`ndarray`**, que significa *N-dimensional array*.\n",
        "\n",
        "Podemos crear un `ndarray` usando la función `np.array()`.\n",
        "\n",
        "Ejemplo:"
      ]
    },
    {
      "cell_type": "code",
      "execution_count": 4,
      "metadata": {
        "colab": {
          "base_uri": "https://localhost:8080/"
        },
        "id": "uvzU949q1r8h",
        "outputId": "f930e66c-4394-4960-f230-677369d7abdc"
      },
      "outputs": [
        {
          "name": "stdout",
          "output_type": "stream",
          "text": [
            "[1 2 3 4 5]\n",
            "<class 'numpy.ndarray'>\n"
          ]
        }
      ],
      "source": [
        "#import numpy as np\n",
        "\n",
        "arr = np.array([1, 2, 3, 4, 5])\n",
        "print(arr)\n",
        "\n",
        "print(type(arr))"
      ]
    },
    {
      "cell_type": "markdown",
      "metadata": {
        "id": "l4VWaNRcM46x"
      },
      "source": [
        "👉 La función integrada `type()` nos dice el tipo de objeto.\n",
        "En este caso, `arr` es de tipo `numpy.ndarray`.\n",
        "\n",
        "---\n",
        "\n",
        "### Crear un array a partir de otros tipos\n",
        "\n",
        "Puedes pasarle a `np.array()`:\n",
        "\n",
        "* una **lista** (`[ ]`),\n",
        "* una **tupla** (`( )`),\n",
        "* o incluso otro **array**.\n",
        "\n",
        "NumPy los convierte automáticamente en un `ndarray`.\n",
        "\n",
        "Ejemplo (usando una tupla):"
      ]
    },
    {
      "cell_type": "code",
      "execution_count": 5,
      "metadata": {
        "id": "0aQ0Ng-S1r_q"
      },
      "outputs": [
        {
          "name": "stdout",
          "output_type": "stream",
          "text": [
            "[1 2 3 4 5]\n"
          ]
        }
      ],
      "source": [
        "#import numpy as np\n",
        "\n",
        "arr = np.array((1, 2, 3, 4, 5))\n",
        "print(arr)"
      ]
    },
    {
      "cell_type": "markdown",
      "metadata": {
        "id": "R4mxixwyM46x"
      },
      "source": [
        "---\n",
        "\n",
        "## Dimensiones en los arrays\n",
        "\n",
        "Cada **nivel de anidamiento** dentro de un array se llama **dimensión**.\n",
        "\n",
        "👉 Un *array anidado* (o *nested array*) es aquel que contiene otros arrays dentro.\n",
        "\n",
        "| Nivel | Tipo de array | Descripción breve             |\n",
        "| ----- | ------------- | ----------------------------- |\n",
        "| 0-D   | Escalar       | Un solo valor.                |\n",
        "| 1-D   | Vector        | Una lista de números.         |\n",
        "| 2-D   | Matriz        | Una tabla (filas y columnas). |\n",
        "| 3-D   | Tensor        | Varias matrices juntas.       |\n",
        "\n",
        "---\n",
        "\n",
        "### 0-D (Escalar)\n",
        "\n",
        "Un **0-D array** contiene un único valor, por ejemplo un número."
      ]
    },
    {
      "cell_type": "code",
      "execution_count": 6,
      "metadata": {
        "colab": {
          "base_uri": "https://localhost:8080/"
        },
        "id": "ZY2Eoxfg1sCn",
        "outputId": "397f793a-ddef-49f4-8350-9eeeeb033ef8"
      },
      "outputs": [
        {
          "name": "stdout",
          "output_type": "stream",
          "text": [
            "42\n"
          ]
        }
      ],
      "source": [
        "#import numpy as np\n",
        "arr = np.array(42)\n",
        "print(arr)"
      ]
    },
    {
      "cell_type": "markdown",
      "metadata": {
        "id": "toG_GSgvM46x"
      },
      "source": [
        "Cada número individual dentro de un array puede verse como un *array 0-D*.\n",
        "\n",
        "---\n",
        "\n",
        "### 1-D (Vector)\n",
        "\n",
        "Un **array unidimensional** tiene varios valores en una sola línea, como una lista.\n"
      ]
    },
    {
      "cell_type": "code",
      "execution_count": 7,
      "metadata": {
        "id": "0nrrCRTE2ES-"
      },
      "outputs": [
        {
          "name": "stdout",
          "output_type": "stream",
          "text": [
            "[1 2 3 4 5]\n"
          ]
        }
      ],
      "source": [
        "#import numpy as np\n",
        "arr = np.array([1, 2, 3, 4, 5])\n",
        "print(arr)"
      ]
    },
    {
      "cell_type": "markdown",
      "metadata": {
        "id": "Dbjzq0WtM46y"
      },
      "source": [
        "Es el tipo más común y básico de array.\n",
        "\n",
        "---\n",
        "\n",
        "### 2-D (Matriz)\n",
        "\n",
        "Un **array bidimensional** tiene filas y columnas, igual que una tabla o una hoja de cálculo.\n",
        "Cada fila es un array 1-D."
      ]
    },
    {
      "cell_type": "code",
      "execution_count": 8,
      "metadata": {
        "colab": {
          "base_uri": "https://localhost:8080/"
        },
        "id": "0Hc1vW5g2EWD",
        "outputId": "5873c4ee-7970-4238-9f35-4941ace2eaa9"
      },
      "outputs": [
        {
          "name": "stdout",
          "output_type": "stream",
          "text": [
            "[[1 2 3]\n",
            " [4 5 6]]\n"
          ]
        }
      ],
      "source": [
        "#import numpy as np\n",
        "arr = np.array([[1, 2, 3], [4, 5, 6]])\n",
        "print(arr)"
      ]
    },
    {
      "cell_type": "markdown",
      "metadata": {
        "id": "ERdVtJTBM46z"
      },
      "source": [
        " En álgebra lineal, esto se conoce como una **matriz**.\n",
        "NumPy incluye un submódulo específico para matrices (`numpy.mat`).\n",
        "\n",
        "---\n",
        "\n",
        "### 3-D (Tensor)\n",
        "\n",
        "Un **array tridimensional** contiene varias matrices.\n",
        "Este tipo de estructura se usa mucho en **Inteligencia Artificial**, especialmente con imágenes (que tienen alto, ancho y canales de color)."
      ]
    },
    {
      "cell_type": "code",
      "execution_count": 9,
      "metadata": {
        "id": "9tTZ204A2EYu"
      },
      "outputs": [
        {
          "name": "stdout",
          "output_type": "stream",
          "text": [
            "[[[1 2 3]\n",
            "  [4 5 6]]\n",
            "\n",
            " [[1 2 3]\n",
            "  [4 5 6]]]\n"
          ]
        }
      ],
      "source": [
        "import numpy as np\n",
        "arr = np.array([\n",
        "  [[1, 2, 3], [4, 5, 6]],\n",
        "  [[1, 2, 3], [4, 5, 6]]\n",
        "])\n",
        "print(arr)"
      ]
    },
    {
      "cell_type": "markdown",
      "metadata": {
        "id": "Sk5NdvGfM46z"
      },
      "source": [
        "---\n",
        "\n",
        "### Comprobar el número de dimensiones\n",
        "\n",
        "Cada array de NumPy tiene un atributo especial llamado **`.ndim`**, que indica cuántas dimensiones tiene.\n",
        "\n",
        "Ejemplo:"
      ]
    },
    {
      "cell_type": "code",
      "execution_count": 10,
      "metadata": {
        "colab": {
          "base_uri": "https://localhost:8080/"
        },
        "id": "jIOxjoys2EbW",
        "outputId": "67def02a-df57-45e4-86ee-875a2015c2b0"
      },
      "outputs": [
        {
          "name": "stdout",
          "output_type": "stream",
          "text": [
            "0\n",
            "1\n",
            "2\n",
            "3\n"
          ]
        }
      ],
      "source": [
        "#import numpy as np\n",
        "\n",
        "a = np.array(42)\n",
        "b = np.array([1, 2, 3, 4, 5])\n",
        "c = np.array([[1, 2, 3], [4, 5, 6]])\n",
        "d = np.array([\n",
        "  [[1, 2, 3], [4, 5, 6]],\n",
        "  [[1, 2, 3], [4, 5, 6]]\n",
        "])\n",
        "\n",
        "print(a.ndim)\n",
        "print(b.ndim)\n",
        "print(c.ndim)\n",
        "print(d.ndim)"
      ]
    },
    {
      "cell_type": "markdown",
      "metadata": {
        "id": "eImsgfayM460"
      },
      "source": [
        "---\n",
        "\n",
        "### Arrays de más dimensiones\n",
        "\n",
        "NumPy permite crear arrays con **tantas dimensiones como necesites**.\n",
        "Esto se define con el parámetro `ndmin`.\n",
        "\n",
        "Ejemplo:"
      ]
    },
    {
      "cell_type": "code",
      "execution_count": 11,
      "metadata": {
        "colab": {
          "base_uri": "https://localhost:8080/"
        },
        "id": "6Gd5Ck3V2Eer",
        "outputId": "e7f5c702-82dc-4d20-8554-4e42170229f5"
      },
      "outputs": [
        {
          "name": "stdout",
          "output_type": "stream",
          "text": [
            "[[[[[1 2 3 4]]]]]\n",
            "Número de dimensiones: 5\n"
          ]
        }
      ],
      "source": [
        "#import numpy as np\n",
        "\n",
        "arr = np.array([1, 2, 3, 4], ndmin=5)\n",
        "print(arr)\n",
        "print('Número de dimensiones:', arr.ndim)"
      ]
    },
    {
      "cell_type": "markdown",
      "metadata": {
        "id": "rbfb9F6WM461"
      },
      "source": [
        "Aquí:\n",
        "\n",
        "* La 5ª dimensión tiene 4 elementos (los números).\n",
        "* La 4ª contiene ese vector.\n",
        "* La 3ª es una matriz que lo incluye.\n",
        "* La 2ª y 1ª son niveles superiores que envuelven todo el conjunto.\n",
        "\n",
        "💡 En IA, estas estructuras se utilizan para representar **tensores** de datos (por ejemplo, una colección de imágenes o secuencias temporales)."
      ]
    },
    {
      "cell_type": "markdown",
      "metadata": {
        "id": "R9HBnuhAM461"
      },
      "source": [
        "---\n",
        "\n",
        "### Resumen\n",
        "\n",
        "| Dimensión | Forma del array              | Ejemplo en Python                                     | Representación |\n",
        "| --------- | ---------------------------- | ----------------------------------------------------- | -------------- |\n",
        "| 0-D       | `()`                         | `np.array(7)`                                         | `7`            |\n",
        "| 1-D       | `(n,)`                       | `np.array([1,2,3])`                                   | `[1 2 3]`      |\n",
        "| 2-D       | `(filas, columnas)`          | `np.array([[1,2,3],[4,5,6]])`                         | tabla          |\n",
        "| 3-D       | `(bloques, filas, columnas)` | `np.array([[[1,2,3],[4,5,6]], [[7,8,9],[10,11,12]]])` | cubo           |\n",
        "| n-D       | `(dim1, dim2, ..., dimN)`    | `np.array([1,2], ndmin=5)`                            | tensor         |\n",
        "\n",
        "---\n",
        "\n",
        "## <font color=\"red\"> Actividad práctica 1</font>\n",
        "\n",
        "1. Crea en tu entorno tres arrays diferentes:\n",
        "\n",
        "   * Un escalar (0-D) con el número 10.\n",
        "   * Un vector (1-D) con los números del 1 al 5.\n",
        "   * Una matriz (2-D) de dos filas y tres columnas con los números del 1 al 6.\n",
        "2. Muestra el número de dimensiones (`.ndim`) de cada uno.\n",
        "3. Usa `ndmin=4` para crear un array con 4 dimensiones y explora su forma.\n",
        "4. Explica con tus palabras qué significa “dimensión” en un array.\n",
        "\n",
        "---"
      ]
    },
    {
      "cell_type": "code",
      "execution_count": 18,
      "metadata": {
        "id": "gzWt1OxpM461"
      },
      "outputs": [
        {
          "name": "stdout",
          "output_type": "stream",
          "text": [
            "10\n",
            "[1 2 3 4 5]\n",
            "[[1 2 3]\n",
            " [4 5 6]]\n",
            "0\n",
            "1\n",
            "2\n",
            "[[[[1 2 3 4]]]]\n"
          ]
        }
      ],
      "source": [
        "arr0D = np.array(10)\n",
        "print(arr0D)\n",
        "arr1D = np.array([1,2,3,4,5])\n",
        "print(arr1D)\n",
        "arr2D = np.array([[1,2,3],[4,5,6]])\n",
        "print(arr2D)\n",
        "print(arr0D.ndim)\n",
        "print(arr1D.ndim)\n",
        "print(arr2D.ndim)\n",
        "\n",
        "arr4D = np.array([1,2,3,4] , ndmin=4)\n",
        "print(arr4D)\n"
      ]
    },
    {
      "cell_type": "markdown",
      "metadata": {},
      "source": [
        "* La cuarta dimensión tiene los elementos [1,2,3,4], mientras que la 3 y 2 dimensión es una matriz y la primera dimensión es el nivel que engloba todo."
      ]
    },
    {
      "cell_type": "markdown",
      "metadata": {
        "id": "DxQK-LM3M461"
      },
      "source": [
        "# Indexación en Arrays de NumPy\n",
        "\n",
        "## Acceder a elementos de un array\n",
        "\n",
        "La **indexación** consiste en acceder a los valores individuales dentro de un array.\n",
        "Funciona de forma muy parecida a las **listas de Python**.\n",
        "\n",
        "📌 En NumPy, los índices **comienzan en 0**:\n",
        "\n",
        "* El primer elemento tiene índice `0`.\n",
        "* El segundo elemento tiene índice `1`.\n",
        "* El tercero tiene índice `2`, y así sucesivamente.\n",
        "\n",
        "---\n",
        "\n",
        "## Ejemplo básico (1-D)"
      ]
    },
    {
      "cell_type": "code",
      "execution_count": 19,
      "metadata": {
        "id": "jZi9lUCN2EiB"
      },
      "outputs": [
        {
          "name": "stdout",
          "output_type": "stream",
          "text": [
            "1\n"
          ]
        }
      ],
      "source": [
        "import numpy as np\n",
        "\n",
        "arr = np.array([1, 2, 3, 4])\n",
        "\n",
        "print(arr[0])  # Primer elemento"
      ]
    },
    {
      "cell_type": "markdown",
      "metadata": {
        "id": "UGRBdSM2M462"
      },
      "source": [
        "---\n",
        "\n",
        "### Acceder a distintos elementos"
      ]
    },
    {
      "cell_type": "code",
      "execution_count": 20,
      "metadata": {
        "id": "ZcLGlL-pM462"
      },
      "outputs": [
        {
          "name": "stdout",
          "output_type": "stream",
          "text": [
            "2\n",
            "7\n"
          ]
        }
      ],
      "source": [
        "import numpy as np\n",
        "\n",
        "arr = np.array([1, 2, 3, 4])\n",
        "\n",
        "print(arr[1])        # Segundo elemento → 2\n",
        "print(arr[2] + arr[3])  # Suma del 3º y 4º elementos → 7"
      ]
    },
    {
      "cell_type": "markdown",
      "metadata": {
        "id": "j4ova2JAM463"
      },
      "source": [
        "Recuerda:\n",
        "`arr[índice]` devuelve el elemento en la posición indicada.\n",
        "\n",
        "---\n",
        "\n",
        "## Indexación en Arrays 2-D (matrices)\n",
        "\n",
        "Los arrays de **dos dimensiones** se pueden imaginar como **tablas con filas y columnas**.\n",
        "\n",
        "Para acceder a un elemento: usamos una pareja de índices separados por coma:\n",
        "\n",
        "```python\n",
        "arr[fila, columna]\n",
        "```\n",
        "Ejemplo:\n"
      ]
    },
    {
      "cell_type": "code",
      "execution_count": 21,
      "metadata": {
        "id": "h5MkiWm3M463"
      },
      "outputs": [
        {
          "name": "stdout",
          "output_type": "stream",
          "text": [
            "2º elemento de la 1ª fila: 2\n"
          ]
        }
      ],
      "source": [
        "import numpy as np\n",
        "\n",
        "arr = np.array([[1, 2, 3, 4, 5],\n",
        "                [6, 7, 8, 9, 10]])\n",
        "\n",
        "print(\"2º elemento de la 1ª fila:\", arr[0, 1])"
      ]
    },
    {
      "cell_type": "markdown",
      "metadata": {
        "id": "NqqLcSKfM463"
      },
      "source": [
        "Otro ejemplo:"
      ]
    },
    {
      "cell_type": "code",
      "execution_count": 22,
      "metadata": {
        "id": "_yEmHCTB2TYP"
      },
      "outputs": [
        {
          "name": "stdout",
          "output_type": "stream",
          "text": [
            "5º elemento de la 2ª fila: 10\n"
          ]
        }
      ],
      "source": [
        "print(\"5º elemento de la 2ª fila:\", arr[1, 4])\n"
      ]
    },
    {
      "cell_type": "markdown",
      "metadata": {
        "id": "njPbdKHgM47D"
      },
      "source": [
        " Piensa que:\n",
        "\n",
        "* El **primer índice** selecciona la **fila**.\n",
        "* El **segundo índice** selecciona la **columna** dentro de esa fila.\n",
        "\n",
        "---\n",
        "\n",
        "## Indexación en Arrays 3-D (tensores)\n",
        "\n",
        "Los arrays de tres dimensiones pueden verse como **bloques de datos**, donde cada bloque contiene matrices.\n",
        "\n",
        "Ejemplo:"
      ]
    },
    {
      "cell_type": "code",
      "execution_count": 30,
      "metadata": {
        "id": "L-vVVf852Tbe"
      },
      "outputs": [
        {
          "name": "stdout",
          "output_type": "stream",
          "text": [
            "6\n"
          ]
        }
      ],
      "source": [
        "import numpy as np\n",
        "\n",
        "arr = np.array([\n",
        "  [[1, 2, 3], [4, 5, 6]],\n",
        "  [[7, 8, 9], [10, 11, 12]]\n",
        "])\n",
        "\n",
        "print(arr[0, 1, 2])"
      ]
    },
    {
      "cell_type": "markdown",
      "metadata": {
        "id": "cGax8KqzM47E"
      },
      "source": [
        "### Explicación paso a paso\n",
        "\n",
        "1️⃣ `arr[0]` selecciona el **primer bloque**:\n",
        "\n",
        "```\n",
        "[[1, 2, 3],\n",
        " [4, 5, 6]]\n",
        "```\n",
        "\n",
        "2️⃣ `arr[0, 1]` selecciona la **segunda fila** dentro de ese bloque:\n",
        "\n",
        "```\n",
        "[4, 5, 6]\n",
        "```\n",
        "\n",
        "3️⃣ `arr[0, 1, 2]` selecciona el **tercer valor** de esa fila:\n",
        "\n",
        "```\n",
        "6\n",
        "```\n",
        "\n",
        "---\n",
        "\n",
        "## Indexación negativa\n",
        "\n",
        "También puedes acceder a los elementos **desde el final** del array usando índices **negativos**.\n",
        "\n",
        "* `-1` → último elemento\n",
        "* `-2` → penúltimo elemento, etc.\n",
        "\n",
        "Ejemplo:"
      ]
    },
    {
      "cell_type": "code",
      "execution_count": 31,
      "metadata": {
        "colab": {
          "base_uri": "https://localhost:8080/"
        },
        "id": "nHPxQbwF2Elg",
        "outputId": "fcf60782-0132-41ec-aa0c-cc851628dd1d"
      },
      "outputs": [
        {
          "name": "stdout",
          "output_type": "stream",
          "text": [
            "Último elemento de la 2ª fila: 10\n"
          ]
        }
      ],
      "source": [
        "import numpy as np\n",
        "\n",
        "arr = np.array([[1, 2, 3, 4, 5],\n",
        "                [6, 7, 8, 9, 10]])\n",
        "\n",
        "print(\"Último elemento de la 2ª fila:\", arr[1, -1])"
      ]
    },
    {
      "cell_type": "markdown",
      "metadata": {
        "id": "ZozNlkCMM47F"
      },
      "source": [
        "### Resumen rápido\n",
        "\n",
        "| Tipo de array | Ejemplo de acceso       | Devuelve                                       |\n",
        "| ------------- | ----------------------- | ---------------------------------------------- |\n",
        "| 1-D           | `arr[2]`                | 3er elemento                                   |\n",
        "| 2-D           | `arr[1, 4]`             | Elemento en fila 2 columna 5                   |\n",
        "| 3-D           | `arr[0, 1, 2]`          | Valor dentro del bloque 1 → fila 2 → columna 3 |\n",
        "| Negativo      | `arr[-1]`, `arr[1, -1]` | Último elemento                                |\n",
        "\n",
        "---\n",
        "\n",
        "## <font color=\"red\"> Actividad práctica 2</font>\n",
        "\n",
        "1. Crea el siguiente array en tu entorno:\n",
        "\n",
        "   ```python\n",
        "   import numpy as np\n",
        "   arr = np.array([[10, 20, 30, 40],\n",
        "                   [50, 60, 70, 80]])\n",
        "   ```\n",
        "2. Muestra:\n",
        "\n",
        "   * El primer elemento.\n",
        "   * El valor en la 2ª fila, 3ª columna.\n",
        "   * El último valor usando índice negativo.\n",
        "3. Crea un array 3-D sencillo y accede a un valor dentro de la segunda “capa”.\n",
        "4. Explica con tus palabras cómo cambian los índices según la dimensión.\n"
      ]
    },
    {
      "cell_type": "code",
      "execution_count": 41,
      "metadata": {
        "id": "QSaXxLGO2Eoq"
      },
      "outputs": [
        {
          "name": "stdout",
          "output_type": "stream",
          "text": [
            "10\n",
            "70\n",
            "80\n",
            "6\n"
          ]
        }
      ],
      "source": [
        "import numpy as np\n",
        "arr = np.array([[10, 20, 30, 40],\n",
        "                   [50, 60, 70, 80]])\n",
        "print(arr[0,0])\n",
        "print(arr[1,2])\n",
        "print(arr[1,-1])\n",
        "\n",
        "arr3D = np.array([\n",
        "  [[1, 2, 3], [4, 5, 6]],\n",
        "  [[7, 8, 9], [10, 11, 12]],\n",
        "  [[13,14,15],[16,17,18]]\n",
        "])\n",
        "print(arr3D[0,1,2])\n"
      ]
    },
    {
      "cell_type": "markdown",
      "metadata": {},
      "source": [
        "* Los índices cambian dependiendo las dimensiones de la siguiente forma:\n",
        "- 1D: índice\n",
        "- 2D: fila y columna\n",
        "- 3D: bloque, fila y valor"
      ]
    },
    {
      "cell_type": "markdown",
      "metadata": {
        "id": "VUlN2-j5M47G"
      },
      "source": [
        "# Rebanado (Slicing) en Arrays de NumPy\n",
        "\n",
        "## ¿Qué es el *slicing*?\n",
        "\n",
        "El **slicing** (o *rebanado*) permite **extraer una parte de un array**, seleccionando un rango de índices.\n",
        "\n",
        "En lugar de acceder a un único elemento (`arr[3]`), usamos una **secuencia de índices** con esta sintaxis:\n",
        "\n",
        "```python\n",
        "[start:end]\n",
        "```\n",
        "\n",
        "También podemos indicar un **salto (step)**:\n",
        "\n",
        "```python\n",
        "[start:end:step]\n",
        "```\n",
        "\n",
        "---\n",
        "\n",
        "## Reglas básicas\n",
        "\n",
        "| Parámetro | Significado                               | Valor por defecto  |\n",
        "| --------- | ----------------------------------------- | ------------------ |\n",
        "| `start`   | Índice donde comienza el corte (incluido) | 0                  |\n",
        "| `end`     | Índice donde termina el corte (excluido)  | longitud del array |\n",
        "| `step`    | Tamaño del salto entre elementos          | 1                  |\n",
        "\n",
        "👉 El elemento del índice final (`end`) **no se incluye** en el resultado.\n",
        "\n",
        "---\n",
        "\n",
        "### Ejemplo 1 — De índice 1 a 5\n"
      ]
    },
    {
      "cell_type": "code",
      "execution_count": null,
      "metadata": {
        "colab": {
          "base_uri": "https://localhost:8080/"
        },
        "id": "d83nFs-41sFv",
        "outputId": "45b9bce2-4e9f-490b-9918-41240264332c"
      },
      "outputs": [
        {
          "name": "stdout",
          "output_type": "stream",
          "text": [
            "[2 3 4 5]\n"
          ]
        }
      ],
      "source": [
        "import numpy as np\n",
        "\n",
        "arr = np.array([1, 2, 3, 4, 5, 6, 7])\n",
        "print(arr[1:5])"
      ]
    },
    {
      "cell_type": "markdown",
      "metadata": {
        "id": "xecDeKwNM47H"
      },
      "source": [
        "---\n",
        "\n",
        "### Ejemplo 2 — Desde el índice 4 hasta el final"
      ]
    },
    {
      "cell_type": "code",
      "execution_count": null,
      "metadata": {
        "colab": {
          "base_uri": "https://localhost:8080/"
        },
        "id": "NZooE1hz2rp9",
        "outputId": "8f041f73-1895-45e4-b44f-4999ef6b6378"
      },
      "outputs": [
        {
          "name": "stdout",
          "output_type": "stream",
          "text": [
            "[5 6 7]\n"
          ]
        }
      ],
      "source": [
        "\n",
        "print(arr[4:])\n"
      ]
    },
    {
      "cell_type": "markdown",
      "metadata": {
        "id": "-Scr7ek8M47I"
      },
      "source": [
        "---\n",
        "\n",
        "### Ejemplo 3 — Desde el inicio hasta el índice 4 (no incluido)"
      ]
    },
    {
      "cell_type": "code",
      "execution_count": null,
      "metadata": {
        "colab": {
          "base_uri": "https://localhost:8080/"
        },
        "id": "wohBqDbHM47I",
        "outputId": "20ebcacf-890a-491d-e3c4-e44b07aa42b0"
      },
      "outputs": [
        {
          "name": "stdout",
          "output_type": "stream",
          "text": [
            "[1 2 3 4]\n"
          ]
        }
      ],
      "source": [
        "print(arr[:4])\n"
      ]
    },
    {
      "cell_type": "markdown",
      "metadata": {
        "id": "5knxJnMlM47J"
      },
      "source": [
        "---\n",
        "\n",
        "## Slicing negativo\n",
        "\n",
        "También puedes usar **índices negativos** para contar desde el final.\n",
        "\n",
        "Por ejemplo:\n",
        "\n",
        "* `-1` → último elemento\n",
        "* `-2` → penúltimo elemento\n",
        "\n",
        "Ejemplo:"
      ]
    },
    {
      "cell_type": "code",
      "execution_count": null,
      "metadata": {
        "colab": {
          "base_uri": "https://localhost:8080/"
        },
        "id": "cSDdiCByM47J",
        "outputId": "19bc9732-65ca-4d14-ada7-7c94b0f2f39d"
      },
      "outputs": [
        {
          "name": "stdout",
          "output_type": "stream",
          "text": [
            "[5 6]\n"
          ]
        }
      ],
      "source": [
        "import numpy as np\n",
        "\n",
        "arr = np.array([1, 2, 3, 4, 5, 6, 7])\n",
        "print(arr[-3:-1])"
      ]
    },
    {
      "cell_type": "markdown",
      "metadata": {
        "id": "GlpgCnu6M47J"
      },
      "source": [
        "Empieza desde el tercer elemento contando desde el final (`-3`)\n",
        "y termina en el índice `-1` (sin incluirlo).\n",
        "\n",
        "---\n",
        "\n",
        "## Usar pasos (*step*)\n",
        "\n",
        "El tercer parámetro permite **saltar elementos** dentro del rango.\n",
        "\n",
        "### Ejemplo 1 — Saltos de 2 posiciones entre índices 1 y 5"
      ]
    },
    {
      "cell_type": "code",
      "execution_count": null,
      "metadata": {
        "colab": {
          "base_uri": "https://localhost:8080/"
        },
        "id": "UA2Nk9BsM47J",
        "outputId": "90bc3d21-59ac-4417-bec0-4312e12141b2"
      },
      "outputs": [
        {
          "name": "stdout",
          "output_type": "stream",
          "text": [
            "[2 4]\n"
          ]
        }
      ],
      "source": [
        "print(arr[1:5:2])\n"
      ]
    },
    {
      "cell_type": "markdown",
      "metadata": {
        "id": "LQtVjiyXM47K"
      },
      "source": [
        "El `::2` significa:\n",
        "\n",
        "> “Desde el principio hasta el final, tomando un elemento sí y otro no”.\n",
        "\n",
        "---\n",
        "\n",
        "## Slicing en arrays 2-D\n",
        "\n",
        "En los arrays bidimensionales, el *slicing* funciona igual, pero podemos aplicarlo **por filas y columnas**.\n",
        "\n",
        "---\n",
        "\n",
        "### Ejemplo 1 — Cortar una fila\n",
        "\n",
        "Extraer desde la segunda fila (`índice 1`), los elementos entre el índice 1 y 4 (no incluido):\n"
      ]
    },
    {
      "cell_type": "code",
      "execution_count": null,
      "metadata": {
        "colab": {
          "base_uri": "https://localhost:8080/"
        },
        "id": "shAlZNNgM47K",
        "outputId": "739c733d-4ffb-4e56-bee4-6aa4da9373ce"
      },
      "outputs": [
        {
          "name": "stdout",
          "output_type": "stream",
          "text": [
            "[7 8 9]\n"
          ]
        }
      ],
      "source": [
        "import numpy as np\n",
        "\n",
        "arr = np.array([[1, 2, 3, 4, 5],\n",
        "                [6, 7, 8, 9, 10]])\n",
        "\n",
        "print(arr[1, 1:4])"
      ]
    },
    {
      "cell_type": "markdown",
      "metadata": {
        "id": "hG3MhuHYM47L"
      },
      "source": [
        "---\n",
        "\n",
        "### Ejemplo 2 — Obtener una sola columna de varias filas"
      ]
    },
    {
      "cell_type": "code",
      "execution_count": null,
      "metadata": {
        "colab": {
          "base_uri": "https://localhost:8080/"
        },
        "id": "DlZ-I86mM47P",
        "outputId": "5a14d718-294a-4300-b10e-98aff3b14be6"
      },
      "outputs": [
        {
          "name": "stdout",
          "output_type": "stream",
          "text": [
            "[3 8]\n"
          ]
        }
      ],
      "source": [
        "print(arr[0:2, 2])\n"
      ]
    },
    {
      "cell_type": "markdown",
      "metadata": {
        "id": "6ueWgfJJM47Q"
      },
      "source": [
        "Aquí `arr[0:2, 2]` significa:\n",
        "\n",
        "> “De las filas 0 a 1, selecciona la columna 2”.\n",
        "\n",
        "---\n",
        "\n",
        "### Ejemplo 3 — Seleccionar submatriz (rango en filas y columnas)\n"
      ]
    },
    {
      "cell_type": "code",
      "execution_count": null,
      "metadata": {
        "colab": {
          "base_uri": "https://localhost:8080/"
        },
        "id": "dqiBri37M47Q",
        "outputId": "e0eb8cbf-da01-4a0a-ba84-b713688f3b1e"
      },
      "outputs": [
        {
          "name": "stdout",
          "output_type": "stream",
          "text": [
            "[[2 3 4]\n",
            " [7 8 9]]\n"
          ]
        }
      ],
      "source": [
        "print(arr[0:2, 1:4])\n"
      ]
    },
    {
      "cell_type": "markdown",
      "metadata": {
        "id": "8yTODZkYM47Q"
      },
      "source": [
        "Esto devuelve un **array 2-D**, formado por el bloque de datos de esas posiciones.\n",
        "\n",
        "---\n",
        "\n",
        "###  Resumen visual\n",
        "\n",
        "| Ejemplo         | Resultado     | Descripción                 |\n",
        "| --------------- | ------------- | --------------------------- |\n",
        "| `arr[1:5]`      | `[2 3 4 5]`   | Del índice 1 al 4           |\n",
        "| `arr[:3]`       | `[1 2 3]`     | Desde el inicio hasta el 3º |\n",
        "| `arr[::2]`      | `[1 3 5 7]`   | Cada dos elementos          |\n",
        "| `arr[-3:-1]`    | `[5 6]`       | Desde el final              |\n",
        "| `arr[1, 1:4]`   | `[7 8 9]`     | Slicing en fila             |\n",
        "| `arr[0:2, 1:4]` | Submatriz 2x3 | Fila y columna a la vez     |\n",
        "\n",
        "---\n",
        "\n",
        "## <font color=\"red\"> Actividad práctica 3</font>\n",
        "\n",
        "1. Crea el array:\n",
        "\n",
        "   ```python\n",
        "   import numpy as np\n",
        "   arr = np.array([10, 20, 30, 40, 50, 60, 70])\n",
        "   ```\n",
        "\n",
        "   y muestra:\n",
        "\n",
        "   * Los elementos del índice 2 al 5.\n",
        "   * Los elementos desde el principio hasta el índice 4.\n",
        "   * Los elementos en posiciones pares ``[10 30 50 70]``.\n",
        "\n",
        "2. Crea una matriz:\n",
        "\n",
        "   ```python\n",
        "   m = np.array([[11, 12, 13, 14],\n",
        "                 [21, 22, 23, 24],\n",
        "                 [31, 32, 33, 34]])\n",
        "   ```\n",
        "\n",
        "   y muestra:\n",
        "\n",
        "   * La segunda fila ``[21 22 23 24]``.\n",
        "   * La segunda columna ``[12 22 32]``.\n",
        "   * El bloque central\n",
        "     ````\n",
        "       [[12 13]     \n",
        "       [22 23]]\n",
        "     ````\n",
        "\n",
        "3. Explica con tus palabras qué diferencia hay entre **indexar** y **rebanar** un array."
      ]
    },
    {
      "cell_type": "code",
      "execution_count": null,
      "metadata": {
        "colab": {
          "base_uri": "https://localhost:8080/"
        },
        "id": "2Vq8GOfsauDG",
        "outputId": "27202237-b577-4bb4-ca12-2e7927df392e"
      },
      "outputs": [
        {
          "name": "stdout",
          "output_type": "stream",
          "text": [
            "Elementos del índice 2 al 5: [30 40 50 60]\n",
            "Elementos desde el principio hasta el índice 4: [10 20 30 40 50]\n",
            "Elementos en posiciones pares: [10 30 50 70]\n",
            "Segunda fila: [21 22 23 24]\n",
            "Segunda columna: [12 22 32]\n",
            "Bloque central:\n",
            " [[12 13]\n",
            " [22 23]]\n"
          ]
        }
      ],
      "source": [
        "import numpy as np\n",
        "\n",
        "# ---- Array unidimensional ----\n",
        "arr = np.array([10, 20, 30, 40, 50, 60, 70])\n",
        "\n",
        "print(\"Elementos del índice 2 al 5:\", arr[2:6])\n",
        "print(\"Elementos desde el principio hasta el índice 4:\", arr[:5])\n",
        "print(\"Elementos en posiciones pares:\", arr[::2])\n",
        "\n",
        "# ---- Matriz bidimensional ----\n",
        "m = np.array([[11, 12, 13, 14],\n",
        "              [21, 22, 23, 24],\n",
        "              [31, 32, 33, 34]])\n",
        "\n",
        "print(\"Segunda fila:\", m[1, :])\n",
        "print(\"Segunda columna:\", m[:, 1])\n",
        "print(\"Bloque central:\\n\", m[0:2, 1:3])\n"
      ]
    },
    {
      "cell_type": "code",
      "execution_count": null,
      "metadata": {
        "colab": {
          "base_uri": "https://localhost:8080/"
        },
        "id": "s7kf4CAYM47R",
        "outputId": "04570cbb-5cc9-4af0-d6e3-c66e9722ca23"
      },
      "outputs": [
        {
          "name": "stdout",
          "output_type": "stream",
          "text": [
            "[12 22 32]\n"
          ]
        }
      ],
      "source": [
        "import numpy as np\n",
        "\n",
        "m = np.array([[11, 12, 13, 14],\n",
        "              [21, 22, 23, 24],\n",
        "              [31, 32, 33, 34]])\n",
        "\n",
        "segunda_columna = m[:, 1]\n",
        "print(segunda_columna)"
      ]
    },
    {
      "cell_type": "markdown",
      "metadata": {
        "id": "fnPRxPyiM47R"
      },
      "source": [
        "# Tipos de datos en NumPy\n",
        "\n",
        "## Tipos de datos básicos en Python\n",
        "\n",
        "Antes de ver NumPy, recordemos los tipos de datos que ya existen en **Python**:\n",
        "\n",
        "| Tipo               | Descripción                    | Ejemplo              |\n",
        "| ------------------ | ------------------------------ | -------------------- |\n",
        "| **string (str)**   | Texto entre comillas           | `\"Hola\"`, `'Python'` |\n",
        "| **integer (int)**  | Números enteros                | `-3`, `0`, `25`      |\n",
        "| **float**          | Números reales (con decimales) | `3.14`, `42.0`       |\n",
        "| **boolean (bool)** | Verdadero o falso              | `True`, `False`      |\n",
        "| **complex**        | Números complejos              | `1 + 2j`, `3.5 + 4j` |\n",
        "\n",
        "---\n",
        "\n",
        "## Tipos de datos en NumPy\n",
        "\n",
        "NumPy amplía estos tipos con otros más específicos y optimizados para cálculos numéricos.\n",
        "Cada tipo se identifica con **un carácter** que representa su categoría.\n",
        "\n",
        "| Código | Tipo de dato                             | Ejemplo                        |\n",
        "| ------ | ---------------------------------------- | ------------------------------ |\n",
        "| `i`    | Entero con signo                         | `-10`, `25`                    |\n",
        "| `u`    | Entero sin signo (no puede ser negativo) | `0`, `255`                     |\n",
        "| `f`    | Número real (float)                      | `3.1416`                       |\n",
        "| `c`    | Número complejo                          | `2+3j`                         |\n",
        "| `b`    | Booleano                                 | `True`, `False`                |\n",
        "| `S`    | Cadena de texto (bytes)                  | `b\"hola\"`                      |\n",
        "| `U`    | Cadena Unicode                           | `\"hola\"`                       |\n",
        "| `m`    | Diferencia de tiempo (*timedelta*)       | `1 día`                        |\n",
        "| `M`    | Fecha y hora (*datetime*)                | `2025-10-06`                   |\n",
        "| `O`    | Objeto Python                            | cualquier tipo                 |\n",
        "| `V`    | Bloque fijo de memoria (*void*)          | reservado para usos especiales |\n",
        "\n",
        "---\n",
        "\n",
        "### Comprobar el tipo de datos de un array\n",
        "\n",
        "Cada array NumPy tiene una propiedad llamada `.dtype` que indica el tipo de datos de sus elementos.\n",
        "\n",
        "Ejemplo:"
      ]
    },
    {
      "cell_type": "code",
      "execution_count": null,
      "metadata": {
        "id": "SpFWEMGvM47R"
      },
      "outputs": [],
      "source": [
        "import numpy as np\n",
        "\n",
        "arr = np.array([1, 2, 3, 4])\n",
        "print(arr.dtype)"
      ]
    },
    {
      "cell_type": "markdown",
      "metadata": {
        "id": "7nnM4CJIM47R"
      },
      "source": [
        "---\n",
        "\n",
        "Ejemplo con cadenas:"
      ]
    },
    {
      "cell_type": "code",
      "execution_count": null,
      "metadata": {
        "id": "tnMX2D6_M47R"
      },
      "outputs": [],
      "source": [
        "arr = np.array(['apple', 'banana', 'cherry'])\n",
        "print(arr.dtype)"
      ]
    },
    {
      "cell_type": "markdown",
      "metadata": {
        "id": "E016mWzzM47S"
      },
      "source": [
        "Significa “Unicode string” de longitud máxima 6.\n",
        "\n",
        "---\n",
        "\n",
        "## Crear arrays con un tipo de dato definido\n",
        "\n",
        "Podemos indicar el tipo de datos al crear el array usando el argumento **`dtype`**.\n",
        "\n",
        "### Ejemplo 1 — Array de cadenas"
      ]
    },
    {
      "cell_type": "code",
      "execution_count": null,
      "metadata": {
        "id": "SUBXsp7LM47S"
      },
      "outputs": [],
      "source": [
        "import numpy as np\n",
        "\n",
        "arr = np.array([1, 2, 3, 4], dtype='S')\n",
        "print(arr)\n",
        "print(arr.dtype)"
      ]
    },
    {
      "cell_type": "markdown",
      "metadata": {
        "id": "xYEkyjdaM47S"
      },
      "source": [
        "Los valores se han convertido en **bytes** (`b'...'`).\n",
        "\n",
        "---\n",
        "\n",
        "### Ejemplo 2 — Array de enteros de 4 bytes"
      ]
    },
    {
      "cell_type": "code",
      "execution_count": null,
      "metadata": {
        "id": "1fRRIeizM47S"
      },
      "outputs": [],
      "source": [
        "arr = np.array([1, 2, 3, 4], dtype='i4')\n",
        "print(arr)\n",
        "print(arr.dtype)"
      ]
    },
    {
      "cell_type": "markdown",
      "metadata": {
        "id": "lRQkd5e7M47T"
      },
      "source": [
        "En este caso, `'i4'` significa:\n",
        "\n",
        "* `i` → entero con signo\n",
        "* `4` → ocupa 4 bytes (32 bits)\n",
        "\n",
        "---\n",
        "\n",
        "###  Si un valor no puede convertirse\n",
        "\n",
        "NumPy mostrará un **ValueError** si el tipo de datos no es compatible.\n",
        "\n",
        "Ejemplo:"
      ]
    },
    {
      "cell_type": "code",
      "execution_count": null,
      "metadata": {
        "id": "JWzOosjMM47T"
      },
      "outputs": [],
      "source": [
        "arr = np.array(['a', '2', '3'], dtype='i')\n"
      ]
    },
    {
      "cell_type": "markdown",
      "metadata": {
        "id": "iLYeFnBHM47T"
      },
      "source": [
        "Esto ocurre porque `'a'` no puede convertirse a número entero.\n",
        "\n",
        "---\n",
        "\n",
        "## Convertir el tipo de datos de un array existente\n",
        "\n",
        "Para cambiar el tipo de un array ya creado, se usa el método **`.astype()`**.\n",
        "\n",
        "Este método **crea una copia** del array con el nuevo tipo de datos.\n",
        "\n",
        "---\n",
        "\n",
        "### Ejemplo 1 — De float a int"
      ]
    },
    {
      "cell_type": "code",
      "execution_count": null,
      "metadata": {
        "id": "KhRTMhyLM47U"
      },
      "outputs": [],
      "source": [
        "import numpy as np\n",
        "\n",
        "arr = np.array([1.1, 2.1, 3.1])\n",
        "newarr = arr.astype('i')\n",
        "\n",
        "print(newarr)\n",
        "print(newarr.dtype)"
      ]
    },
    {
      "cell_type": "markdown",
      "metadata": {
        "id": "cI9GV2bfM47U"
      },
      "source": [
        "---\n",
        "\n",
        "### Ejemplo 2 — Usando el tipo directamente (`int`)\n"
      ]
    },
    {
      "cell_type": "code",
      "execution_count": null,
      "metadata": {
        "id": "ST1I4QDKM47U"
      },
      "outputs": [],
      "source": [
        "newarr = arr.astype(int)\n",
        "print(newarr)\n",
        "print(newarr.dtype)"
      ]
    },
    {
      "cell_type": "markdown",
      "metadata": {
        "id": "BEtjl2DlM47U"
      },
      "source": [
        "---\n",
        "\n",
        "### Ejemplo 3 — De entero a booleano"
      ]
    },
    {
      "cell_type": "code",
      "execution_count": null,
      "metadata": {
        "id": "nWkxCfL3M47V"
      },
      "outputs": [],
      "source": [
        "arr = np.array([1, 0, 3])\n",
        "newarr = arr.astype(bool)\n",
        "\n",
        "print(newarr)\n",
        "print(newarr.dtype)"
      ]
    },
    {
      "cell_type": "markdown",
      "metadata": {
        "id": "fDCxQs7jM47V"
      },
      "source": [
        "En este caso, `0` → `False` y cualquier otro número → `True`.\n",
        "\n",
        "---\n",
        "\n",
        "###  Resumen visual\n",
        "\n",
        "| Operación            | Ejemplo                        | Resultado           | Tipo (`dtype`) |     |\n",
        "| -------------------- | ------------------------------ | ------------------- | -------------- | --- |\n",
        "| Tipo automático      | `np.array([1,2,3])`            | `[1 2 3]`           | `int64`        |     |\n",
        "| Forzar tipo texto    | `np.array([1,2,3], dtype='S')` | `[b'1' b'2' b'3']`  | `              | S1` |\n",
        "| Enteros de 4 bytes   | `dtype='i4'`                   | `[1 2 3 4]`         | `int32`        |     |\n",
        "| Cambiar tipo         | `.astype('f')`                 | `[1. 2. 3.]`        | `float32`      |     |\n",
        "| De entero a booleano | `.astype(bool)`                | `[True False True]` | `bool`         |     |\n",
        "\n",
        "---\n",
        "\n",
        "## <font color=\"red\"> Actividad práctica 4</font>\n",
        "\n",
        "1. Crea un array con los valores `[10.5, 20.1, 30.9]` y muéstralo con su tipo de datos.\n",
        "2. Convierte ese array a **entero** con `.astype(int)` y observa los resultados.\n",
        "3. Crea un array de tipo **cadena (`dtype='U'`)** con los valores `['rojo', 'verde', 'azul']` y muestra su tipo.\n",
        "4. Crea un array con `[1, 0, 5, 0, 3]` y conviértelo a **booleano**.\n",
        "5. Explica con tus palabras por qué es importante definir correctamente el tipo de datos en cálculos de IA o Big Data."
      ]
    },
    {
      "cell_type": "code",
      "execution_count": null,
      "metadata": {
        "id": "yK7WJKrgM47V"
      },
      "outputs": [],
      "source": []
    },
    {
      "cell_type": "markdown",
      "metadata": {
        "id": "KMqR_0JlM47V"
      },
      "source": [
        "# Copias y Vistas en NumPy\n",
        "\n",
        "## Diferencia entre **copy()** y **view()**\n",
        "\n",
        "Cuando trabajamos con arrays en NumPy, es importante saber si los datos se **copian** o solo se **comparten** entre variables.\n",
        "\n",
        "| Tipo                 | Qué hace                                                 | Cambios afectan al original |\n",
        "| -------------------- | -------------------------------------------------------- | --------------------------- |\n",
        "| **Copy** (`.copy()`) | Crea un **nuevo array independiente**.                   | ❌ No                        |\n",
        "| **View** (`.view()`) | Crea una **vista** del mismo array (comparte los datos). | ✅ Sí                        |\n",
        "\n",
        "En resumen:\n",
        "\n",
        "* Una **copia** tiene sus propios datos.\n",
        "* Una **vista** solo muestra los datos del original.\n",
        "\n",
        "---\n",
        "\n",
        "### Ejemplo 1 — Copy (copia independiente)"
      ]
    },
    {
      "cell_type": "code",
      "execution_count": null,
      "metadata": {
        "id": "8WeBw-rBM47W"
      },
      "outputs": [],
      "source": [
        "import numpy as np\n",
        "\n",
        "arr = np.array([1, 2, 3, 4, 5])\n",
        "x = arr.copy()       # Creamos una copia\n",
        "\n",
        "arr[0] = 42          # Cambiamos el original\n",
        "\n",
        "print(\"Array original:\", arr)\n",
        "print(\"Copia:\", x)"
      ]
    },
    {
      "cell_type": "markdown",
      "metadata": {
        "id": "aruZE9lqM47W"
      },
      "source": [
        "Observa que el cambio en `arr` **no afecta** a `x`.\n",
        "\n",
        "---\n",
        "\n",
        "## Ejemplo 2 — View (vista compartida)"
      ]
    },
    {
      "cell_type": "code",
      "execution_count": null,
      "metadata": {
        "id": "j8hNJP9_M47W"
      },
      "outputs": [],
      "source": [
        "import numpy as np\n",
        "\n",
        "arr = np.array([1, 2, 3, 4, 5])\n",
        "x = arr.view()       # Creamos una vista\n",
        "\n",
        "arr[0] = 42          # Cambiamos el original\n",
        "\n",
        "print(\"Array original:\", arr)\n",
        "print(\"Vista:\", x)"
      ]
    },
    {
      "cell_type": "markdown",
      "metadata": {
        "id": "A368LQ2gM47W"
      },
      "source": [
        "En este caso, la **vista refleja los cambios** hechos en el original.\n",
        "\n",
        "---\n",
        "\n",
        "## Ejemplo 3 — Cambiar la vista también cambia el original"
      ]
    },
    {
      "cell_type": "code",
      "execution_count": null,
      "metadata": {
        "id": "i_kM3TQXM47X"
      },
      "outputs": [],
      "source": [
        "import numpy as np\n",
        "\n",
        "arr = np.array([1, 2, 3, 4, 5])\n",
        "x = arr.view()\n",
        "\n",
        "x[0] = 31            # Cambiamos la vista\n",
        "\n",
        "print(\"Array original:\", arr)\n",
        "print(\"Vista:\", x)"
      ]
    },
    {
      "cell_type": "markdown",
      "metadata": {
        "id": "xnLnlnqNM47X"
      },
      "source": [
        "Como `x` es una vista, ambos comparten el mismo espacio de memoria.\n",
        "\n",
        "---\n",
        "\n",
        "## Verificar si un array **posee sus propios datos**\n",
        "\n",
        "Cada array NumPy tiene un atributo especial llamado **`.base`**.\n",
        "\n",
        "* Si `.base` devuelve `None`, el array **posee sus propios datos** (es una copia).\n",
        "* Si `.base` devuelve otro array, significa que **es una vista** de ese array original.\n",
        "\n",
        "Ejemplo:"
      ]
    },
    {
      "cell_type": "code",
      "execution_count": null,
      "metadata": {
        "colab": {
          "base_uri": "https://localhost:8080/"
        },
        "id": "hfk487t7M47X",
        "outputId": "38450d6f-d4a6-4bd8-ab5c-5e65abc27225"
      },
      "outputs": [
        {
          "name": "stdout",
          "output_type": "stream",
          "text": [
            "Base de x: None\n",
            "Base de y: [1 2 3 4 5]\n"
          ]
        }
      ],
      "source": [
        "import numpy as np\n",
        "\n",
        "arr = np.array([1, 2, 3, 4, 5])\n",
        "\n",
        "x = arr.copy()\n",
        "y = arr.view()\n",
        "\n",
        "print(\"Base de x:\", x.base)\n",
        "print(\"Base de y:\", y.base)"
      ]
    },
    {
      "cell_type": "markdown",
      "metadata": {
        "id": "yKyHqnJrM47X"
      },
      "source": [
        "Esto indica que:\n",
        "\n",
        "* `x` (copy) **no depende de nadie**.\n",
        "* `y` (view) **depende de `arr`**, ya que comparte sus datos.\n",
        "\n",
        "---\n",
        "\n",
        "###  Resumen visual\n",
        "\n",
        "| Método    | Independiente del original | Cambios compartidos | `.base`                | Uso típico                                   |\n",
        "| --------- | -------------------------- | ------------------- | ---------------------- | -------------------------------------------- |\n",
        "| `.copy()` | ✅ Sí                       | ❌ No                | `None`                 | Cuando quieres trabajar con una copia segura |\n",
        "| `.view()` | ❌ No                       | ✅ Sí                | referencia al original | Cuando solo necesitas leer o ver los datos   |\n",
        "\n",
        "---\n",
        "\n",
        "## <font color=\"red\"> Actividad práctica 5</font>\n",
        "\n",
        "1. Crea el array:\n",
        "\n",
        "   ```python\n",
        "   arr = np.array([10, 20, 30, 40])\n",
        "   ```\n",
        "\n",
        "   * Haz una **copia** y una **vista**.\n",
        "   * Modifica el primer elemento de `arr`.\n",
        "   * Observa qué cambia en cada uno.\n",
        "\n",
        "2. Usa `.base` para comprobar cuál de los dos (`copy` o `view`) posee sus datos.\n",
        "\n",
        "3. Cambia un valor dentro de la **vista** y comprueba si el cambio afecta al original.\n",
        "\n",
        "4. Reflexiona 💬\n",
        "   ¿Por qué crees que NumPy ofrece las “vistas”?\n",
        "   *(Pista: piensa en la eficiencia y en trabajar con arrays muy grandes).*"
      ]
    },
    {
      "cell_type": "code",
      "execution_count": null,
      "metadata": {
        "id": "4ReiMw7oM47Y"
      },
      "outputs": [],
      "source": []
    },
    {
      "cell_type": "markdown",
      "metadata": {
        "id": "vKYV2wjOM47Y"
      },
      "source": [
        "# Forma de un Array en NumPy\n",
        "\n",
        "## (*Array Shape*)\n",
        "\n",
        "---\n",
        "\n",
        "## ¿Qué significa la “forma” de un array?\n",
        "\n",
        "La **forma** (*shape*) de un array indica **cuántos elementos hay en cada dimensión**.\n",
        "Se expresa mediante una **tupla** de números, uno por cada dimensión del array.\n",
        "\n",
        "Por ejemplo:\n",
        "\n",
        "* Un vector (1-D) tiene solo una dimensión: su longitud.\n",
        "* Una matriz (2-D) tiene dos dimensiones: **número de filas** y **número de columnas**.\n",
        "* Un tensor (3-D o más) tiene más dimensiones anidadas.\n",
        "\n",
        "---\n",
        "\n",
        "##  Obtener la forma de un array\n",
        "\n",
        "NumPy ofrece el atributo `.shape`, que devuelve una **tupla** con el número de elementos en cada dimensión.\n",
        "\n",
        "Ejemplo:"
      ]
    },
    {
      "cell_type": "code",
      "execution_count": null,
      "metadata": {
        "id": "IjKk3PD5M47Y"
      },
      "outputs": [],
      "source": [
        "import numpy as np\n",
        "\n",
        "arr = np.array([[1, 2, 3, 4],\n",
        "                [5, 6, 7, 8]])\n",
        "\n",
        "print(arr.shape)"
      ]
    },
    {
      "cell_type": "markdown",
      "metadata": {
        "id": "pU9ngrt5M47Y"
      },
      "source": [
        "Esto significa que:\n",
        "\n",
        "* La **primera dimensión** (filas) tiene 2 elementos.\n",
        "* La **segunda dimensión** (columnas) tiene 4 elementos.\n",
        "\n",
        "Por tanto, el array tiene forma **2x4**.\n",
        "\n",
        "---\n",
        "\n",
        "### 🔹 Ejemplo visual\n",
        "\n",
        "| Fila | Elementos  |\n",
        "| ---- | ---------- |\n",
        "| 0    | 1  2  3  4 |\n",
        "| 1    | 5  6  7  8 |\n",
        "\n",
        "Forma: `(2, 4)`\n",
        "→ 2 filas × 4 columnas\n",
        "\n",
        "---\n",
        "\n",
        "### Crear arrays con varias dimensiones\n",
        "\n",
        "Podemos usar el argumento `ndmin` al crear el array para **forzar** un número mínimo de dimensiones.\n",
        "\n",
        "Ejemplo:\n"
      ]
    },
    {
      "cell_type": "code",
      "execution_count": null,
      "metadata": {
        "id": "oqj-mSiEM47Z"
      },
      "outputs": [],
      "source": [
        "import numpy as np\n",
        "\n",
        "arr = np.array([1, 2, 3, 4], ndmin=5)\n",
        "\n",
        "print(arr)\n",
        "print(\"Forma del array:\", arr.shape)"
      ]
    },
    {
      "cell_type": "markdown",
      "metadata": {
        "id": "s9g_Owy2M47Z"
      },
      "source": [
        "En este caso:\n",
        "\n",
        "* El array tiene **5 dimensiones**.\n",
        "* La última (5ª) dimensión contiene **4 elementos**.\n",
        "\n",
        "---\n",
        "\n",
        "###  Interpretación de `.shape`\n",
        "\n",
        "Cada número dentro de la tupla indica **cuántos elementos tiene esa dimensión**.\n",
        "\n",
        "Ejemplo:\n",
        "\n",
        "| Dimensión | Valor en `shape` | Significado                            |\n",
        "| --------- | ---------------- | -------------------------------------- |\n",
        "| 1ª        | `1`              | Hay 1 bloque superior                  |\n",
        "| 2ª        | `1`              | Dentro de ese bloque, hay 1 sub-bloque |\n",
        "| 3ª        | `1`              | Dentro de ese sub-bloque, hay 1 matriz |\n",
        "| 4ª        | `1`              | Dentro de la matriz, hay 1 fila        |\n",
        "| 5ª        | `4`              | Y en esa fila hay 4 valores            |\n",
        "\n",
        "Así, la **tupla `(1, 1, 1, 1, 4)`** nos dice que el array tiene 5 niveles de profundidad.\n",
        "\n",
        "---\n",
        "\n",
        "###  Resumen visual\n",
        "\n",
        "| Tipo de array | Ejemplo                          | Forma (`.shape`)  |\n",
        "| ------------- | -------------------------------- | ----------------- |\n",
        "| 1-D (vector)  | `[1, 2, 3, 4]`                   | `(4,)`            |\n",
        "| 2-D (matriz)  | `[[1,2,3],[4,5,6]]`              | `(2, 3)`          |\n",
        "| 3-D (tensor)  | `[[[1,2],[3,4]], [[5,6],[7,8]]]` | `(2, 2, 2)`       |\n",
        "| 5-D           | `np.array([1,2,3,4], ndmin=5)`   | `(1, 1, 1, 1, 4)` |\n",
        "\n",
        "---\n",
        "\n",
        "## <font color=\"red\"> Actividad práctica 6</font>\n",
        "\n",
        "1. Crea los siguientes arrays y muestra su `.shape`:\n",
        "\n",
        "   ```python\n",
        "   import numpy as np\n",
        "\n",
        "   a = np.array([10, 20, 30])\n",
        "   b = np.array([[1, 2, 3], [4, 5, 6]])\n",
        "   c = np.array([[[1, 2], [3, 4]], [[5, 6], [7, 8]]])\n",
        "   ```\n",
        "\n",
        "2. Explica qué significa cada número en la tupla `shape` de `a`, `b` y `c`.\n",
        "\n",
        "3. Crea un array con `ndmin=4` y analiza su estructura.\n",
        "\n",
        "4. Reflexiona\n",
        "\n",
        "   ¿Por qué crees que conocer la forma de un array es importante cuando trabajamos con **modelos de IA o redes neuronales**?\n"
      ]
    },
    {
      "cell_type": "code",
      "execution_count": null,
      "metadata": {
        "id": "SDBPeGe6M47Z"
      },
      "outputs": [],
      "source": []
    },
    {
      "cell_type": "markdown",
      "metadata": {
        "id": "rcMjRPj3M47Z"
      },
      "source": [
        "# Redimensionamiento de Arrays en NumPy\n",
        "\n",
        "## (*Array Reshaping*)\n",
        "\n",
        "---\n",
        "\n",
        "## ¿Qué significa “reshape”?\n",
        "\n",
        "**Reshaping** (redimensionar) significa **cambiar la forma** de un array, es decir, modificar **cuántos elementos hay en cada dimensión** sin alterar los datos originales.\n",
        "\n",
        "Recordemos:\n",
        "\n",
        "La **forma (shape)** de un array indica el número de elementos por dimensión.\n",
        "Con `.reshape()` podemos:\n",
        "\n",
        "* Añadir o quitar dimensiones.\n",
        "* Reorganizar los datos en una estructura diferente.\n",
        "\n",
        "➡️ **Muy habitual en Machine Learning para adaptar los datos a la forma esperada por el modelo.**\n",
        "\n",
        "Se usa cuando necesitamos cambiar la estructura del array sin modificar sus valores, por ejemplo:\n",
        "\n",
        "* Convertir un vector 1D en una matriz 2D (`(n_muestras, n_características)`).\n",
        "* Aplanar o reconstruir datos tras unir, dividir o filtrar.\n",
        "* Preparar las entradas de los modelos (por ejemplo, en regresión o redes neuronales).\n",
        "\n",
        "---\n",
        "\n",
        "#### 🔹 De 1-D a 2-D\n",
        "\n",
        "Podemos convertir un **array unidimensional** (1-D) en uno **bidimensional** (2-D).\n",
        "\n",
        "Ejemplo:"
      ]
    },
    {
      "cell_type": "code",
      "execution_count": null,
      "metadata": {
        "colab": {
          "base_uri": "https://localhost:8080/"
        },
        "id": "tV6wvLBZM47a",
        "outputId": "ec1e88e0-1055-40cf-a0a3-12f7d8fd41e0"
      },
      "outputs": [
        {
          "name": "stdout",
          "output_type": "stream",
          "text": [
            "[[ 1  2  3]\n",
            " [ 4  5  6]\n",
            " [ 7  8  9]\n",
            " [10 11 12]]\n"
          ]
        }
      ],
      "source": [
        "import numpy as np\n",
        "\n",
        "arr = np.array([1, 2, 3, 4, 5, 6, 7, 8, 9, 10, 11, 12])\n",
        "newarr = arr.reshape(4, 3)\n",
        "\n",
        "print(newarr)"
      ]
    },
    {
      "cell_type": "markdown",
      "metadata": {
        "id": "-WgLR8F1M47a"
      },
      "source": [
        "Aquí:\n",
        "\n",
        "* El array original tiene 12 elementos.\n",
        "* El nuevo tiene **4 filas × 3 columnas** → `(4, 3)` = 12 elementos totales.\n",
        "\n",
        "---\n",
        "\n",
        "#### 🔹 De 1-D a 3-D\n",
        "\n",
        "También podemos crear arrays tridimensionales (3-D), útiles en *Machine Learning* o *procesamiento de imágenes*.\n",
        "\n",
        "Ejemplo:"
      ]
    },
    {
      "cell_type": "code",
      "execution_count": null,
      "metadata": {
        "colab": {
          "base_uri": "https://localhost:8080/"
        },
        "id": "yKO9uTFzM47b",
        "outputId": "c3f8cba7-4676-45b3-b676-0ea91e82062a"
      },
      "outputs": [
        {
          "name": "stdout",
          "output_type": "stream",
          "text": [
            "[[[ 1  2]\n",
            "  [ 3  4]\n",
            "  [ 5  6]]\n",
            "\n",
            " [[ 7  8]\n",
            "  [ 9 10]\n",
            "  [11 12]]]\n"
          ]
        }
      ],
      "source": [
        "arr = np.array([1, 2, 3, 4, 5, 6, 7, 8, 9, 10, 11, 12])\n",
        "newarr = arr.reshape(2, 3, 2)\n",
        "\n",
        "print(newarr)"
      ]
    },
    {
      "cell_type": "markdown",
      "metadata": {
        "id": "e1QsmHStM47b"
      },
      "source": [
        "Significa:\n",
        "\n",
        "* 2 bloques,\n",
        "* cada bloque con 3 filas,\n",
        "* y cada fila con 2 columnas → **2×3×2 = 12 elementos**.\n",
        "\n",
        "---\n",
        "\n",
        "#### ❌ No todas las formas son posibles\n",
        "\n",
        "Solo podemos usar `.reshape()` si el **número total de elementos** coincide antes y después.\n",
        "\n",
        "Ejemplo que da error:"
      ]
    },
    {
      "cell_type": "code",
      "execution_count": null,
      "metadata": {
        "id": "s3uzAnXOM47c"
      },
      "outputs": [],
      "source": [
        "arr = np.array([1, 2, 3, 4, 5, 6, 7, 8])\n",
        "newarr = arr.reshape(3, 3)  # ❌ Error: 8 ≠ 9"
      ]
    },
    {
      "cell_type": "markdown",
      "metadata": {
        "id": "JSSHpW0dM47d"
      },
      "source": [
        "NumPy mostrará:\n",
        "\n",
        "```\n",
        "ValueError: cannot reshape array of size 8 into shape (3,3)\n",
        "```\n",
        "\n",
        "---\n",
        "\n",
        "#### 🔍 ¿Copia o vista?\n",
        "\n",
        "Por defecto, `reshape()` devuelve una **vista (view)** del array original si es posible.\n",
        "\n",
        "Podemos comprobarlo con el atributo `.base`:"
      ]
    },
    {
      "cell_type": "code",
      "execution_count": null,
      "metadata": {
        "id": "zJB_cI17M47e"
      },
      "outputs": [],
      "source": [
        "import numpy as np\n",
        "\n",
        "arr = np.array([1, 2, 3, 4, 5, 6, 7, 8])\n",
        "print(arr.reshape(2, 4).base)"
      ]
    },
    {
      "cell_type": "markdown",
      "metadata": {
        "id": "fGMlzJaeM47f"
      },
      "source": [
        " Devuelve el array original → es una **vista**, no una copia.\n",
        "Si modificas el nuevo array, también cambia el original.\n",
        "\n",
        "---\n",
        "\n",
        "#### 🔸 Dimensión desconocida (-1)\n",
        "\n",
        "Podemos dejar que NumPy **calcule automáticamente** una de las dimensiones usando `-1`.\n",
        "\n",
        "Ejemplo:"
      ]
    },
    {
      "cell_type": "code",
      "execution_count": null,
      "metadata": {
        "id": "ZWn_P2q4M47g"
      },
      "outputs": [],
      "source": [
        "arr = np.array([1, 2, 3, 4, 5, 6, 7, 8])\n",
        "newarr = arr.reshape(2, 2, -1)\n",
        "\n",
        "print(newarr)"
      ]
    },
    {
      "cell_type": "markdown",
      "metadata": {
        "id": "QACOFJxpM47g"
      },
      "source": [
        "Aquí NumPy calculó que la última dimensión debía ser 2, porque:\n",
        "`2 × 2 × 2 = 8` elementos totales.\n",
        "\n",
        "📌 Solo se puede usar **un -1** por reshape.\n",
        "\n",
        "---\n",
        "\n",
        "#### 🔻 Aplanar (Flattening)\n",
        "\n",
        "“Aplanar” un array significa **convertir un array multidimensional en uno de una sola dimensión (1-D)**.\n",
        "\n",
        "Podemos hacerlo con:\n",
        "\n",
        "```python\n",
        "newarr = arr.reshape(-1)\n",
        "```\n",
        "\n",
        "Ejemplo:"
      ]
    },
    {
      "cell_type": "code",
      "execution_count": null,
      "metadata": {
        "id": "HnRJEVI0M47h"
      },
      "outputs": [],
      "source": [
        "import numpy as np\n",
        "\n",
        "arr = np.array([[1, 2, 3],\n",
        "                [4, 5, 6]])\n",
        "\n",
        "newarr = arr.reshape(-1)\n",
        "\n",
        "print(newarr)"
      ]
    },
    {
      "cell_type": "markdown",
      "metadata": {
        "id": "yZj7kJP6M47h"
      },
      "source": [
        "También existen otros métodos como `flatten()` o `ravel()`, pero `reshape(-1)` es el más sencillo y directo.\n",
        "\n",
        "---\n",
        "\n",
        "###  Resumen visual\n",
        "\n",
        "| Operación             | Código                         | Resultado / Forma               |\n",
        "| --------------------- | ------------------------------ | ------------------------------- |\n",
        "| 1-D → 2-D             | `reshape(4,3)`                 | `(4,3)`                         |\n",
        "| 1-D → 3-D             | `reshape(2,3,2)`               | `(2,3,2)`                       |\n",
        "| Forma incorrecta      | `reshape(3,3)` con 8 elementos | ❌ Error                         |\n",
        "| Vista del original    | `.reshape(...).base`           | Muestra el array original       |\n",
        "| Dimensión desconocida | `reshape(2,2,-1)`              | NumPy calcula el valor faltante |\n",
        "| Aplanar               | `reshape(-1)`                  | `(n,)` vector 1D                |\n",
        "\n",
        "---\n",
        "\n",
        "## <font color=\"red\"> Actividad práctica 6</font>\n",
        "\n",
        "1. Crea un array con los números del 1 al 12.\n",
        "\n",
        "   * Conviértelo en un array 3×4.\n",
        "   * Luego conviértelo en un array 2×3×2.\n",
        "   * Comprueba sus `.shape` en cada caso.\n",
        "\n",
        "2. Prueba a aplicar `reshape(3,3)` sobre un array con 8 elementos y observa el error que aparece.\n",
        "\n",
        "3. Usa `reshape(2, -1)` sobre el array `[1,2,3,4,5,6]` y explica qué hace NumPy con el `-1`.\n",
        "\n",
        "4. Convierte una matriz 2-D cualquiera en un array 1-D usando `reshape(-1)` y dibuja su estructura antes y después."
      ]
    },
    {
      "cell_type": "code",
      "execution_count": null,
      "metadata": {
        "id": "9kTzOETTM47h"
      },
      "outputs": [],
      "source": []
    },
    {
      "cell_type": "markdown",
      "metadata": {
        "id": "0Ah0FX1MM47i"
      },
      "source": [
        "# Iteración en Arrays de NumPy\n",
        "\n",
        "## (*Array Iterating*)\n",
        "\n",
        "---\n",
        "\n",
        "## ¿Qué significa “iterar”?\n",
        "\n",
        "**Iterar** significa **recorrer los elementos de un array uno por uno**.\n",
        "En Python, esto se hace normalmente con un **bucle `for`**, y NumPy permite hacerlo con arrays de cualquier número de dimensiones.\n",
        "\n",
        "---\n",
        "\n",
        "### 🔹 Iterar sobre un array 1-D\n",
        "\n",
        "Cuando recorremos un array unidimensional, el bucle pasa por **cada elemento** de manera secuencial."
      ]
    },
    {
      "cell_type": "code",
      "execution_count": null,
      "metadata": {
        "id": "UQtI1dE7M47i"
      },
      "outputs": [],
      "source": [
        "import numpy as np\n",
        "\n",
        "arr = np.array([1, 2, 3])\n",
        "\n",
        "for x in arr:\n",
        "    print(x)"
      ]
    },
    {
      "cell_type": "markdown",
      "metadata": {
        "id": "c8Sq7PN4M47i"
      },
      "source": [
        "Este tipo de bucle es idéntico al de una lista de Python.\n",
        "\n",
        "---\n",
        "\n",
        "#### 🔹 Iterar sobre un array 2-D\n",
        "\n",
        "En un array bidimensional, el bucle recorre **cada fila** (no los elementos individuales todavía)."
      ]
    },
    {
      "cell_type": "code",
      "execution_count": null,
      "metadata": {
        "id": "vxulEDVkM47j"
      },
      "outputs": [],
      "source": [
        "import numpy as np\n",
        "\n",
        "arr = np.array([[1, 2, 3],\n",
        "                [4, 5, 6]])\n",
        "\n",
        "for x in arr:\n",
        "    print(x)"
      ]
    },
    {
      "cell_type": "markdown",
      "metadata": {
        "id": "niaeXSZWM47j"
      },
      "source": [
        "Cada `x` es una **submatriz 1-D** (una fila del array).\n",
        "\n",
        "---\n",
        "\n",
        "#####  Recorrer cada elemento (escalares)\n",
        "\n",
        "Para acceder a los valores individuales, se anidan bucles:"
      ]
    },
    {
      "cell_type": "code",
      "execution_count": 1,
      "metadata": {
        "id": "RqyvurOuM47k"
      },
      "outputs": [],
      "source": [
        "import numpy as np\n",
        "\n",
        "arr = np.array([[1, 2, 3],\n",
        "                [4, 5, 6]])"
      ]
    },
    {
      "cell_type": "code",
      "execution_count": 2,
      "metadata": {
        "colab": {
          "base_uri": "https://localhost:8080/"
        },
        "id": "6NyrnATWM47k",
        "outputId": "939671fd-35f9-461f-bbf2-9c30d31927e2"
      },
      "outputs": [
        {
          "name": "stdout",
          "output_type": "stream",
          "text": [
            "1\n",
            "2\n",
            "3\n",
            "4\n",
            "5\n",
            "6\n"
          ]
        }
      ],
      "source": [
        "for x in arr:\n",
        "    for y in x:\n",
        "        print(y)"
      ]
    },
    {
      "cell_type": "markdown",
      "metadata": {
        "id": "lzPsrNpGM47k"
      },
      "source": [
        "---\n",
        "\n",
        "#### 🔹 Iterar sobre un array 3-D\n",
        "\n",
        "Un array tridimensional contiene **matrices 2-D** en su interior."
      ]
    },
    {
      "cell_type": "code",
      "execution_count": null,
      "metadata": {
        "colab": {
          "base_uri": "https://localhost:8080/"
        },
        "id": "pN5YN2hJM47l",
        "outputId": "655a2a93-699b-41f0-82ad-a2d00527023a"
      },
      "outputs": [
        {
          "name": "stdout",
          "output_type": "stream",
          "text": [
            "[[1 2 3]\n",
            " [4 5 6]]\n",
            "[[ 7  8  9]\n",
            " [10 11 12]]\n"
          ]
        }
      ],
      "source": [
        "import numpy as np\n",
        "\n",
        "arr = np.array([\n",
        "  [[1, 2, 3], [4, 5, 6]],\n",
        "  [[7, 8, 9], [10, 11, 12]]\n",
        "])\n",
        "\n",
        "for x in arr:\n",
        "    print(x)"
      ]
    },
    {
      "cell_type": "markdown",
      "metadata": {
        "id": "rCSSNEzcM47l"
      },
      "source": [
        "---\n",
        "\n",
        "#####  Recorrer todos los valores escalares\n",
        "\n",
        "Para llegar hasta los números individuales:"
      ]
    },
    {
      "cell_type": "code",
      "execution_count": null,
      "metadata": {
        "id": "Tw42MCqJM47l"
      },
      "outputs": [],
      "source": [
        "for x in arr:\n",
        "    for y in x:\n",
        "        for z in y:\n",
        "            print(z)"
      ]
    },
    {
      "cell_type": "markdown",
      "metadata": {
        "id": "vaMPw1MsM47m"
      },
      "source": [
        "Cada nivel del bucle accede a una dimensión más profunda.\n",
        "\n",
        "---\n",
        "\n",
        "#### Usar `np.nditer()` (Iterador avanzado)\n",
        "\n",
        "Cuando el array tiene muchas dimensiones, escribir bucles anidados se vuelve complicado.\n",
        "Para eso, NumPy ofrece **`np.nditer()`**, que permite recorrer todos los elementos (escalares) **sin importar la cantidad de dimensiones**.\n",
        "\n",
        "Ejemplo:"
      ]
    },
    {
      "cell_type": "code",
      "execution_count": null,
      "metadata": {
        "id": "ktY9ktNsM47m"
      },
      "outputs": [],
      "source": [
        "import numpy as np\n",
        "\n",
        "arr = np.array([\n",
        "  [[1, 2], [3, 4]],\n",
        "  [[5, 6], [7, 8]]\n",
        "])\n",
        "\n",
        "for x in np.nditer(arr):\n",
        "    print(x)"
      ]
    },
    {
      "cell_type": "markdown",
      "metadata": {
        "id": "qpk7WT2AM47n"
      },
      "source": [
        "`nditer()` recorre **todos los elementos** del array, sin importar su forma.\n",
        "\n",
        "---\n",
        "\n",
        "#### Cambiar el tipo de dato durante la iteración\n",
        "\n",
        "Podemos usar el argumento `op_dtypes` para transformar temporalmente los tipos de dato mientras iteramos."
      ]
    },
    {
      "cell_type": "code",
      "execution_count": null,
      "metadata": {
        "id": "uSQZcQ4iM47n"
      },
      "outputs": [],
      "source": [
        "import numpy as np\n",
        "\n",
        "arr = np.array([1, 2, 3])\n",
        "\n",
        "for x in np.nditer(arr, flags=['buffered'], op_dtypes=['S']):\n",
        "    print(x)"
      ]
    },
    {
      "cell_type": "markdown",
      "metadata": {
        "id": "DISg474rM47o"
      },
      "source": [
        "Se convierten los valores numéricos en cadenas de texto (`bytes`).\n",
        "\n",
        "El parámetro `flags=['buffered']` permite crear un **espacio temporal** para convertir los datos sin modificar el array original.\n",
        "\n",
        "---\n",
        "\n",
        "#### Iterar con paso (step)\n",
        "\n",
        "Podemos combinar **rebanado (slicing)** con la iteración.\n",
        "\n",
        "Ejemplo:"
      ]
    },
    {
      "cell_type": "code",
      "execution_count": null,
      "metadata": {
        "id": "tTd5qCQkM47o"
      },
      "outputs": [],
      "source": [
        "import numpy as np\n",
        "\n",
        "arr = np.array([[1, 2, 3, 4],\n",
        "                [5, 6, 7, 8]])\n",
        "\n",
        "for x in np.nditer(arr[:, ::2]):\n",
        "    print(x)"
      ]
    },
    {
      "cell_type": "markdown",
      "metadata": {
        "id": "ZdHEXegUM47o"
      },
      "source": [
        "Aquí `arr[:, ::2]` selecciona **todas las filas** pero **solo las columnas pares** (saltando de 2 en 2).\n",
        "\n",
        "---\n",
        "\n",
        "#### Iteración con índices → `np.ndenumerate()`\n",
        "\n",
        "Si además de los valores quieres saber **la posición (índice)** de cada elemento, usa `ndenumerate()`.\n",
        "\n",
        "##### Ejemplo 1 — Array 1-D"
      ]
    },
    {
      "cell_type": "code",
      "execution_count": null,
      "metadata": {
        "id": "i_D-s-GhM47p"
      },
      "outputs": [],
      "source": [
        "import numpy as np\n",
        "\n",
        "arr = np.array([1, 2, 3])\n",
        "\n",
        "for idx, x in np.ndenumerate(arr):\n",
        "    print(idx, x)"
      ]
    },
    {
      "cell_type": "markdown",
      "metadata": {
        "id": "mtkoK2zxM47p"
      },
      "source": [
        "---\n",
        "\n",
        "####  Ejemplo 2 — Array 2-D"
      ]
    },
    {
      "cell_type": "code",
      "execution_count": null,
      "metadata": {
        "id": "cjhkOAbkM47q"
      },
      "outputs": [],
      "source": [
        "arr = np.array([[1, 2, 3, 4],\n",
        "                [5, 6, 7, 8]])\n",
        "\n",
        "for idx, x in np.ndenumerate(arr):\n",
        "    print(idx, x)"
      ]
    },
    {
      "cell_type": "markdown",
      "metadata": {
        "id": "ZZvcEjDoM47q"
      },
      "source": [
        "Cada tupla `(fila, columna)` indica la posición del valor dentro del array.\n",
        "\n",
        "---\n",
        "\n",
        "###  Resumen visual\n",
        "\n",
        "| Método                            | Qué recorre              | Devuelve                | Ejemplo               |\n",
        "| --------------------------------- | ------------------------ | ----------------------- | --------------------- |\n",
        "| `for x in arr`                    | Filas o subarrays        | Arrays 1-D o 2-D        | `for x in arr:`       |\n",
        "| `np.nditer(arr)`                  | Todos los elementos      | Escalares               | Iteración total       |\n",
        "| `np.nditer(..., op_dtypes=['S'])` | Todos los elementos      | Convertidos a otro tipo | Temporales con buffer |\n",
        "| `np.nditer(arr[:, ::2])`          | Subconjunto de elementos | Escalares               | Iteración con paso    |\n",
        "| `np.ndenumerate(arr)`             | Elementos + índice       | (índice, valor)         | Con posición exacta   |\n",
        "\n",
        "---\n",
        "\n",
        "## <font color=\"red\"> Actividad práctica 7</font>\n",
        "\n",
        "1. Crea el array:\n",
        "\n",
        "   ```python\n",
        "   import numpy as np\n",
        "   arr = np.array([[10, 20, 30], [40, 50, 60]])\n",
        "   ```\n",
        "\n",
        "   * Recorre el array con un `for` simple (deberías ver las filas).\n",
        "   * Luego recorre **cada elemento** con bucles anidados.\n",
        "   * Después, usa `np.nditer()` para hacerlo en una sola línea.\n",
        "\n",
        "2. Crea un array 3-D con `np.arange(1, 13).reshape(2, 3, 2)`\n",
        "\n",
        "   * Usa `np.ndenumerate()` para imprimir el índice y el valor.\n",
        "\n",
        "3. Explica con tus palabras:\n",
        "\n",
        "   * ¿Qué ventajas tiene usar `np.nditer()` frente a bucles anidados normales?\n",
        "   * ¿En qué casos crees que sería útil `ndenumerate()`?\n"
      ]
    },
    {
      "cell_type": "code",
      "execution_count": null,
      "metadata": {
        "id": "wA3E0gIqM47q"
      },
      "outputs": [],
      "source": []
    },
    {
      "cell_type": "markdown",
      "metadata": {
        "id": "2-hq7lMdM47r"
      },
      "source": [
        "\n",
        "# 🔝 Unir arrays en NumPy\n",
        "\n",
        "En NumPy, **unir arrays** significa poner el contenido de dos o más arrays juntos en uno solo.\n",
        "\n",
        "📘 Si vienes del mundo de las bases de datos (SQL), allí un *join* une tablas según una clave.\n",
        "En NumPy, unimos arrays según sus **ejes (axes)**.\n",
        "\n",
        "**Muy frecuente en preparación de datos**\n",
        "\n",
        "Estas funciones se usan al:\n",
        "\n",
        "* Combinar conjuntos de entrenamiento y validación.\n",
        "* Unir columnas de características (`features`) o etiquetas (`labels`).\n",
        "\n",
        "Ejemplo:\n",
        "\n",
        "```python\n",
        "X_full = np.concatenate((X_train, X_test))\n",
        "y_full = np.concatenate((y_train, y_test))\n",
        "```\n",
        "\n",
        "👉 En proyectos de ML siempre hay momentos en que necesitas **fusionar o trocear matrices de datos**.\n",
        "\n",
        "\n",
        "---\n",
        "\n",
        "##  1. Concatenar arrays con `np.concatenate()`\n",
        "\n",
        "La función `concatenate()` sirve para **unir arrays existentes a lo largo de un eje**.\n",
        "\n",
        "📏 Si no indicas el eje, por defecto usa `axis=0` (filas).\n",
        "\n",
        "### Ejemplo: unir dos arrays 1D"
      ]
    },
    {
      "cell_type": "code",
      "execution_count": null,
      "metadata": {
        "colab": {
          "base_uri": "https://localhost:8080/"
        },
        "id": "lJM_bqYVM47r",
        "outputId": "a866b523-e4c6-436a-e7db-50fb2116b74a"
      },
      "outputs": [
        {
          "name": "stdout",
          "output_type": "stream",
          "text": [
            "[1 2 3 4 5 6]\n"
          ]
        }
      ],
      "source": [
        "import numpy as np\n",
        "\n",
        "arr1 = np.array([1, 2, 3])\n",
        "arr2 = np.array([4, 5, 6])\n",
        "\n",
        "arr = np.concatenate((arr1, arr2))\n",
        "print(arr)"
      ]
    },
    {
      "cell_type": "markdown",
      "metadata": {
        "id": "odGP36RDM47s"
      },
      "source": [
        "\n",
        "---\n",
        "\n",
        "### Ejemplo: unir dos arrays 2D por columnas (`axis=1`)"
      ]
    },
    {
      "cell_type": "code",
      "execution_count": null,
      "metadata": {
        "colab": {
          "base_uri": "https://localhost:8080/"
        },
        "id": "KaWjGNerM47s",
        "outputId": "665a7fb9-b8cb-41a4-e1be-0b944ecd55e1"
      },
      "outputs": [
        {
          "name": "stdout",
          "output_type": "stream",
          "text": [
            "[[1 2 5 6]\n",
            " [3 4 7 8]]\n"
          ]
        }
      ],
      "source": [
        "import numpy as np\n",
        "\n",
        "arr1 = np.array([[1, 2], [3, 4]])\n",
        "arr2 = np.array([[5, 6], [7, 8]])\n",
        "\n",
        "arr = np.concatenate((arr1, arr2), axis=1)\n",
        "print(arr)"
      ]
    },
    {
      "cell_type": "markdown",
      "metadata": {
        "id": "5iPC2ibKM47s"
      },
      "source": [
        "**Regla importante:**\n",
        "Las dimensiones deben coincidir en todos los ejes excepto en el que estás concatenando.\n",
        "\n",
        "---\n",
        "\n",
        "##  2. Apilar arrays con `np.stack()`\n",
        "\n",
        "“Apilar” (*stacking*) es muy parecido a concatenar, pero **crea un nuevo eje**.\n",
        "En otras palabras, no une sobre un eje existente, sino que añade una nueva dimensión.\n",
        "\n",
        "###  Ejemplo:\n"
      ]
    },
    {
      "cell_type": "code",
      "execution_count": 3,
      "metadata": {
        "colab": {
          "base_uri": "https://localhost:8080/"
        },
        "id": "A8mFLk8NM47s",
        "outputId": "28540c4a-ead4-455d-d3b9-2aaab9115917"
      },
      "outputs": [
        {
          "name": "stdout",
          "output_type": "stream",
          "text": [
            "[[1 4]\n",
            " [2 5]\n",
            " [3 6]]\n"
          ]
        }
      ],
      "source": [
        "import numpy as np\n",
        "\n",
        "arr1 = np.array([1, 2, 3])\n",
        "arr2 = np.array([4, 5, 6])\n",
        "\n",
        "arr = np.stack((arr1, arr2), axis=1)\n",
        "print(arr)"
      ]
    },
    {
      "cell_type": "code",
      "execution_count": 4,
      "metadata": {},
      "outputs": [
        {
          "name": "stdout",
          "output_type": "stream",
          "text": [
            "[[1 2 3]\n",
            " [4 5 6]]\n"
          ]
        }
      ],
      "source": [
        "arr = np.stack((arr1, arr2), axis=0)\n",
        "print(arr)"
      ]
    },
    {
      "cell_type": "markdown",
      "metadata": {
        "id": "QSANi8yKM47t"
      },
      "source": [
        "En el primer caso, se ha creado un eje nuevo (columnas).\n",
        "Si usamos `axis=0`, los arrays se apilarían uno encima del otro.\n",
        "Si usamos `axis=1`, se apilan uno al lado del otro.\n",
        "\n",
        "---\n",
        "\n",
        "## 3. Funciones especiales para apilar más fácilmente\n",
        "\n",
        "NumPy tiene versiones simplificadas de `stack()` para casos comunes:\n",
        "\n",
        "| Función       | Qué hace                               | Eje |\n",
        "| ------------- | -------------------------------------- | --- |\n",
        "| `np.hstack()` | Une horizontalmente (filas → columnas) | 1   |\n",
        "| `np.vstack()` | Une verticalmente (una sobre otra)     | 0   |\n",
        "| `np.dstack()` | Une en profundidad (altura o “capas”)  | 2   |\n",
        "\n",
        "---\n",
        "\n",
        "### Ejemplo: `hstack()` (horizontal)"
      ]
    },
    {
      "cell_type": "code",
      "execution_count": null,
      "metadata": {
        "id": "pJYp2CzvM47t"
      },
      "outputs": [],
      "source": [
        "import numpy as np\n",
        "\n",
        "arr1 = np.array([1, 2, 3])\n",
        "arr2 = np.array([4, 5, 6])\n",
        "\n",
        "arr = np.hstack((arr1, arr2))\n",
        "print(arr)\n",
        "# [1 2 3 4 5 6]"
      ]
    },
    {
      "cell_type": "markdown",
      "metadata": {
        "id": "Pdp1MIdgM47u"
      },
      "source": [
        "---\n",
        "\n",
        "##### Ejemplo: `vstack()` (vertical)"
      ]
    },
    {
      "cell_type": "code",
      "execution_count": null,
      "metadata": {
        "id": "s7Uhbea2M47u"
      },
      "outputs": [],
      "source": [
        "import numpy as np\n",
        "\n",
        "arr1 = np.array([1, 2, 3])\n",
        "arr2 = np.array([4, 5, 6])\n",
        "\n",
        "arr = np.vstack((arr1, arr2))\n",
        "print(arr)"
      ]
    },
    {
      "cell_type": "markdown",
      "metadata": {
        "id": "nNIHvDRpM47v"
      },
      "source": [
        "---\n",
        "\n",
        "#### Ejemplo: `dstack()` (profundidad)"
      ]
    },
    {
      "cell_type": "code",
      "execution_count": null,
      "metadata": {
        "id": "P7KZip3JM47v"
      },
      "outputs": [],
      "source": [
        "import numpy as np\n",
        "\n",
        "arr1 = np.array([1, 2, 3])\n",
        "arr2 = np.array([4, 5, 6])\n",
        "\n",
        "arr = np.dstack((arr1, arr2))\n",
        "print(arr)"
      ]
    },
    {
      "cell_type": "markdown",
      "metadata": {
        "id": "AuzhoCZAM47v"
      },
      "source": [
        "Esto se usa mucho en imágenes o datos 3D, donde cada capa representa algo distinto (por ejemplo, canales de color RGB).\n",
        "\n",
        "---\n",
        "\n",
        "### En resumen\n",
        "\n",
        "| Método          | Crea nuevo eje | Dirección de unión            | Ejemplo visual                          |\n",
        "| --------------- | -------------- | ----------------------------- | --------------------------------------- |\n",
        "| `concatenate()` | ❌              | eje existente (por defecto 0) | `[1,2,3] + [4,5,6] → [1,2,3,4,5,6]`     |\n",
        "| `stack()`       | ✅              | nuevo eje                     | crea matriz 2D o 3D                     |\n",
        "| `hstack()`      | ❌              | horizontal (columnas)         | `[1,2,3]` + `[4,5,6]` → `[1,2,3,4,5,6]` |\n",
        "| `vstack()`      | ❌              | vertical (filas)              | crea 2 filas                            |\n",
        "| `dstack()`      | ✅              | profundidad (capas)           | útil en imágenes                        |\n",
        "\n",
        "Perfecto 👌.\n",
        "Aquí tienes una **actividad sencilla**, en el mismo formato y nivel que la que has mostrado, para cerrar la parte de *unión de arrays*:\n",
        "\n",
        "---\n",
        "\n",
        "## <font color=\"red\">Actividad práctica 8</font>\n",
        "\n",
        "1. Crea los siguientes arrays:\n",
        "\n",
        "   ```python\n",
        "   import numpy as np\n",
        "   a = np.array([1, 2, 3])\n",
        "   b = np.array([4, 5, 6])\n",
        "   ```\n",
        "\n",
        "   * Une los dos arrays con `np.concatenate()`.\n",
        "   * Luego haz lo mismo con `np.stack((a, b), axis=1)` y observa la diferencia.\n",
        "   * Imprime ambos resultados y sus formas (`.shape`).\n",
        "\n",
        "---\n",
        "\n",
        "2. Crea los arrays:\n",
        "\n",
        "   ```python\n",
        "   x = np.array([[1, 2], [3, 4]])\n",
        "   y = np.array([[5, 6], [7, 8]])\n",
        "   ```\n",
        "\n",
        "   * Únelos horizontalmente con `np.hstack((x, y))`.\n",
        "   * Únelos verticalmente con `np.vstack((x, y))`.\n",
        "   * Comprueba con `.shape` cómo cambia la dimensión del array.\n",
        "\n",
        "---\n",
        "\n",
        "3. Explica con tus palabras:\n",
        "\n",
        "   * ¿Qué diferencia hay entre `concatenate()` y `stack()`?\n",
        "   * ¿En qué caso usarías `hstack()` o `vstack()` en lugar de `concatenate()`?\n",
        "\n",
        "---\n",
        "\n"
      ]
    },
    {
      "cell_type": "markdown",
      "metadata": {
        "id": "ybQihjD-M47w"
      },
      "source": []
    },
    {
      "cell_type": "markdown",
      "metadata": {
        "id": "Zan9ACc8M47w"
      },
      "source": [
        "\n",
        "# 🔝 NumPy: Dividir arrays (*Splitting arrays*)\n",
        "\n",
        "La **división de arrays** es la operación contraria a la unión (*joining*).\n",
        "Mientras **unir (join)** combina varios arrays en uno solo, **dividir (split)** separa un array en varias partes más pequeñas.\n",
        "\n",
        "➡️ **Muy frecuente en la preparación de datos para Machine Learning**\n",
        "\n",
        "Estas funciones se usan para **separar datasets grandes** en varios subconjuntos, por ejemplo:\n",
        "\n",
        "* Entrenamiento y prueba (`train` / `test`).\n",
        "* Entrenamiento, validación y prueba (`train` / `val` / `test`).\n",
        "* Particiones de datos para validación cruzada.\n",
        "\n",
        "---\n",
        "\n",
        "## 🔹 1. Dividir arrays 1D con `np.array_split()`\n",
        "\n",
        "La función `np.array_split()` sirve para **dividir un array en varias partes**.\n",
        "Se le indica:\n",
        "\n",
        "1. El array que queremos dividir.\n",
        "2. El número de partes.\n",
        "\n",
        "### Ejemplo: dividir en 3 partes"
      ]
    },
    {
      "cell_type": "code",
      "execution_count": null,
      "metadata": {
        "colab": {
          "base_uri": "https://localhost:8080/"
        },
        "id": "usDnyV9lM47w",
        "outputId": "2a88b2cc-9664-4fb1-f31c-85b8daf290c9"
      },
      "outputs": [
        {
          "name": "stdout",
          "output_type": "stream",
          "text": [
            "[array([1, 2]), array([3, 4]), array([5, 6])]\n"
          ]
        }
      ],
      "source": [
        "import numpy as np\n",
        "\n",
        "arr = np.array([1, 2, 3, 4, 5, 6])\n",
        "newarr = np.array_split(arr, 3)\n",
        "\n",
        "print(newarr)"
      ]
    },
    {
      "cell_type": "markdown",
      "metadata": {
        "id": "XrTdaeebM47x"
      },
      "source": [
        "El resultado es una **lista** que contiene tres arrays separados.\n",
        "\n",
        "---\n",
        "\n",
        "### Ejemplo: dividir en 4 partes"
      ]
    },
    {
      "cell_type": "code",
      "execution_count": null,
      "metadata": {
        "colab": {
          "base_uri": "https://localhost:8080/"
        },
        "id": "IK3diLzeM47x",
        "outputId": "f0a53627-4540-4120-e746-938d9c1724f2"
      },
      "outputs": [
        {
          "name": "stdout",
          "output_type": "stream",
          "text": [
            "[array([1, 2]), array([3, 4]), array([5]), array([6])]\n"
          ]
        }
      ],
      "source": [
        "import numpy as np\n",
        "\n",
        "arr = np.array([1, 2, 3, 4, 5, 6])\n",
        "newarr = np.array_split(arr, 4)\n",
        "\n",
        "print(newarr)"
      ]
    },
    {
      "cell_type": "markdown",
      "metadata": {
        "id": "KwiRsf3rM47x"
      },
      "source": [
        "Si el número de elementos no se reparte exactamente, NumPy ajusta las divisiones automáticamente desde el final.\n",
        "\n",
        " **Nota:**\n",
        "Existe otra función llamada `split()`, pero **falla** si el número de elementos no encaja exactamente en las divisiones.\n",
        "Por eso se recomienda usar **`array_split()`**.\n",
        "\n",
        "---\n",
        "\n",
        "## 2. Acceder a las partes del resultado\n",
        "\n",
        "El resultado de `array_split()` es una lista.\n",
        "Podemos acceder a cada parte igual que accedemos a los elementos de una lista normal:"
      ]
    },
    {
      "cell_type": "code",
      "execution_count": null,
      "metadata": {
        "colab": {
          "base_uri": "https://localhost:8080/"
        },
        "id": "tdvIxIXaM47y",
        "outputId": "f677ae4b-48ac-491f-eae9-87e95a7713fd"
      },
      "outputs": [
        {
          "name": "stdout",
          "output_type": "stream",
          "text": [
            "[1 2]\n",
            "[3]\n",
            "[4]\n"
          ]
        }
      ],
      "source": [
        "import numpy as np\n",
        "\n",
        "arr = np.array([1, 2, 3, 4, 5, 6])\n",
        "newarr = np.array_split(arr, 3)\n",
        "\n",
        "print(newarr[0])   # primera parte\n",
        "print(newarr[1])   # segunda parte\n",
        "print(newarr[2])   # tercera parte"
      ]
    },
    {
      "cell_type": "markdown",
      "metadata": {
        "id": "qmV8vbO-M47y"
      },
      "source": [
        "---\n",
        "\n",
        "## 3. Dividir arrays 2D\n",
        "\n",
        "Funciona exactamente igual con arrays de dos dimensiones.\n",
        "\n",
        "#### Ejemplo: dividir en tres arrays 2D\n"
      ]
    },
    {
      "cell_type": "code",
      "execution_count": null,
      "metadata": {
        "colab": {
          "base_uri": "https://localhost:8080/"
        },
        "id": "c-_xUkR5M47y",
        "outputId": "e55252fb-51ba-4b3a-caf9-cfb7b476bead"
      },
      "outputs": [
        {
          "name": "stdout",
          "output_type": "stream",
          "text": [
            "[array([[1, 2],\n",
            "       [3, 4]]), array([[5, 6],\n",
            "       [7, 8]]), array([[ 9, 10],\n",
            "       [11, 12]])]\n"
          ]
        }
      ],
      "source": [
        "import numpy as np\n",
        "\n",
        "arr = np.array([\n",
        "    [1, 2], [3, 4], [5, 6],\n",
        "    [7, 8], [9, 10], [11, 12]\n",
        "])\n",
        "\n",
        "newarr = np.array_split(arr, 3)\n",
        "print(newarr)"
      ]
    },
    {
      "cell_type": "markdown",
      "metadata": {
        "id": "WeCj7gjYM47z"
      },
      "source": [
        "---\n",
        "\n",
        "#### Ejemplo con más columnas\n"
      ]
    },
    {
      "cell_type": "code",
      "execution_count": null,
      "metadata": {
        "id": "cwbdJ7mDM47z"
      },
      "outputs": [],
      "source": [
        "import numpy as np\n",
        "\n",
        "arr = np.array([\n",
        "  [1, 2, 3], [4, 5, 6],\n",
        "  [7, 8, 9], [10, 11, 12],\n",
        "  [13, 14, 15], [16, 17, 18]\n",
        "])\n",
        "\n",
        "newarr = np.array_split(arr, 3)\n",
        "print(newarr)"
      ]
    },
    {
      "cell_type": "markdown",
      "metadata": {
        "id": "zQGB3TycM47z"
      },
      "source": [
        "También devuelve tres arrays 2D, cada uno con dos filas.\n",
        "\n",
        "---\n",
        "\n",
        "## 4. Dividir según columnas (`axis=1`)\n",
        "\n",
        "También puedes indicar **en qué eje** se hará la división:\n",
        "\n",
        "* `axis=0` → por filas (por defecto)\n",
        "* `axis=1` → por columnas\n",
        "\n",
        "#### Ejemplo:"
      ]
    },
    {
      "cell_type": "code",
      "execution_count": null,
      "metadata": {
        "id": "0T61rh77M47z"
      },
      "outputs": [],
      "source": [
        "import numpy as np\n",
        "\n",
        "arr = np.array([\n",
        "  [1, 2, 3],\n",
        "  [4, 5, 6],\n",
        "  [7, 8, 9],\n",
        "  [10, 11, 12],\n",
        "  [13, 14, 15],\n",
        "  [16, 17, 18]\n",
        "])\n",
        "\n",
        "newarr = np.array_split(arr, 3, axis=1)\n",
        "print(newarr)"
      ]
    },
    {
      "cell_type": "markdown",
      "metadata": {
        "id": "DnPwglhLM470"
      },
      "source": [
        "---\n",
        "\n",
        "##  5. Alternativas: `hsplit()`, `vsplit()` y `dsplit()`\n",
        "\n",
        "NumPy tiene funciones simplificadas para dividir arrays según la dirección del eje:\n",
        "\n",
        "| Función       | Divide por            | Equivalente a |\n",
        "| ------------- | --------------------- | ------------- |\n",
        "| `np.hsplit()` | Columnas (horizontal) | `axis=1`      |\n",
        "| `np.vsplit()` | Filas (vertical)      | `axis=0`      |\n",
        "| `np.dsplit()` | Profundidad (capas)   | `axis=2`      |\n",
        "\n",
        "##### Ejemplo: dividir horizontalmente (`hsplit`)"
      ]
    },
    {
      "cell_type": "code",
      "execution_count": null,
      "metadata": {
        "id": "m3yb8epoM470"
      },
      "outputs": [],
      "source": [
        "import numpy as np\n",
        "\n",
        "arr = np.array([\n",
        "  [1, 2, 3],\n",
        "  [4, 5, 6],\n",
        "  [7, 8, 9],\n",
        "  [10, 11, 12],\n",
        "  [13, 14, 15],\n",
        "  [16, 17, 18]\n",
        "])\n",
        "\n",
        "newarr = np.hsplit(arr, 3)\n",
        "print(newarr)"
      ]
    },
    {
      "cell_type": "markdown",
      "metadata": {
        "id": "rFFnUxt8M470"
      },
      "source": [
        "##  En resumen\n",
        "\n",
        "| Método          | Qué hace                                        | Dirección           | Devuelve        |\n",
        "| --------------- | ----------------------------------------------- | ------------------- | --------------- |\n",
        "| `array_split()` | Divide arrays aunque no sean divisibles exactos | filas (por defecto) | Lista de arrays |\n",
        "| `split()`       | Divide pero **requiere división exacta**        | filas               | Lista de arrays |\n",
        "| `hsplit()`      | Divide por columnas                             | horizontal          | Lista de arrays |\n",
        "| `vsplit()`      | Divide por filas                                | vertical            | Lista de arrays |\n",
        "| `dsplit()`      | Divide en profundidad                           | 3D                  | Lista de arrays |\n",
        "\n",
        "---\n",
        "\n",
        "## <font color=\"red\">Actividad práctica 9</font>\n",
        "\n",
        "1. Crea el array:\n",
        "\n",
        "   ```python\n",
        "   import numpy as np\n",
        "   arr = np.array([10, 20, 30, 40, 50, 60, 70])\n",
        "   ```\n",
        "\n",
        "   * Divide el array en **3 partes** usando `np.array_split()`.\n",
        "   * Imprime cada parte por separado.\n",
        "\n",
        "2. Crea el siguiente array 2D:\n",
        "\n",
        "   ```python\n",
        "   arr = np.array([\n",
        "       [1, 2, 3, 4, 5, 6],\n",
        "       [7, 8, 9, 10, 11, 12]\n",
        "   ])\n",
        "   ```\n",
        "\n",
        "   * Divide el array horizontalmente con `np.hsplit(arr, 3)`.\n",
        "   * Divide el array verticalmente con `np.vsplit(arr, 2)`.\n",
        "   * Observa la diferencia de resultado.\n",
        "\n",
        "3. Explica con tus palabras:\n",
        "\n",
        "   * ¿Qué diferencia hay entre `split()` y `array_split()`?\n",
        "   * ¿En qué se parecen `hstack()` / `hsplit()` y `vstack()` / `vsplit()`?\n"
      ]
    },
    {
      "cell_type": "code",
      "execution_count": null,
      "metadata": {
        "id": "3g7h118VM471"
      },
      "outputs": [],
      "source": []
    },
    {
      "cell_type": "markdown",
      "metadata": {
        "id": "l6TIHifOM471"
      },
      "source": [
        "\n",
        "#  NumPy: Búsqueda en arrays (*Searching Arrays*)\n",
        "\n",
        "NumPy permite **buscar valores dentro de un array** y obtener los **índices** donde se encuentran.\n",
        "Esto resulta muy útil cuando queremos localizar elementos o analizar patrones en los datos.\n",
        "\n",
        "**Importancia en ML**\n",
        "\n",
        "Permite acceder de forma eficiente a datos:\n",
        "\n",
        "* Seleccionar características (`X[:, [0, 3, 5]]`)\n",
        "* Filtrar por rangos (`X[(X[:,0]>0.5) & (X[:,1]<1)]`)\n",
        "* Reorganizar datos para entrenamiento en batch.\n",
        "\n",
        "Saber usar **indexación NumPy avanzada** evita bucles y mejora la eficiencia de tus modelos.\n",
        "\n",
        "---\n",
        "\n",
        "## 🔹 1. Buscar elementos con `np.where()`\n",
        "\n",
        "La función `where()` devuelve las posiciones (índices) donde se cumple una determinada condición.\n",
        "El resultado es una **tupla** que contiene los índices coincidentes.\n",
        "\n",
        "### Ejemplo: encontrar dónde está el valor 4"
      ]
    },
    {
      "cell_type": "code",
      "execution_count": null,
      "metadata": {
        "id": "ZTm9cVFhM471",
        "outputId": "fdbe20e1-c336-4565-bfcd-4ed04e9b8c40"
      },
      "outputs": [
        {
          "name": "stdout",
          "output_type": "stream",
          "text": [
            "(array([3, 5, 6]),)\n"
          ]
        }
      ],
      "source": [
        "import numpy as np\n",
        "\n",
        "arr = np.array([1, 2, 3, 4, 5, 4, 4])\n",
        "\n",
        "x = np.where(arr == 4)\n",
        "\n",
        "print(x)"
      ]
    },
    {
      "cell_type": "markdown",
      "metadata": {
        "id": "wqdjF783M473"
      },
      "source": [
        "Esto significa que el número `4` aparece en los **índices 3, 5 y 6** del array.\n",
        "\n",
        "---\n",
        "\n",
        "### Ejemplo: encontrar los valores **pares**"
      ]
    },
    {
      "cell_type": "code",
      "execution_count": null,
      "metadata": {
        "id": "0hK92CEDM473",
        "outputId": "00186ea6-8eb3-44cc-8e93-fdb0d26372f4"
      },
      "outputs": [
        {
          "name": "stdout",
          "output_type": "stream",
          "text": [
            "(array([1, 3, 5, 7]),)\n"
          ]
        }
      ],
      "source": [
        "import numpy as np\n",
        "\n",
        "arr = np.array([1, 2, 3, 4, 5, 6, 7, 8])\n",
        "\n",
        "x = np.where(arr % 2 == 0)\n",
        "\n",
        "print(x)"
      ]
    },
    {
      "cell_type": "markdown",
      "metadata": {
        "id": "LPR88FO5M474"
      },
      "source": [
        "Estos son los índices donde el valor es par.\n",
        "\n",
        "---\n",
        "\n",
        "### Ejemplo: encontrar los valores **impares**"
      ]
    },
    {
      "cell_type": "code",
      "execution_count": null,
      "metadata": {
        "id": "P-VdZyj2M474"
      },
      "outputs": [],
      "source": [
        "import numpy as np\n",
        "\n",
        "arr = np.array([1, 2, 3, 4, 5, 6, 7, 8])\n",
        "\n",
        "x = np.where(arr % 2 == 1)\n",
        "\n",
        "print(x)"
      ]
    },
    {
      "cell_type": "markdown",
      "metadata": {
        "id": "eFzNh7TTM475"
      },
      "source": [
        "Estos índices corresponden a los valores impares.\n",
        "\n",
        "---\n",
        "\n",
        "## 🔹 2. Buscar posiciones de inserción con `np.searchsorted()`\n",
        "\n",
        "El método `searchsorted()` realiza una **búsqueda binaria** en un array **ordenado** y devuelve el índice donde debería insertarse un valor para mantener el orden.\n",
        "\n",
        "### Ejemplo: dónde debería insertarse el valor 7"
      ]
    },
    {
      "cell_type": "code",
      "execution_count": null,
      "metadata": {
        "id": "VjTkmxC7M475",
        "outputId": "2cc35968-1992-4eef-ca13-3cb550ce36fd"
      },
      "outputs": [
        {
          "name": "stdout",
          "output_type": "stream",
          "text": [
            "1\n"
          ]
        }
      ],
      "source": [
        "import numpy as np\n",
        "\n",
        "arr = np.array([6, 7, 8, 9])\n",
        "\n",
        "x = np.searchsorted(arr, 7)\n",
        "\n",
        "print(x)"
      ]
    },
    {
      "cell_type": "markdown",
      "metadata": {
        "id": "P7GpHh4JM476"
      },
      "source": [
        "**Explicación:**\n",
        "El valor `7` debería colocarse en la **posición 1** para mantener el orden creciente del array.\n",
        "\n",
        "---\n",
        "\n",
        "### 🔸 Buscar desde la derecha\n",
        "\n",
        "Por defecto, `searchsorted()` busca desde la izquierda.\n",
        "Si quieres buscar desde la derecha, añade el parámetro `side='right'`."
      ]
    },
    {
      "cell_type": "code",
      "execution_count": null,
      "metadata": {
        "id": "LDWAidqCM476",
        "outputId": "184f3cca-9e8e-4b5d-87ee-82fd76759879"
      },
      "outputs": [
        {
          "name": "stdout",
          "output_type": "stream",
          "text": [
            "2\n"
          ]
        }
      ],
      "source": [
        "import numpy as np\n",
        "\n",
        "arr = np.array([6, 7, 8, 9])\n",
        "\n",
        "x = np.searchsorted(arr, 7, side='right')\n",
        "\n",
        "print(x)"
      ]
    },
    {
      "cell_type": "markdown",
      "metadata": {
        "id": "_Xsxc2U2M477"
      },
      "source": [
        "Ahora indica que `7` se insertaría en el **índice 2** para mantener el orden, ya que el método busca desde el final.\n",
        "\n",
        "---\n",
        "\n",
        "### 🔸 Buscar varios valores a la vez\n",
        "\n",
        "También puedes buscar **múltiples valores** indicando una lista o array."
      ]
    },
    {
      "cell_type": "code",
      "execution_count": null,
      "metadata": {
        "id": "0flMMQU6M477",
        "outputId": "eda971d5-7f48-4d6c-8a30-6aa6d482eaf7"
      },
      "outputs": [
        {
          "name": "stdout",
          "output_type": "stream",
          "text": [
            "[1 2 3]\n"
          ]
        }
      ],
      "source": [
        "import numpy as np\n",
        "\n",
        "arr = np.array([1, 3, 5, 7])\n",
        "\n",
        "x = np.searchsorted(arr, [2, 4, 6])\n",
        "\n",
        "print(x)"
      ]
    },
    {
      "cell_type": "markdown",
      "metadata": {
        "id": "zwS7sNDMM477"
      },
      "source": [
        "Significa que:\n",
        "\n",
        "* El `2` se insertaría en el índice `1`.\n",
        "* El `4` en el índice `2`.\n",
        "* El `6` en el índice `3`.\n",
        "\n",
        "---\n",
        "\n",
        "##  En resumen\n",
        "\n",
        "| Función                                         | Qué hace                                                               | Devuelve        |\n",
        "| ----------------------------------------------- | ---------------------------------------------------------------------- | --------------- |\n",
        "| `np.where(condición)`                           | Devuelve los índices donde se cumple la condición                      | Tupla de arrays |\n",
        "| `np.searchsorted(array, valor)`                 | Devuelve el índice donde se insertaría el valor para mantener el orden | Entero o array  |\n",
        "| `np.searchsorted(array, valores, side='right')` | Igual, pero busca desde la derecha                                     | Entero o array  |\n",
        "\n",
        "---\n",
        "\n",
        "## <font color=\"red\">Actividad práctica 10</font>\n",
        "\n",
        "1. Crea el siguiente array:\n",
        "\n",
        "   ```python\n",
        "   import numpy as np\n",
        "   arr = np.array([5, 10, 15, 10, 20, 10, 25])\n",
        "   ```\n",
        "\n",
        "   * Usa `np.where()` para encontrar todos los índices donde el valor sea **10**.\n",
        "   * Imprime los índices resultantes.\n",
        "\n",
        "---\n",
        "\n",
        "2. Crea un nuevo array ordenado:\n",
        "\n",
        "   ```python\n",
        "   arr2 = np.array([3, 6, 9, 12, 15])\n",
        "   ```\n",
        "\n",
        "   * Usa `np.searchsorted(arr2, 10)` para ver en qué posición se insertaría el número **10**.\n",
        "   * Usa `np.searchsorted(arr2, 10, side='right')` y compara los resultados.\n",
        "\n",
        "---\n",
        "\n",
        "3. Crea un array de varios valores:\n",
        "\n",
        "   ```python\n",
        "   arr3 = np.array([2, 4, 6, 8])\n",
        "   ```\n",
        "\n",
        "   * Usa `np.searchsorted(arr3, [3, 7, 9])`.\n",
        "   * Explica qué significa cada índice obtenido.\n",
        "\n",
        "---\n",
        "\n",
        "4. **Reflexión:**\n",
        "\n",
        "   * ¿Para qué tipo de tareas en Inteligencia Artificial o análisis de datos crees que puede ser útil `where()` o `searchsorted()`?\n",
        "     *(Por ejemplo: localizar errores, clasificar datos o insertar nuevos registros ordenados)*"
      ]
    },
    {
      "cell_type": "code",
      "execution_count": null,
      "metadata": {
        "id": "y27KLfvDM478"
      },
      "outputs": [],
      "source": []
    },
    {
      "cell_type": "markdown",
      "metadata": {
        "id": "VOULq0C6M478"
      },
      "source": [
        "\n",
        "# 🔝 NumPy: Ordenar arrays (*Sorting Arrays*)\n",
        "\n",
        "**Ordenar** significa colocar los elementos de un array en un **orden determinado**.\n",
        "Por ejemplo:\n",
        "\n",
        "* Numéricamente (de menor a mayor o viceversa).\n",
        "* Alfabéticamente (de la A a la Z o de la Z a la A).\n",
        "* O incluso por valores booleanos (False antes que True).\n",
        "\n",
        "En NumPy, los arrays (`ndarray`) tienen una función muy práctica llamada **`sort()`** que permite hacerlo fácilmente.\n",
        "\n",
        "➡️ **Muy útil en análisis y evaluación**\n",
        "\n",
        "* **`np.where()`** se usa para **localizar índices** que cumplen una condición (por ejemplo, errores de clasificación o máximos locales).\n",
        "* **`np.sort()`** permite **ordenar probabilidades, distancias o errores** para obtener rankings o métricas (por ejemplo, en k-NN o para seleccionar los mayores pesos).\n",
        "* **`np.searchsorted()`** se usa menos, pero es clave en operaciones de búsqueda eficiente en arrays ordenados.\n",
        "\n",
        "Ejemplo:\n",
        "\n",
        "```python\n",
        "# Obtener los índices de las 3 predicciones más altas\n",
        "top3 = np.argsort(predicciones)[-3:]\n",
        "```\n",
        "\n",
        "Fundamental para **evaluar modelos, interpretar resultados o aplicar reglas personalizadas.**\n",
        "\n",
        "---\n",
        "\n",
        "## 🔹 1. Ordenar arrays numéricos\n",
        "\n",
        "El método `np.sort()` devuelve una **copia ordenada del array**, sin modificar el original.\n",
        "\n",
        "### Ejemplo:"
      ]
    },
    {
      "cell_type": "code",
      "execution_count": null,
      "metadata": {
        "id": "WKnJkJdyM479",
        "outputId": "4ced33c0-f69b-42c2-afb7-f5cc9defc375"
      },
      "outputs": [
        {
          "name": "stdout",
          "output_type": "stream",
          "text": [
            "[0 1 2 3]\n"
          ]
        }
      ],
      "source": [
        "import numpy as np\n",
        "\n",
        "arr = np.array([3, 2, 0, 1])\n",
        "\n",
        "print(np.sort(arr))"
      ]
    },
    {
      "cell_type": "markdown",
      "metadata": {
        "id": "370kZC6TM479"
      },
      "source": [
        "Nota:\n",
        "El array original `arr` **no cambia**; `np.sort()` crea un nuevo array con los valores ordenados.\n",
        "\n",
        "---\n",
        "\n",
        "## 🔹 2. Ordenar arrays de cadenas (strings)\n",
        "\n",
        "`np.sort()` también funciona con texto: los ordena alfabéticamente."
      ]
    },
    {
      "cell_type": "code",
      "execution_count": null,
      "metadata": {
        "id": "9pfAKgdkM479"
      },
      "outputs": [],
      "source": [
        "import numpy as np\n",
        "\n",
        "arr = np.array(['banana', 'cherry', 'apple'])\n",
        "\n",
        "print(np.sort(arr))"
      ]
    },
    {
      "cell_type": "markdown",
      "metadata": {
        "id": "8DEgFxG6M47-"
      },
      "source": [
        "Ordena según el alfabeto (A → Z).\n",
        "En inglés o español funciona igual siempre que las cadenas estén codificadas en ASCII o UTF-8.\n",
        "\n",
        "---\n",
        "\n",
        "## 🔹 3. Ordenar arrays booleanos\n",
        "\n",
        "Los valores booleanos (`True` y `False`) también se pueden ordenar:\n",
        "\n",
        "* `False` se considera **0**\n",
        "* `True` se considera **1**\n",
        "\n",
        "### Ejemplo:"
      ]
    },
    {
      "cell_type": "code",
      "execution_count": null,
      "metadata": {
        "id": "-zqEnxzRM47-",
        "outputId": "e8ada7df-5bdf-43b1-e4bb-d16967d30f83"
      },
      "outputs": [
        {
          "name": "stdout",
          "output_type": "stream",
          "text": [
            "[False  True  True]\n"
          ]
        }
      ],
      "source": [
        "import numpy as np\n",
        "\n",
        "arr = np.array([True, False, True])\n",
        "\n",
        "print(np.sort(arr))"
      ]
    },
    {
      "cell_type": "markdown",
      "metadata": {
        "id": "jp4b2zwyM47_"
      },
      "source": [
        "---\n",
        "\n",
        "## 🔹 4. Ordenar arrays bidimensionales (2D)\n",
        "\n",
        "Cuando usamos `np.sort()` en un array 2D, **ordena cada fila de forma independiente**, manteniendo las dimensiones.\n",
        "\n",
        "### Ejemplo:"
      ]
    },
    {
      "cell_type": "code",
      "execution_count": null,
      "metadata": {
        "id": "SoL2l0MXM47_",
        "outputId": "d49434fb-3dca-44bb-d966-55e0c29db10f"
      },
      "outputs": [
        {
          "name": "stdout",
          "output_type": "stream",
          "text": [
            "[[2 3 4]\n",
            " [0 1 5]]\n"
          ]
        }
      ],
      "source": [
        "import numpy as np\n",
        "\n",
        "arr = np.array([[3, 2, 4], [5, 0, 1]])\n",
        "\n",
        "print(np.sort(arr))"
      ]
    },
    {
      "cell_type": "markdown",
      "metadata": {
        "id": "g2NQ5cFYM48A"
      },
      "source": [
        "quí, NumPy ha ordenado **cada fila** individualmente en orden ascendente.\n",
        "\n",
        "---\n",
        "\n",
        "##  En resumen\n",
        "\n",
        "| Tipo de datos   | Resultado                | Observaciones                   |\n",
        "| --------------- | ------------------------ | ------------------------------- |\n",
        "| Numérico        | Orden ascendente         | `[0 1 2 3]`                     |\n",
        "| Texto (strings) | Orden alfabético         | `['apple', 'banana', 'cherry']` |\n",
        "| Booleano        | `False` antes que `True` | `[False, True, True]`           |\n",
        "| 2D              | Ordena cada fila         | mantiene la forma original      |\n",
        "\n",
        "---\n",
        "\n",
        "### <font color=\"red\">Actividad práctica 11</font>\n",
        "\n",
        "1. Crea un array con los números `[5, 1, 8, 3, 7, 2]`\n",
        "\n",
        "   * Ordénalo con `np.sort()`\n",
        "   * Comprueba que el array original **no cambia**.\n",
        "\n",
        "---\n",
        "\n",
        "2. Crea un array de cadenas:\n",
        "\n",
        "   ```python\n",
        "   frutas = np.array([\"pera\", \"naranja\", \"kiwi\", \"manzana\"])\n",
        "   ```\n",
        "\n",
        "   * Ordénalo alfabéticamente con `np.sort(frutas)`\n",
        "   * ¿Qué fruta aparece primero?\n",
        "\n",
        "---\n",
        "\n",
        "3. Crea un array booleano:\n",
        "\n",
        "   ```python\n",
        "   estados = np.array([True, False, False, True, True])\n",
        "   ```\n",
        "\n",
        "   * Ordénalo con `np.sort(estados)`\n",
        "   * ¿Qué valor aparece al principio?\n",
        "\n",
        "---\n",
        "\n",
        "4. Crea el siguiente array 2D:\n",
        "\n",
        "   ```python\n",
        "   datos = np.array([[4, 9, 1], [8, 3, 5]])\n",
        "   ```\n",
        "\n",
        "   * Usa `np.sort(datos)`\n",
        "   * Explica cómo ordena los valores y qué filas cambian.\n",
        "\n",
        "---\n",
        "\n",
        "5. **Reto adicional:**\n",
        "\n",
        "   * ¿Cómo podrías ordenar un array 1D en **orden descendente** (de mayor a menor)?\n",
        "     *(Pista: puedes combinar `np.sort()` con slicing inverso `[::-1]`)*"
      ]
    },
    {
      "cell_type": "code",
      "execution_count": null,
      "metadata": {
        "id": "hRZIU6UfM48A"
      },
      "outputs": [],
      "source": []
    },
    {
      "cell_type": "markdown",
      "metadata": {
        "id": "yElMzv76M48A"
      },
      "source": [
        "\n",
        "#  🔝 NumPy: Filtrar arrays (*Filter Arrays*)\n",
        "\n",
        "Filtrar un array significa **obtener algunos elementos específicos** de un array existente para crear un **nuevo array** con ellos.\n",
        "\n",
        "En otras palabras, nos quedamos solo con los valores que cumplen una condición.\n",
        "\n",
        "**Imprescindible en ML**\n",
        "\n",
        "En Machine Learning se usa constantemente para **preprocesar datos**:\n",
        "\n",
        "* Quitar valores faltantes o erróneos.\n",
        "* Seleccionar subconjuntos de datos (por ejemplo, solo filas con clase “1”).\n",
        "* Aplicar máscaras sobre datasets grandes (por ejemplo, `X[y == 0]`).\n",
        "\n",
        "Ejemplo real:\n",
        "\n",
        "```python\n",
        "X = X[y != -1]  # eliminar muestras con etiqueta desconocida\n",
        "y = y[y != -1]\n",
        "```\n",
        "\n",
        "Este tipo de filtrado vectorizado es **la base del manejo eficiente de datos** con NumPy, pandas o frameworks como TensorFlow y PyTorch.\n",
        "\n",
        "\n",
        "---\n",
        "\n",
        "## 🔹 1. Filtrar usando una lista booleana\n",
        "\n",
        "En NumPy, se puede filtrar un array usando una **lista de valores booleanos** (`True` o `False`).\n",
        "Cada valor en la lista indica si el elemento del array original debe incluirse o no:\n",
        "\n",
        "* `True` → el elemento se mantiene.\n",
        "* `False` → el elemento se descarta.\n",
        "\n",
        "---\n",
        "\n",
        "### Ejemplo: crear un array con los elementos en las posiciones 0 y 2\n"
      ]
    },
    {
      "cell_type": "code",
      "execution_count": null,
      "metadata": {
        "id": "MFdSv4JTM48B",
        "outputId": "e745dbf4-de81-4402-d6f5-5fd2310edfc0"
      },
      "outputs": [
        {
          "name": "stdout",
          "output_type": "stream",
          "text": [
            "[41 43]\n"
          ]
        }
      ],
      "source": [
        "\n",
        "import numpy as np\n",
        "\n",
        "arr = np.array([41, 42, 43, 44])\n",
        "\n",
        "x = [True, False, True, False]\n",
        "\n",
        "newarr = arr[x]\n",
        "\n",
        "print(newarr)"
      ]
    },
    {
      "cell_type": "markdown",
      "metadata": {
        "id": "m-54vxMuM48B"
      },
      "source": [
        "**Explicación:**\n",
        "El nuevo array contiene los elementos de las posiciones donde la lista booleana tiene `True`:\n",
        "índices **0** y **2** → `[41, 43]`.\n",
        "\n",
        "---\n",
        "\n",
        "## 🔹 2. Crear un filtro de forma manual (con un bucle)\n",
        "\n",
        "Lo más común es crear esa lista booleana de forma automática según una **condición**.\n",
        "\n",
        "---\n",
        "\n",
        "### Ejemplo: valores mayores que 42"
      ]
    },
    {
      "cell_type": "code",
      "execution_count": null,
      "metadata": {
        "id": "EryDvBeZM48B",
        "outputId": "391937ed-14f1-45eb-a2d8-5e85fbff5e23"
      },
      "outputs": [
        {
          "name": "stdout",
          "output_type": "stream",
          "text": [
            "[False, False, True, True]\n",
            "[43 44]\n"
          ]
        }
      ],
      "source": [
        "import numpy as np\n",
        "\n",
        "arr = np.array([41, 42, 43, 44])\n",
        "\n",
        "# Creamos una lista vacía\n",
        "filter_arr = []\n",
        "\n",
        "# Recorremos cada elemento del array\n",
        "for element in arr:\n",
        "  # Si el elemento es mayor que 42, añadimos True, si no, False\n",
        "  if element > 42:\n",
        "    filter_arr.append(True)\n",
        "  else:\n",
        "    filter_arr.append(False)\n",
        "\n",
        "newarr = arr[filter_arr]\n",
        "\n",
        "print(filter_arr)\n",
        "print(newarr)"
      ]
    },
    {
      "cell_type": "markdown",
      "metadata": {
        "id": "ygL-AHzOM48C"
      },
      "source": [
        " Solo se mantienen los valores que cumplen la condición (> 42).\n",
        "\n",
        "---\n",
        "\n",
        "### Ejemplo: valores pares"
      ]
    },
    {
      "cell_type": "code",
      "execution_count": null,
      "metadata": {
        "id": "irSU34HSM48C",
        "outputId": "72104d03-8bf0-4bb9-e87c-a747ead0bb8b"
      },
      "outputs": [
        {
          "name": "stdout",
          "output_type": "stream",
          "text": [
            "[False, True, False, True, False, True, False]\n",
            "[2 4 6]\n"
          ]
        }
      ],
      "source": [
        "import numpy as np\n",
        "\n",
        "arr = np.array([1, 2, 3, 4, 5, 6, 7])\n",
        "\n",
        "filter_arr = []\n",
        "\n",
        "for element in arr:\n",
        "  if element % 2 == 0:\n",
        "    filter_arr.append(True)\n",
        "  else:\n",
        "    filter_arr.append(False)\n",
        "\n",
        "newarr = arr[filter_arr]\n",
        "\n",
        "print(filter_arr)\n",
        "print(newarr)"
      ]
    },
    {
      "cell_type": "markdown",
      "metadata": {
        "id": "-kBiaVh0M48C"
      },
      "source": [
        "---\n",
        "\n",
        "## 🔹 3. Crear el filtro directamente (sin bucles)\n",
        "\n",
        "NumPy permite aplicar condiciones **directamente sobre el array**, lo que hace el código mucho más corto y rápido.\n",
        "\n",
        "En lugar de usar un bucle, simplemente escribimos la condición:\n",
        "\n",
        "---\n",
        "\n",
        "### Ejemplo: valores mayores que 42"
      ]
    },
    {
      "cell_type": "code",
      "execution_count": null,
      "metadata": {
        "id": "m_S67TC2M48D",
        "outputId": "fe755723-24f7-444a-cf76-f55513747954"
      },
      "outputs": [
        {
          "name": "stdout",
          "output_type": "stream",
          "text": [
            "[False False  True  True]\n",
            "[43 44]\n"
          ]
        }
      ],
      "source": [
        "import numpy as np\n",
        "\n",
        "arr = np.array([41, 42, 43, 44])\n",
        "\n",
        "filter_arr = arr > 42\n",
        "\n",
        "newarr = arr[filter_arr]\n",
        "\n",
        "print(filter_arr)\n",
        "print(newarr)"
      ]
    },
    {
      "cell_type": "markdown",
      "metadata": {
        "id": "YMGpwpkBM48D"
      },
      "source": [
        "---\n",
        "\n",
        "### Ejemplo: valores pares"
      ]
    },
    {
      "cell_type": "code",
      "execution_count": null,
      "metadata": {
        "id": "C7HT9bxHM48D"
      },
      "outputs": [],
      "source": [
        "import numpy as np\n",
        "\n",
        "arr = np.array([1, 2, 3, 4, 5, 6, 7])\n",
        "\n",
        "filter_arr = arr % 2 == 0\n",
        "\n",
        "newarr = arr[filter_arr]\n",
        "\n",
        "print(filter_arr)\n",
        "print(newarr)"
      ]
    },
    {
      "cell_type": "markdown",
      "metadata": {
        "id": "aScPDpuBM48H"
      },
      "source": [
        "**Ventaja:**\n",
        "Este método es más rápido, más legible y aprovecha la vectorización de NumPy (sin necesidad de recorrer los elementos con un bucle `for`).\n",
        "\n",
        "---\n",
        "\n",
        "##  En resumen\n",
        "\n",
        "| Método                   | Cómo funciona                                      | Ejemplo                     | Resultado                     |\n",
        "| ------------------------ | -------------------------------------------------- | --------------------------- | ----------------------------- |\n",
        "| Lista booleana manual    | Se indica `True` o `False` por cada elemento       | `[True, False, True]`       | Mantiene los elementos `True` |\n",
        "| Filtro con bucle         | Crea una lista booleana según condición            | `x > 10` dentro de un `for` | Filtra según una regla        |\n",
        "| Filtro directo con NumPy | Se aplica la condición directamente sobre el array | `arr[arr > 10]`             | Más simple y eficiente        |\n",
        "\n",
        "---\n",
        "\n",
        "### 💡 Consejo práctico\n",
        "\n",
        "Puedes combinar condiciones con **operadores lógicos**:\n",
        "\n",
        "* `&` (AND)\n",
        "* `|` (OR)\n",
        "* `~` (NOT)\n",
        "\n",
        "Ejemplo:\n",
        "\n",
        "```python\n",
        "arr = np.array([10, 20, 30, 40, 50])\n",
        "newarr = arr[(arr > 15) & (arr < 45)]\n",
        "print(newarr)\n",
        "# [20 30 40]\n",
        "```\n",
        "\n",
        "---\n",
        "\n",
        "## <font color=\"red\">Actividad práctica 12</font>\n",
        "\n",
        "1. Crea un array:\n",
        "\n",
        "   ```python\n",
        "   import numpy as np\n",
        "   edades = np.array([15, 18, 21, 16, 25, 30, 17])\n",
        "   ```\n",
        "\n",
        "   * Filtra los valores **mayores o iguales a 18** (mayores de edad).\n",
        "   * Muestra el nuevo array.\n",
        "\n",
        "---\n",
        "\n",
        "2. Crea el array:\n",
        "\n",
        "   ```python\n",
        "   numeros = np.array([5, 12, 7, 18, 20, 3, 9])\n",
        "   ```\n",
        "\n",
        "   * Filtra solo los **valores pares**.\n",
        "   * Luego filtra los **valores impares**.\n",
        "\n",
        "---\n",
        "\n",
        "3. Crea un array con temperaturas en ºC:\n",
        "\n",
        "   ```python\n",
        "   temperaturas = np.array([-2, 5, 12, 0, 18, 25, -1])\n",
        "   ```\n",
        "\n",
        "   * Filtra las temperaturas **mayores o iguales a 0** (temperaturas positivas).\n",
        "   * Filtra las que estén **entre 10 y 20 grados**.\n",
        "\n",
        "---\n",
        "\n",
        "4. **Reflexiona:**\n",
        "\n",
        "   * ¿Qué ventajas tiene usar filtros directos con NumPy frente a los bucles normales en Python?\n",
        "   * ¿En qué tipo de análisis o proyectos de IA podría resultarte útil filtrar arrays?"
      ]
    },
    {
      "cell_type": "code",
      "execution_count": null,
      "metadata": {
        "id": "ciUKCrdoM48I"
      },
      "outputs": [],
      "source": []
    },
    {
      "cell_type": "markdown",
      "metadata": {
        "id": "j0fqcbGWM48I"
      },
      "source": [
        "##  **Bibliografía y recursos de referencia**\n",
        "\n",
        "El contenido y los ejemplos prácticos de este cuaderno están basados y adaptados del curso original de **NumPy** de [W3Schools](https://www.w3schools.com/python/numpy_intro.asp), un recurso introductorio ampliamente utilizado para el aprendizaje de programación científica en Python.\n",
        "\n",
        "**Referencia principal:**\n",
        "\n",
        "> W3Schools. (2025). *Python NumPy Tutorial*. Recuperado de\n",
        "> [https://www.w3schools.com/python/numpy_intro.asp](https://www.w3schools.com/python/numpy_intro.asp)\n",
        "\n",
        "**Adaptación docente:**\n",
        "\n",
        "> Versión adaptada por el profesor Carlos Tessier (IES San Andrés) y el profesor Jordi Pozo (IES Ribera de Castilla) para el módulo\n",
        "> *Programación de Inteligencia Artificial* del *Curso de Especialización en Inteligencia Artificial y Big Data (2025–26)* y para el módulo *Análisis de datos con Python* del *Curso de Especialización en Desarrollo de Aplicaciones en Lenguaje Python (2025-26)*.\n",
        "\n",
        "---\n",
        "<img src=\"/home/jordi/Documentos/Ribera/Curso_25_26/CEDAPY/REPOS/CEDAPY_25_26/ANALISIS_DATOS_PYTHON/NOTEBOOKS/img/by-nc.png\" width=200px>"
      ]
    },
    {
      "cell_type": "markdown",
      "metadata": {},
      "source": []
    }
  ],
  "metadata": {
    "colab": {
      "provenance": []
    },
    "kernelspec": {
      "display_name": "Python 3.10.11 ('venv': venv)",
      "language": "python",
      "name": "python3"
    },
    "language_info": {
      "codemirror_mode": {
        "name": "ipython",
        "version": 3
      },
      "file_extension": ".py",
      "mimetype": "text/x-python",
      "name": "python",
      "nbconvert_exporter": "python",
      "pygments_lexer": "ipython3",
      "version": "3.10.11"
    },
    "vscode": {
      "interpreter": {
        "hash": "2d4e2a90c9c2c07801c0d21f4546ef9a613b5a9ccbf970de93eec2539f61cb2f"
      }
    }
  },
  "nbformat": 4,
  "nbformat_minor": 0
}
