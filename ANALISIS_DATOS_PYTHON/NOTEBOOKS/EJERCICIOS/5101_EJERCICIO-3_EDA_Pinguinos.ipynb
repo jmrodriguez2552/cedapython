{
 "cells": [
  {
   "cell_type": "markdown",
   "id": "04096816",
   "metadata": {},
   "source": [
    "# 🐧 Análisis Exploratorio de Datos (EDA): El Dataset de Pingüinos\n",
    "\n",
    "**Objetivo:** Realizar un análisis exploratorio de datos completo sobre un nuevo dataset para afianzar los conocimientos adquiridos con el dataset Iris.\n",
    "\n",
    "**El Dataset:** Este conjunto de datos contiene mediciones de 344 pingüinos de tres especies diferentes (`Adelie`, `Chinstrap`, y `Gentoo`), observados en el archipiélago Palmer en la Antártida.\n",
    "\n",
    "**Tu misión:** Al igual que un biólogo explorador, deberás analizar los datos para entender las características de cada especie de pingüino y descubrir qué variables son las más útiles para diferenciarlas."
   ]
  },
  {
   "cell_type": "markdown",
   "id": "f5e54701",
   "metadata": {},
   "source": [
    "\n",
    "## 1. LIBRERÍAS\n",
    "Importa las librerías que te permitirán trabajar con datos y crear visualizaciones.\n",
    "- pandas: para manipular los datos.\n",
    "- numpy: para operar y calcular.\n",
    "- seaborn y matplotlib: para crear gráficos increíbles."
   ]
  },
  {
   "cell_type": "code",
   "execution_count": null,
   "id": "ded48458",
   "metadata": {},
   "outputs": [],
   "source": [
    "\n",
    "import pandas as pd\n",
    "import numpy as np\n",
    "import seaborn as sns\n",
    "import matplotlib.pyplot as plt"
   ]
  },
  {
   "cell_type": "markdown",
   "id": "cfe00c95",
   "metadata": {},
   "source": [
    "Configuramos el parámetro ```style``` para que los gráficos de *Seaborn* queden más legibles"
   ]
  },
  {
   "cell_type": "code",
   "execution_count": null,
   "id": "91d448fe",
   "metadata": {},
   "outputs": [],
   "source": [
    "sns.set_theme(style=\"ticks\")"
   ]
  },
  {
   "cell_type": "markdown",
   "id": "5c2945a5",
   "metadata": {},
   "source": [
    "## 2. CARGA DE DATOS (Dataset \"penguins\" de Seaborn)\n",
    "Seaborn nos da acceso directo a este dataset.\n",
    "1. Carga el dataset 'penguins' y asígnalo a una variable llamada 'df'.\n",
    "2. Realizar un primer vistazo a los datos mostrando las 5 primeras filas.\n"
   ]
  },
  {
   "cell_type": "code",
   "execution_count": null,
   "id": "df60e597",
   "metadata": {},
   "outputs": [],
   "source": [
    "\n",
    "df = sns.load_dataset('penguins')"
   ]
  },
  {
   "cell_type": "markdown",
   "id": "90d635fe",
   "metadata": {},
   "source": [
    "## 3. PRIMERAS APROXIMACIONES\n",
    "\n",
    "Responde a estas preguntas usando los métodos de pandas:\n",
    "1. ¿Cuántas filas y columnas tiene nuestro dataset? \n",
    "2. ¿Qué tipos de datos tiene cada columna (números, texto, etc.)? ¿Hay valores nulos? \n",
    "3. ¿Cuáles son las estadísticas básicas (media, desviación, etc.) de las columnas numéricas? \n",
    "4. ¿Cuántos pingüinos de cada especie tenemos? ¿Está balanceado? "
   ]
  },
  {
   "cell_type": "code",
   "execution_count": null,
   "id": "42d654b4",
   "metadata": {},
   "outputs": [],
   "source": [
    "\n",
    "# TU CÓDIGO AQUÍ"
   ]
  },
  {
   "cell_type": "markdown",
   "id": "fc9a2205",
   "metadata": {},
   "source": [
    "\n",
    "Habrás podido comprobar que hay algunos valores nulos (missing values). Para este ejercicio, la estrategia más sencilla es eliminar las filas que contengan algún valor nulo.   \n",
    "\n",
    "Usa el método **.dropna()** sobre el dataframe y guarda el resultado en el mismo dataframe. Después, vuelve a comprobar que ya no quedan valores nulos."
   ]
  },
  {
   "cell_type": "code",
   "execution_count": null,
   "id": "5e00b08a",
   "metadata": {},
   "outputs": [],
   "source": [
    "# TU CÓDIGO AQUÍ"
   ]
  },
  {
   "cell_type": "markdown",
   "id": "3798f4b3",
   "metadata": {},
   "source": [
    "## 📊 Análisis Univariado: Explorando cada variable por separado\n",
    "\n",
    "Ahora vamos a estudiar cada variable de forma individual para entender su distribución."
   ]
  },
  {
   "cell_type": "markdown",
   "id": "c36de4cd",
   "metadata": {},
   "source": [
    "\n",
    "### 1. Para las variables NUMÉRICAS:   \n",
    "\n",
    "- Crea un histograma para cada una de las 4 variables de medidas: \n",
    "    - 'bill_length_mm', \n",
    "    - 'bill_depth_mm', \n",
    "    - 'flipper_length_mm', \n",
    "    - 'body_mass_g'.   \n",
    "\n",
    "Esto mostrará cómo se distribuyen sus valores. ¿Siguen una distribución normal? ¿Hay valores atípicos?   \n",
    "\n",
    "(Pista: usa ```sns.histplot(data=df, x=\"nombre_de_la_columna\", kde=True```). [INFO](https://seaborn.pydata.org/generated/seaborn.histplot.html))"
   ]
  },
  {
   "cell_type": "code",
   "execution_count": null,
   "id": "0a84f9a9",
   "metadata": {},
   "outputs": [],
   "source": [
    "\n",
    "\n",
    "fig, axes = plt.subplots(2, 2, figsize=(12, 10)) # Gráfico que contiene 4 subgráficos (2 filas x 2 columnas)\n",
    "fig.suptitle('Distribución de las Variables Numéricas', fontsize=16)\n",
    "\n",
    "# TU CÓDIGO AQUÍ"
   ]
  },
  {
   "cell_type": "markdown",
   "id": "70161b57",
   "metadata": {},
   "source": [
    "### 2. Para las variables CATEGÓRICAS:   \n",
    "\n",
    "- Crea un gráfico de barras para ver cuántos pingüinos hay por 'island' y por 'sex'.       \n",
    "\n",
    "(Pista: usa ```sns.countplot(data=df, x=\"nombre_de_la_columna\"```.[INFO](https://seaborn.pydata.org/generated/seaborn.countplot.html))"
   ]
  },
  {
   "cell_type": "code",
   "execution_count": null,
   "id": "b1bf9dc5",
   "metadata": {},
   "outputs": [],
   "source": [
    "fig, axes = plt.subplots(1, 2, figsize=(12, 5)) # Gráfico que contiene 2 subgráficos (1 fila x 2 columnas)\n",
    "fig.suptitle('Distribución de las Variables Categóricas', fontsize=16)\n",
    "\n",
    "# TU CÓDIGO AQUÍ"
   ]
  },
  {
   "cell_type": "markdown",
   "id": "d0bcd994",
   "metadata": {},
   "source": [
    "## 📈 Análisis Bivariado: Buscando relaciones entre variables\n",
    "\n",
    "Este es el paso más importante. ¿Cómo se relacionan las variables entre sí? Y lo más crucial, ¿qué variables nos ayudan a diferenciar las especies?"
   ]
  },
  {
   "cell_type": "markdown",
   "id": "d695c17d",
   "metadata": {},
   "source": [
    "### 1. Relación entre variables numéricas:   \n",
    "\n",
    "El gráfico más potente para esto es el pairplot. Genera un pairplot de todo el dataframe, pero añade el parámetro `hue='species'`.\n",
    "\n",
    "Esto coloreará los puntos de cada gráfico según la especie del pingüino.    \n",
    "\n",
    "Observa y responde: **¿Qué par de variables parece separar mejor las tres especies?**\n",
    "\n",
    "\n"
   ]
  },
  {
   "cell_type": "code",
   "execution_count": null,
   "id": "80a39f5b",
   "metadata": {},
   "outputs": [],
   "source": [
    "# TU CÓDIGO AQUÍ"
   ]
  },
  {
   "cell_type": "markdown",
   "id": "b939752d",
   "metadata": {},
   "source": [
    "### 2. Relación entre una variable numérica y la especie:   \n",
    "\n",
    "Para ver más en detalle cómo se distribuye una medida para cada especie, los boxplots son perfectos. Crea un **boxplot** que compare la 'longitud de la aleta' (`flipper_length_mm`) entre las tres especies.   \n",
    "\n",
    "(Pista: sns.boxplot(data=df, x='species', y='flipper_length_mm') [INFO]((https://seaborn.pydata.org/generated/seaborn.boxplot.html)))   \n",
    "\n",
    "Observa y responde: **¿Qué puedes concluir de este gráfico? ¿Qué especie tiene las aletas más largas?**\n",
    "\n"
   ]
  },
  {
   "cell_type": "code",
   "execution_count": null,
   "id": "5fd802ea",
   "metadata": {},
   "outputs": [],
   "source": [
    "# TU CÓDIGO AQUÍ"
   ]
  },
  {
   "cell_type": "markdown",
   "id": "e30e8972",
   "metadata": {},
   "source": [
    "## 🧠 Conclusiones del Análisis\n",
    "\n",
    "**¡Felicidades, has completado el análisis!**\n",
    "\n",
    "Ahora, reflexiona y responde a las siguientes preguntas basándote en los gráficos que has generado."
   ]
  },
  {
   "cell_type": "markdown",
   "id": "d84c0755",
   "metadata": {},
   "source": [
    "**1. ¿Qué variable (o par de variables) crees que es la más útil para clasificar a los pingüinos? ¿Por qué?**\n",
    "   \n",
    "   *Escribe tu respuesta aquí.*\n",
    "\n",
    "**2. ¿Observaste alguna relación interesante o inesperada entre dos variables? Por ejemplo, a mayor longitud del pico, ¿la masa corporal también es mayor?**\n",
    "   \n",
    "   *Escribe tu respuesta aquí.*\n",
    "\n",
    "**3. Si tuvieras que crear un modelo de Machine Learning muy simple para predecir la especie, ¿qué dos variables elegirías y por qué?**\n",
    "   \n",
    "   *Escribe tu respuesta aquí.*"
   ]
  },
  {
   "cell_type": "markdown",
   "id": "41af29ca",
   "metadata": {},
   "source": [
    "# 🤖 Creación de un Modelo de Machine Learning\n",
    "\n",
    "¡Excelente trabajo con el análisis! Hemos explorado los datos y hemos identificado visualmente que algunas variables como la longitud de la aleta y la del pico son muy buenas para diferenciar las especies.\n",
    "\n",
    "Ahora, vamos a dar el siguiente paso: **entrenar un modelo de clasificación**. El objetivo es que la máquina aprenda las relaciones que descubrimos y sea capaz de predecir la especie de un pingüino por sí misma, solo viendo sus medidas."
   ]
  },
  {
   "cell_type": "markdown",
   "id": "ef1870fb",
   "metadata": {},
   "source": [
    "### 1. Preparar los datos para el modelo\n",
    "\n",
    "Los modelos de machine learning necesitan dos cosas:\n",
    "- **'X'**: Las variables predictoras (las características o \"features\").\n",
    "- **'y'**: La variable objetivo (lo que queremos predecir o \"target\").\n",
    "\n",
    "Para empezar, usaremos todas las columnas numéricas como nuestras características."
   ]
  },
  {
   "cell_type": "code",
   "execution_count": null,
   "id": "d8dd0d7f",
   "metadata": {},
   "outputs": [],
   "source": [
    "# TU CÓDIGO AQUÍ"
   ]
  },
  {
   "cell_type": "markdown",
   "id": "ca29dcc1",
   "metadata": {},
   "source": [
    "A continuación, mostramos cómo se ven nuestras **X** e **y** para entenderlo mejor"
   ]
  },
  {
   "cell_type": "code",
   "execution_count": null,
   "id": "18566cf4",
   "metadata": {},
   "outputs": [],
   "source": [
    "# TU CÓDIGO AQUÍ"
   ]
  },
  {
   "cell_type": "markdown",
   "id": "cff3d250",
   "metadata": {},
   "source": [
    "### 2. Dividir los datos en entrenamiento y prueba (Train/Test Split)\n",
    "\n",
    "No se puede evaluar un modelo con los mismos datos que usó para aprender. Por eso, se divide el dataset en dos partes:\n",
    "- Un conjunto de entrenamiento (**train**) (75%, por ejemplo): para que el modelo aprenda.\n",
    "- Un conjunto de prueba (**test**) (25%): para evaluar qué tal lo hace con datos que nunca ha visto."
   ]
  },
  {
   "cell_type": "markdown",
   "id": "39dab5b4",
   "metadata": {},
   "source": [
    "Importamos la función para dividir los datos de **sklearn.model_selection**"
   ]
  },
  {
   "cell_type": "code",
   "execution_count": null,
   "id": "cab4cd6f",
   "metadata": {},
   "outputs": [],
   "source": [
    "\n",
    "# TU CÓDIGO AQUÍ"
   ]
  },
  {
   "cell_type": "markdown",
   "id": "9206c5cc",
   "metadata": {},
   "source": [
    "\n",
    "\n",
    "Usamos la función train_test_split para que haga la división por nosotros.   \n",
    "Nota: `random_state=42` es una semilla para que la división sea siempre la misma y el experimento sea reproducible.\n"
   ]
  },
  {
   "cell_type": "code",
   "execution_count": null,
   "id": "b4ed3596",
   "metadata": {},
   "outputs": [],
   "source": [
    "# TU CÓDIGO AQUÍ"
   ]
  },
  {
   "cell_type": "markdown",
   "id": "2b7490d6",
   "metadata": {},
   "source": [
    "### 3. Elegir, entrenar y predecir con el modelo\n",
    "\n",
    "Hay muchos modelos de clasificación. De momento, solo hemos trabajado con dos de ellos:\n",
    "- El **regresor lineal**, para tareas de predicción sobre valores de tipo *contínuo* y,\n",
    "- El **regresor logístico**, para tareas de clasificación sobre valores *discretos/categóricos*\n",
    "\n",
    "**¿Cúal crees que aplica en este problema?**"
   ]
  },
  {
   "cell_type": "code",
   "execution_count": null,
   "id": "b52ecd16",
   "metadata": {},
   "outputs": [],
   "source": [
    "# TU CÓDIGO AQUÍ"
   ]
  },
  {
   "cell_type": "markdown",
   "id": "243f3cf4",
   "metadata": {},
   "source": [
    "Creamos el modelo. `random_state=42` asegura que obtengamos el mismo resultado cada vez.\n"
   ]
  },
  {
   "cell_type": "code",
   "execution_count": null,
   "id": "a7f6d513",
   "metadata": {},
   "outputs": [],
   "source": [
    "# TU CÓDIGO AQUÍ"
   ]
  },
  {
   "cell_type": "markdown",
   "id": "5e675b38",
   "metadata": {},
   "source": [
    "A continuación, entrenamos el modelo con los datos de entrenamiento."
   ]
  },
  {
   "cell_type": "code",
   "execution_count": null,
   "id": "dd3aa6e7",
   "metadata": {},
   "outputs": [],
   "source": [
    "# TU CÓDIGO AQUÍ"
   ]
  },
  {
   "cell_type": "markdown",
   "id": "ce3d35aa",
   "metadata": {},
   "source": [
    "Ahora que el modelo está entrenado, le pedimos que haga predicciones sobre nuestros datos de prueba.\n"
   ]
  },
  {
   "cell_type": "code",
   "execution_count": null,
   "id": "64613c0e",
   "metadata": {},
   "outputs": [],
   "source": [
    "# TU CÓDIGO AQUÍ"
   ]
  },
  {
   "cell_type": "markdown",
   "id": "c4098ee2",
   "metadata": {},
   "source": [
    "Comparamos las predicciones del modelo (y_pred) con las etiquetas reales (y_test) para ver cuántas acertó.    \n",
    "Para ello usamos la métrica de [exactitud (accuracy)](https://scikit-learn.org/stable/modules/generated/sklearn.metrics.accuracy_score.html).\n"
   ]
  },
  {
   "cell_type": "code",
   "execution_count": null,
   "id": "b65e2a1d",
   "metadata": {},
   "outputs": [],
   "source": [
    "# TU CÓDIGO AQUÍ"
   ]
  },
  {
   "cell_type": "markdown",
   "id": "d8b1d5a2",
   "metadata": {},
   "source": [
    "### 4. Evaluar el rendimiento con una Matriz de Confusión\n",
    "\n",
    "La [**precisión** (*accuracy*)](https://foqum.io/blog/termino/accuracy-exactitud/) nos da una idea general, pero una [**matriz de confusión**](https://es.wikipedia.org/wiki/Matriz_de_confusi%C3%B3n) nos da mucho más detalle. Nos muestra exactamente qué especies se clasificaron bien y cuáles confundió el modelo."
   ]
  },
  {
   "cell_type": "code",
   "execution_count": null,
   "id": "08d0c818",
   "metadata": {},
   "outputs": [],
   "source": [
    "from sklearn.metrics import confusion_matrix"
   ]
  },
  {
   "cell_type": "markdown",
   "id": "66b96b67",
   "metadata": {},
   "source": [
    "Generamos la matriz de confusión ([INFO](https://scikit-learn.org/stable/modules/generated/sklearn.metrics.confusion_matrix.html)).    \n",
    "\n",
    "NOTA: `labels=log_reg.classes_` nos asegura que las filas y columnas de la matriz tengan el orden correcto."
   ]
  },
  {
   "cell_type": "code",
   "execution_count": null,
   "id": "1e3f3965",
   "metadata": {},
   "outputs": [],
   "source": [
    "# TU CÓDIGO AQUÍ"
   ]
  },
  {
   "cell_type": "markdown",
   "id": "96838fdf",
   "metadata": {},
   "source": [
    "Para que sea más fácil de interpretar, la visualizamos con un mapa de calor [(```sns.heatmap()```)](https://seaborn.pydata.org/generated/seaborn.heatmap.html)"
   ]
  },
  {
   "cell_type": "code",
   "execution_count": null,
   "id": "22390efa",
   "metadata": {},
   "outputs": [],
   "source": [
    "# TU CÓDIGO AQUÍ"
   ]
  },
  {
   "cell_type": "markdown",
   "id": "49fbd515",
   "metadata": {},
   "source": [
    "## 🤔 Interpretación de Resultados y Siguientes Pasos\n",
    "\n",
    "**¡Enhorabuena! Has entrenado y evaluado tu primer modelo de clasificación.**\n",
    "\n",
    "Ahora, tómate un momento para analizar la matriz de confusión y la precisión obtenida.\n",
    "\n",
    "**1. Según la matriz, ¿hubo alguna especie que el modelo confundiera con otra? Si es así, ¿cuál?**\n",
    "   \n",
    "   *Escribe tu respuesta aquí. Fíjate en los números que no están en la diagonal principal de la matriz.*\n",
    "\n",
    "**2. El modelo obtuvo una precisión muy alta (probablemente >95%). ¿Coincide esto con lo que esperabas después de ver el `pairplot` en tu análisis exploratorio? ¿Por qué?**\n",
    "   \n",
    "   *Escribe tu respuesta aquí.*\n",
    "\n",
    "**3. ¿Qué podrías hacer para intentar mejorar aún más el modelo?**\n",
    "   \n",
    "   *Escribe aquí tus ideas.*"
   ]
  }
 ],
 "metadata": {
  "kernelspec": {
   "display_name": "Python 3",
   "language": "python",
   "name": "python3"
  },
  "language_info": {
   "codemirror_mode": {
    "name": "ipython",
    "version": 3
   },
   "file_extension": ".py",
   "mimetype": "text/x-python",
   "name": "python",
   "nbconvert_exporter": "python",
   "pygments_lexer": "ipython3",
   "version": "3.12.3"
  }
 },
 "nbformat": 4,
 "nbformat_minor": 5
}
