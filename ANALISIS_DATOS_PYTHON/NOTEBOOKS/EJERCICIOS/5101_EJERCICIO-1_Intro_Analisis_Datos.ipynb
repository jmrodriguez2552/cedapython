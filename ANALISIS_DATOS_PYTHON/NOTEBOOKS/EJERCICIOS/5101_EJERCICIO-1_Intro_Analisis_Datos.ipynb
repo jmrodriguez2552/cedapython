{
 "cells": [
  {
   "cell_type": "markdown",
   "id": "89da1229",
   "metadata": {},
   "source": [
    "# EJERCICIO GUIADO 1   \n",
    "\n",
    "## DATASCIENCESTER - La red de los Científicos de Datos   \n",
    "\n",
    "### Construyendo nuestra Red   \n",
    "\n",
    "Es el primer día de trabajo en DataSciencester, y el vicepresidente de Redes tiene muchas preguntas sobre los usuarios. Hasta ahora no tenía nadie a quien preguntar, así que está muy emocionado de tener alguien nuevo en el\n",
    "equipo.   \n",
    "En particular, le interesa identificar quiénes son los “conectores clave” de todos los científicos de datos. Para ello proporciona un volcado de la red completa de DataSciencester (en la vida real, la gente no suele pasar los datos que uno necesita).   \n",
    "¿Qué aspecto tiene este volcado de datos? Consiste en una lista de usuarios, cada uno representado por un dict que contiene su id (que es un número) y su name (que,en una de esas fabulosas conjunciones planetarias, concuerda con su id):"
   ]
  },
  {
   "cell_type": "code",
   "execution_count": null,
   "id": "1d2ff0a8",
   "metadata": {},
   "outputs": [],
   "source": [
    "users = [\n",
    "    { \"id\": 0, \"name\": \"Hero\" },\n",
    "    { \"id\": 1, \"name\": \"Dunn\" },\n",
    "    { \"id\": 2, \"name\": \"Sue\" },\n",
    "    { \"id\": 3, \"name\": \"Chi\" },\n",
    "    { \"id\": 4, \"name\": \"Thor\" },\n",
    "    { \"id\": 5, \"name\": \"Clive\" },\n",
    "    { \"id\": 6, \"name\": \"Hicks\" },\n",
    "    { \"id\": 7, \"name\": \"Devin\" },\n",
    "    { \"id\": 8, \"name\": \"Kate\" },\n",
    "    { \"id\": 9, \"name\": \"Klein\" }\n",
    "]"
   ]
  },
  {
   "cell_type": "markdown",
   "id": "7e1acc4d",
   "metadata": {},
   "source": [
    "También ofrece los datos de “amistad” (friendship), representados como una lista de pares de identificadores:"
   ]
  },
  {
   "cell_type": "code",
   "execution_count": null,
   "id": "8681f8ca",
   "metadata": {},
   "outputs": [],
   "source": [
    "friendship_pairs = [(0, 1), (0, 2), (1, 2), (1, 3), (2, 3), (3, 4),\n",
    "                    (4, 5), (5, 6), (5, 7), (6, 8), (7, 8), (8, 9)]"
   ]
  },
  {
   "cell_type": "markdown",
   "id": "e32ef986",
   "metadata": {},
   "source": [
    "Por ejemplo, la tupla (0, 1) indica que los científicos de datos con id 0 (Hero) e id 1 (Dunn) son amigos. La red aparece representada en la figura siguiente:   \n",
    "\n",
    "\n",
    "<img src=\"IMAGES/redDS.jpg\" width=\"500\">"
   ]
  },
  {
   "cell_type": "markdown",
   "id": "03916395",
   "metadata": {},
   "source": [
    "Representar las amistades como una lista de pares no es la forma más sencilla de trabajar con ellas. Para encontrar todas las amistades por usuario, hay que pasar repetidamente por cada par buscando pares que contengan 1. Si\n",
    "hubiera muchos pares, el proceso tardaría mucho en realizarse.   \n",
    "\n",
    "En lugar de ello, vamos a crear un **dict** (*dictionary*) en el que las claves sean id de usuario y los valores sean listas de id de amigos (consultar cosas en un **dict** es muy rápido).      \n",
    "\n",
    "Aún tendremos que consultar cada par para crear el dict, pero solamente hay que hacerlo una vez y, después, las consultas no costarán nada:"
   ]
  },
  {
   "cell_type": "code",
   "execution_count": null,
   "id": "6bdd04bb",
   "metadata": {},
   "outputs": [],
   "source": [
    "# Inicializar el dict con una lista vacía para cada id de usuario:\n",
    "friendships = {user[\"id\"]: [] for user in users}\n",
    "\n",
    "# Y pasar por todos los pares de amistad para llenarlo:\n",
    "for i, j in friendship_pairs:\n",
    "    friendships[i].append(j)  # Añadir j como un amigo del usuario i\n",
    "    friendships[j].append(i)  # Añadir i como un amigo del usuario j"
   ]
  },
  {
   "cell_type": "markdown",
   "id": "f17383ba",
   "metadata": {},
   "source": [
    "Ahora que ya tenemos las amistades en un dict, podemos formular fácilmente preguntas sobre nuestro grafo, como por ejemplo: “¿Cuál es el número medio de conexiones?”.   \n",
    "\n",
    "Primero, hallamos el número total de conexiones sumando las longitudes de todas las listas *friends*:"
   ]
  },
  {
   "cell_type": "code",
   "execution_count": null,
   "id": "9852f587",
   "metadata": {},
   "outputs": [],
   "source": [
    "def number_of_friends(user):\n",
    "# ¿Cuántos amigos tiene este usuario?\n",
    "    user_id = user[\"id\"]\n",
    "    friend_ids = friendships[user_id]\n",
    "    return len(friend_ids)\n",
    "\n",
    "total_connections = sum(number_of_friends(user)\n",
    "                        for user in users)        # 24"
   ]
  },
  {
   "cell_type": "markdown",
   "id": "50bb9056",
   "metadata": {},
   "source": [
    "Y, después, simplemente dividimos por el número de usuarios:"
   ]
  },
  {
   "cell_type": "code",
   "execution_count": null,
   "id": "5c82d12f",
   "metadata": {},
   "outputs": [],
   "source": [
    "num_users = len(users) # longitud de la lista de usuarios\n",
    "\n",
    "avg_connections = total_connections / num_users # 24 / 10 == 2,4"
   ]
  },
  {
   "cell_type": "markdown",
   "id": "39aee596",
   "metadata": {},
   "source": [
    "También es sencillo encontrar las personas más conectadas (las que tienen la mayor cantidad de amigos).   \n",
    "\n",
    "Como no hay muchos usuarios, simplemente podemos ordenarlos de “la mayor cantidad de amigos” a “la menor cantidad de amigos”:"
   ]
  },
  {
   "cell_type": "code",
   "execution_count": null,
   "id": "06b905d9",
   "metadata": {},
   "outputs": [],
   "source": [
    "# Crea una lista (user_id, number_of_friends).\n",
    "num_friends_by_id = [(user[\"id\"], number_of_friends(user))\n",
    "                     for user in users]\n",
    "\n",
    "num_friends_by_id.sort(                                # Ordena la lista\n",
    "       key=lambda id_and_friends: id_and_friends[1],   # por num_friends\n",
    "       reverse=True)                                   # de mayor a menor\n",
    "\n",
    "# Cada par es (user_id, num_friends):\n",
    "# [(1, 3), (2, 3), (3, 3), (5, 3), (8, 3),\n",
    "#  (0, 2), (4, 2), (6, 2), (7, 2), (9, 1)]"
   ]
  },
  {
   "cell_type": "markdown",
   "id": "2771e81b",
   "metadata": {},
   "source": [
    "Una manera de pensar en lo que hemos hecho es como en una forma de identificar a las personas que son de alguna manera centrales para la red.   \n",
    "\n",
    "En realidad, lo que acabamos de calcular es la [**métrica de la centralidad de grado**](https://es.wikipedia.org/wiki/Centralidad_de_grado) (*número de caminos de longitud 1 que lo conectan con otros nodos*) de la red:   \n",
    "\n",
    "<img src=\"IMAGES/redDS2.png\" width=\"500\">"
   ]
  },
  {
   "cell_type": "markdown",
   "id": "599faee3",
   "metadata": {},
   "source": [
    "Esta métrica tiene la ventaja de ser bastante fácil de calcular, pero no siempre da los resultados que se desean o esperan. Por ejemplo, en esta red el usuario *Thor (id 4)* solo tiene dos conexiones, mientras que el usuario *Dunn (id 1)* tiene tres.   "
   ]
  },
  {
   "cell_type": "markdown",
   "id": "67d227a6",
   "metadata": {},
   "source": [
    "Ahora vamos a sugerir que los usuarios podrían conocer a los amigos de sus amigos. Así que escribímos un poco de código para pasar varias veces por los amigos (iniciales) y recoger los amigos de los amigos:"
   ]
  },
  {
   "cell_type": "code",
   "execution_count": null,
   "id": "34d5207b",
   "metadata": {},
   "outputs": [],
   "source": [
    "def foaf_ids_bad(user):\n",
    "    \"\"\"foaf es el acrónimo para \"friend of a friend\" (amigo de un amigo) \"\"\"\n",
    "    return [foaf_id\n",
    "            for friend_id in friendships[user[\"id\"]]\n",
    "            for foaf_id in friendships[friend_id]]"
   ]
  },
  {
   "cell_type": "markdown",
   "id": "d775f111",
   "metadata": {},
   "source": [
    "Cuando aplicamos esto sobre users[0] (Hero), produce lo siguiente:\n",
    "```\n",
    "[0, 2, 3, 0, 1, 3]\n",
    "```\n",
    "- Incluye el usuario 0 dos veces, ya que *Hero* es de hecho amigo de sus dos amigos.    \n",
    "- Incluye los usuarios 1 y 2, aunque ambos ya son amigos de *Hero*.    \n",
    "- Y también incluye el usuario 3 dos veces, ya que se puede llegar hasta *Chi* a través de dos amigos distintos:"
   ]
  },
  {
   "cell_type": "code",
   "execution_count": null,
   "id": "4f7acf5b",
   "metadata": {},
   "outputs": [],
   "source": [
    "print(friendships[0]) # [1, 2]\n",
    "print(friendships[1]) # [0, 2, 3]\n",
    "print(friendships[2]) # [0, 1, 3]"
   ]
  },
  {
   "cell_type": "markdown",
   "id": "0d4ade89",
   "metadata": {},
   "source": [
    "Saber que las personas son amigos de amigos de diversas maneras puede resultar ser información interesante, de modo que quizá en su lugar podríamos generar un contador de amigos mutuos. Y deberíamos, probablemente, excluir gente ya conocida por el usuario:"
   ]
  },
  {
   "cell_type": "code",
   "execution_count": null,
   "id": "30061d25",
   "metadata": {},
   "outputs": [],
   "source": [
    "from collections import Counter # no cargado inicialmente\n",
    "def friends_of_friends(user):\n",
    "    user_id = user[\"id\"]\n",
    "    return Counter(\n",
    "        foaf_id\n",
    "        for friend_id in friendships[user_id] # Para cada uno de mis amigos,\n",
    "        for foaf_id in friendships[friend_id] # encuentra sus amigos\n",
    "        if foaf_id != user_id                 # que no son yo \n",
    "        and foaf_id not in                    # y no son mis amigos\n",
    "        friendships[user_id]\n",
    "    )\n",
    "print(friends_of_friends(users[3]))           # Contador({0: 2, 5: 1})"
   ]
  },
  {
   "cell_type": "markdown",
   "id": "57493084",
   "metadata": {},
   "source": [
    "Esta función le dice correctamente a *Chi (id 3)* que tiene dos amigos mutuos con *Hero (id 0)*, pero solo uno con *Clive (id 5)*.   \n",
    "\n",
    "### Estableciendo relaciones con colegas con intereses afines\n",
    "\n",
    "Como científicos de datos, sabemos que también se puede disfrutar conociendo amigos con intereses comunes. Tras hacer indagaciones, conseguimos una lista de pares (user_id, interest):"
   ]
  },
  {
   "cell_type": "code",
   "execution_count": null,
   "id": "352bb22a",
   "metadata": {},
   "outputs": [],
   "source": [
    "interests = [\n",
    "(0, \"Hadoop\"), (0, \"Big Data\"), (0, \"HBase\"), (0, \"Java\"),\n",
    "(0, \"Spark\"), (0, \"Storm\"), (0, \"Cassandra\"),\n",
    "(1, \"NoSQL\"), (1, \"MongoDB\"), (1, \"Cassandra\"), (1, \"HBase\"),\n",
    "(1, \"Postgres\"), (2, \"Python\"), (2, \"scikit-learn\"), (2, \"scipy\"),\n",
    "(2, \"numpy\"), (2, \"statsmodels\"), (2, \"pandas\"), (3, \"R\"), (3, \"Python\"),\n",
    "(3, \"statistics\"), (3, \"regression\"), (3, \"probability\"),\n",
    "(4, \"machine learning\"), (4, \"regression\"), (4, \"decision trees\"),\n",
    "(4, \"libsvm\"), (5, \"Python\"), (5, \"R\"), (5, \"Java\"), (5, \"C++\"),\n",
    "(5, \"Haskell\"), (5, \"programming languages\"), (6, \"statistics\"),\n",
    "(6, \"probability\"), (6, \"mathematics\"), (6, \"theory\"),\n",
    "(7, \"machine learning\"), (7, \"scikit-learn\"), (7, \"Mahout\"),\n",
    "(7, \"neural networks\"), (8, \"neural networks\"), (8, \"deep learning\"),\n",
    "(8, \"Big Data\"), (8, \"artificial intelligence\"), (9, \"Hadoop\"),\n",
    "(9, \"Java\"), (9, \"MapReduce\"), (9, \"Big Data\")\n",
    "]"
   ]
  },
  {
   "cell_type": "markdown",
   "id": "0851e18b",
   "metadata": {},
   "source": [
    "Para empezar, vemos como *Hero (id 0)* no tiene amigos comunes con *Klein (id 9)*, pero ambos comparten intereses en Java y Big Data.   \n",
    "\n",
    "Es fácil crear una función que encuentre usuarios con un determinado interés:"
   ]
  },
  {
   "cell_type": "code",
   "execution_count": null,
   "id": "654b26f6",
   "metadata": {},
   "outputs": [],
   "source": [
    "def data_scientists_who_like(target_interest):\n",
    "    \"\"\" Localiza los ids de todos los usuarios a los que les gusta el interés objetivo. \"\"\"\n",
    "    return [user_id\n",
    "        for user_id, user_interest in interests\n",
    "        if user_interest == target_interest]"
   ]
  },
  {
   "cell_type": "markdown",
   "id": "0e6efb78",
   "metadata": {},
   "source": [
    "Este código funciona, pero tiene que examinar la lista completa de aficiones en cada búsqueda.    \n",
    "\n",
    "Si tenemos muchos usuarios e intereses (o si simplemente queremos hacer muchas búsquedas), es mucho mejor que nos dediquemos a crear un índice de intereses a usuarios:"
   ]
  },
  {
   "cell_type": "code",
   "execution_count": null,
   "id": "c40768fa",
   "metadata": {},
   "outputs": [],
   "source": [
    "from collections import defaultdict\n",
    "# Las claves son intereses, los valores son listas de user_ids con ese interés\n",
    "user_ids_by_interest = defaultdict(list)\n",
    "for user_id, interest in interests:\n",
    "    user_ids_by_interest[interest].append(user_id)"
   ]
  },
  {
   "cell_type": "markdown",
   "id": "ad7e2323",
   "metadata": {},
   "source": [
    "Y otro de usuarios a intereses:"
   ]
  },
  {
   "cell_type": "code",
   "execution_count": null,
   "id": "7b149c19",
   "metadata": {},
   "outputs": [],
   "source": [
    "# Las claves son user_ids, los valores son listas de intereses para ese user_id.\n",
    "interests_by_user_id = defaultdict(list)\n",
    "for user_id, interest in interests:\n",
    "    interests_by_user_id[user_id].append(interest)"
   ]
  },
  {
   "cell_type": "markdown",
   "id": "9883a149",
   "metadata": {},
   "source": [
    "Ahora es fácil averiguar quién tiene el mayor número de intereses en común con un determinado usuario:   \n",
    "\n",
    "    ■ Pasamos varias veces por los intereses del usuario.\n",
    "    ■ Para cada interés, volvemos a pasar en repetidas ocasiones por los demás usuarios que tienen ese mismo interés.\n",
    "    ■ Contamos las veces que vemos cada uno de los usuarios.   \n",
    "    \n",
    "En código:"
   ]
  },
  {
   "cell_type": "code",
   "execution_count": null,
   "id": "1f909f5c",
   "metadata": {},
   "outputs": [],
   "source": [
    "def most_common_interests_with(user):\n",
    "    return Counter(\n",
    "        interested_user_id\n",
    "        for interest in interests_by_user_id[user[\"id\"]]\n",
    "        for interested_user_id in user_ids_by_interest[interest]\n",
    "        if interested_user_id != user[\"id\"]\n",
    "    )"
   ]
  },
  {
   "cell_type": "markdown",
   "id": "ae693416",
   "metadata": {},
   "source": [
    "Después, podríamos utilizar esto para crear una función “Científicos de datos que podría conocer” más completa basándonos en una combinación de amigos mutuos e intereses comunes."
   ]
  },
  {
   "cell_type": "markdown",
   "id": "f825eba9",
   "metadata": {},
   "source": [
    "### Revisando los salarios   \n",
    "\n",
    "Nos acaban de proporcionar información sobre salarios. Los datos de sueldos son, por supuesto, confidenciales, pero los datos proporcionados son un conjunto de datos anónimo que contiene el *salario (salary)* de cada usuario (en dólares) y su *antigüedad en el puesto (tenure)* como científico de datos (en años):"
   ]
  },
  {
   "cell_type": "code",
   "execution_count": null,
   "id": "1c11e9ac",
   "metadata": {},
   "outputs": [],
   "source": [
    "salaries_and_tenures = [(83000, 8.7), (88000, 8.1),\n",
    "                        (48000, 0.7), (76000, 6),\n",
    "                        (69000, 6.5), (76000, 7.5),\n",
    "                        (60000, 2.5), (83000, 10),\n",
    "                        (48000, 1.9), (63000, 4.2)]"
   ]
  },
  {
   "cell_type": "markdown",
   "id": "83ec5c11",
   "metadata": {},
   "source": [
    "Si trazamos una gráfica (veremos más adelante como hacerlo) obtendríamos algo parecido a esto:\n",
    "\n",
    "<img src=\"IMAGES/grafica.png\" width=\"700\">"
   ]
  },
  {
   "cell_type": "markdown",
   "id": "06c8994b",
   "metadata": {},
   "source": [
    "Parece claro que la gente con más experiencia tiende a ganar más.    \n",
    "\n",
    "¿Cómo se puede convertir esto en un dato curioso?    \n",
    "\n",
    "Lo primero que se nos ocurre es mirar el salario medio por antigüedad:"
   ]
  },
  {
   "cell_type": "code",
   "execution_count": null,
   "id": "527a0db4",
   "metadata": {},
   "outputs": [],
   "source": [
    "# Las claves son años, los valores son listas de los salarios por antigüedad.\n",
    "salary_by_tenure = defaultdict(list)\n",
    "\n",
    "for salary, tenure in salaries_and_tenures:\n",
    "    salary_by_tenure[tenure].append(salary)\n",
    "    \n",
    "# Las claves son años, cada valor es el salario medio para dicha antigüedad.\n",
    "average_salary_by_tenure = {\n",
    "    tenure: sum(salaries) / len(salaries)\n",
    "    for tenure, salaries in salary_by_tenure.items()\n",
    "}"
   ]
  },
  {
   "cell_type": "markdown",
   "id": "eb0dff73",
   "metadata": {},
   "source": [
    "Resulta que esto no es especialmente útil, ya que ninguno de los usuarios tiene la misma antigüedad en el puesto de trabajo, lo que significa que simplemente estamos informando de los salarios individuales de los usuarios:   \n",
    "\n",
    "```\n",
    "{0.7: 48000.0,\n",
    "1.9: 48000.0,\n",
    "2.5: 60000.0,\n",
    "4.2: 63000.0,\n",
    "6: 76000.0,\n",
    "6.5: 69000.0,\n",
    "7.5: 76000.0,\n",
    "8.1: 88000.0,\n",
    "8.7: 83000.0,\n",
    "10: 83000.0}\n",
    "```\n",
    "\n",
    "Podría ser más útil poner los años de antigüedad en un *bucket*:"
   ]
  },
  {
   "cell_type": "code",
   "execution_count": null,
   "id": "69096e06",
   "metadata": {},
   "outputs": [],
   "source": [
    "def tenure_bucket(tenure):\n",
    "    if tenure < 2:\n",
    "     return \"menos que dos\"\n",
    "    elif tenure < 5:\n",
    "      return \"entre dos y cinco\"\n",
    "    else:\n",
    "     return \"más de cinco\""
   ]
  },
  {
   "cell_type": "markdown",
   "id": "fcb72fe1",
   "metadata": {},
   "source": [
    "Entonces podemos agrupar los salarios correspondientes a cada *bucket*:"
   ]
  },
  {
   "cell_type": "code",
   "execution_count": null,
   "id": "94a1150c",
   "metadata": {},
   "outputs": [],
   "source": [
    "# Las claves son buckets de años de antigüedad, los valores son listas de salarios para bucket\n",
    "salary_by_tenure_bucket = defaultdict(list)\n",
    "for salary, tenure in salaries_and_tenures:\n",
    "    bucket = tenure_bucket(tenure)\n",
    "    salary_by_tenure_bucket[bucket].append(salary)"
   ]
  },
  {
   "cell_type": "markdown",
   "id": "489189e2",
   "metadata": {},
   "source": [
    "Y, por último, calcular el salario medio para cada grupo:"
   ]
  },
  {
   "cell_type": "code",
   "execution_count": null,
   "id": "f93e650e",
   "metadata": {},
   "outputs": [],
   "source": [
    "# Las claves son buckets de años de antigüedad, los valores son el salario medio para bucket\n",
    "average_salary_by_bucket = {\n",
    "    tenure_bucket: sum(salaries) / len(salaries)\n",
    "    for tenure_bucket, salaries in salary_by_tenure_bucket.items()\n",
    "}"
   ]
  },
  {
   "cell_type": "markdown",
   "id": "6fd60c8f",
   "metadata": {},
   "source": [
    "Lo que es más interesante:\n",
    "```\n",
    "{‘entre dos y cinco’: 61500.0,\n",
    "‘menos que dos’: 48000.0,\n",
    "‘más de cinco’: 79166.66666666667}\n",
    "```"
   ]
  },
  {
   "cell_type": "markdown",
   "id": "eb4c22d3",
   "metadata": {},
   "source": [
    "Y ya tenemos nuestra proclama: “Los científicos de datos con más de cinco años de experiencia ganan un 65 % más que los científicos de datos con poca experiencia o ninguna”.   \n",
    "\n",
    "Pero hemos elegido los *buckets* de una forma bastante aleatoria. Lo que realmente haríamos es hacer alguna declaración sobre el efecto que tiene en el salario (en promedio) tener un año adicional de experiencia. Además de conseguir un dato curioso más eficiente, esto nos permite hacer predicciones sobre salarios que no conocemos."
   ]
  },
  {
   "cell_type": "markdown",
   "id": "7b73a9af",
   "metadata": {},
   "source": [
    "Quiere entender mejor qué usuarios pagan por las cuentas y cuáles no (ella conoce sus nombres, pero esa información no es especialmente procesable).Se da cuenta de que parece haber una correspondencia entre los años de\n",
    "experiencia y las cuentas de pago:   \n",
    "\n",
    "```\n",
    "0.7 paid\n",
    "1.9 unpaid\n",
    "2.5 paid\n",
    "4.2 unpaid\n",
    "6.0 unpaid\n",
    "6.5 unpaid\n",
    "7.5 unpaid\n",
    "8.1 unpaid\n",
    "8.7 paid\n",
    "10.0 paid   \n",
    "```\n",
    "Los usuarios con muy pocos y muchos años de experiencia tienden a pagar; los usuarios con cantidades de experiencia medias no lo hacen. Según esto, si quería crear un modelo (aunque sin duda no son datos suficientes en\n",
    "los que basarlo), podría intentar predecir “de pago” para usuarios con muy pocos y muchos años de experiencia y “no de pago” para usuarios con cantidades de experiencia medias:"
   ]
  },
  {
   "cell_type": "code",
   "execution_count": null,
   "id": "df7d90b3",
   "metadata": {},
   "outputs": [],
   "source": [
    "def predict_paid_or_unpaid(years_experience):\n",
    "    if years_experience < 3.0:\n",
    "        return \"paid\"\n",
    "    elif years_experience < 8.5:\n",
    "        return \"unpaid\"\n",
    "    else:\n",
    "        return \"paid\""
   ]
  },
  {
   "cell_type": "markdown",
   "id": "1f7d5868",
   "metadata": {},
   "source": [
    "Por supuesto, esto lo hemos calculado a ojo.   \n",
    "\n",
    "Con más datos (y más matemáticas), podríamos crear un modelo que predijera la probabilidad de que un usuario pagara, basándonos en sus años de experiencia."
   ]
  },
  {
   "cell_type": "markdown",
   "id": "9d22fc34",
   "metadata": {},
   "source": [
    "Ya disponemos de los datos sin procesar del proyecto del sugeridor\n",
    "de amigos:\n",
    "```\n",
    "interests = [\n",
    "    (0, \"Hadoop\"), (0, \"Big Data\"), (0, \"HBase\"), (0, \"Java\"),\n",
    "    (0, \"Spark\"), (0, \"Storm\"), (0, \"Cassandra\"),\n",
    "    (1, \"NoSQL\"), (1, \"MongoDB\"), (1, \"Cassandra\"), (1, \"HBase\"),\n",
    "    (1, \"Postgres\"), (2, \"Python\"), (2, \"scikit-learn\"), (2, \"scipy\"),\n",
    "    (2, \"numpy\"), (2, \"statsmodels\"), (2, \"pandas\"), (3, \"R\"), (3, \"Python\"),\n",
    "    (3, \"statistics\"), (3, \"regression\"), (3, \"probability\"),\n",
    "    (4, \"machine learning\"), (4, \"regression\"), (4, \"decision trees\"),\n",
    "    (4, \"libsvm\"), (5, \"Python\"), (5, \"R\"), (5, \"Java\"), (5, \"C++\"),\n",
    "    (5, \"Haskell\"), (5, \"programming languages\"), (6, \"statistics\"),\n",
    "    (6, \"probability\"), (6, \"mathematics\"), (6, \"theory\"),\n",
    "    (7, \"machine learning\"), (7, \"scikit-learn\"), (7, \"Mahout\"),\n",
    "    (7, \"neural networks\"), (8, \"neural networks\"), (8, \"deep learning\"),\n",
    "    (8, \"Big Data\"), (8, \"artificial intelligence\"), (9, \"Hadoop\"),\n",
    "    (9, \"Java\"), (9, \"MapReduce\"), (9, \"Big Data\")\n",
    "]\n",
    "```\n",
    "Una manera sencilla (aunque no especialmente apasionante) de encontrar\n",
    "los intereses más populares es contando las palabras:\n",
    "1. Ponemos en minúsculas todos los hobbies (ya que habrá usuarios que los pongan en mayúscula y otros en minúscula).\n",
    "2. Los dividimos en palabras.\n",
    "3. Contamos los resultados.   \n",
    "\n",
    "En código:"
   ]
  },
  {
   "cell_type": "code",
   "execution_count": null,
   "id": "28a95a59",
   "metadata": {},
   "outputs": [],
   "source": [
    "words_and_counts = Counter(word\n",
    "    for user, interest in interests\n",
    "    for word in interest.lower().split())"
   ]
  },
  {
   "cell_type": "markdown",
   "id": "5df5ceda",
   "metadata": {},
   "source": [
    "Así es posible hacer fácilmente un listado con las palabras que aparecen más de una vez:"
   ]
  },
  {
   "cell_type": "code",
   "execution_count": null,
   "id": "c627278d",
   "metadata": {},
   "outputs": [],
   "source": [
    "for word, count in words_and_counts.most_common():\n",
    "    if count > 1:\n",
    "        print(word, count)"
   ]
  },
  {
   "cell_type": "markdown",
   "id": "97387752",
   "metadata": {},
   "source": [
    "Lo que da los resultados esperados (a menos que se suponga que “scikit-learn” ha quedado dividido en dos palabras, en cuyo caso no los da).   \n",
    "```\n",
    "    learning 3\n",
    "    java 3\n",
    "    python 3\n",
    "    big 3\n",
    "    data 3\n",
    "    hbase 2\n",
    "    regression 2\n",
    "    cassandra 2\n",
    "    statistics 2\n",
    "    probability 2\n",
    "    hadoop 2\n",
    "    networks 2\n",
    "    machine 2\n",
    "    neural 2\n",
    "    scikit-learn 2\n",
    "    r 2\n",
    "```\n"
   ]
  },
  {
   "cell_type": "markdown",
   "id": "0a73ea53",
   "metadata": {},
   "source": [
    "Y hasta aquí esta breve introducción al Análisis de Datos. Más adelante veremos formas más sofisticadas de extraer temas de datos."
   ]
  },
  {
   "cell_type": "markdown",
   "id": "76729204",
   "metadata": {},
   "source": []
  }
 ],
 "metadata": {
  "language_info": {
   "name": "python"
  }
 },
 "nbformat": 4,
 "nbformat_minor": 5
}
