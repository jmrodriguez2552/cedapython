{
 "cells": [
  {
   "cell_type": "markdown",
   "metadata": {},
   "source": [
    "## Unidad de Trabajo 2: Lectura y Exportación de Datos Estructurados\n",
    "\n",
    "### Objetivos de la Unidad\n",
    "\n",
    "Esta unidad sigue contribuyendo al **Resultado de Aprendizaje 1 (RA 1)**: *Manejo, limpieza y normalización de distintos tipos de datos en función del problema a resolver*. Al finalizar esta unidad, seréis capaces de:\n",
    "\n",
    "* Escribir código que permita leer datos de distintos orígenes (CSV, XLSX, entre otros).\n",
    "* Escribir código que permita exportar datos previamente leídos en ficheros de distinto formato (CSV, XLSX, entre otros)."
   ]
  },
  {
   "cell_type": "markdown",
   "metadata": {},
   "source": [
    "### 1. Métodos para Leer Datos de Diversos Orígenes\n",
    "\n",
    "Pandas dispone de un conjunto de funciones, cuyo nombre suele empezar por `read_*`, para leer datos tabulares y cargarlos en un `DataFrame`. Nos centraremos en las más comunes para datos estructurados: `read_csv` y `read_excel`."
   ]
  },
  {
   "cell_type": "markdown",
   "metadata": {},
   "source": [
    "#### 1.1. Lectura de archivos CSV\n",
    "\n",
    "El formato **CSV (Comma-Separated Values)** es, posiblemente, el formato de archivo de texto más extendido para datos tabulares. Es un formato de texto plano, lo que lo hace muy ligero y compatible. La función principal para leer estos archivos es `pd.read_csv().\n",
    "\n",
    "Para nuestros ejemplos, crearemos un archivo `ejemplo_ventas.csv` en la misma carpeta que nuestro notebook. Podéis crearlo con un editor de texto plano (como el bloc de notas o VS Code) y guardar el siguiente contenido:"
   ]
  },
  {
   "cell_type": "markdown",
   "metadata": {},
   "source": [
    "```csv\n",
    "ID_Producto,Producto,Categoria,Precio,Unidades_Vendidas\n",
    "101,Portátil,Electrónica,1200,50\n",
    "102,Smartphone,Electrónica,800,150\n",
    "201,Silla Oficina,Mobiliario,150,300\n",
    "202,Mesa Escritorio,Mobiliario,200,100\n",
    "301,Teclado,Accesorios,75,500\n",
    "```"
   ]
  },
  {
   "cell_type": "markdown",
   "metadata": {},
   "source": [
    "**Ejemplo 1: Lectura básica de un CSV**"
   ]
  },
  {
   "cell_type": "code",
   "execution_count": 2,
   "metadata": {},
   "outputs": [
    {
     "name": "stdout",
     "output_type": "stream",
     "text": [
      "DataFrame cargado desde CSV:\n"
     ]
    },
    {
     "data": {
      "text/html": [
       "<div>\n",
       "<style scoped>\n",
       "    .dataframe tbody tr th:only-of-type {\n",
       "        vertical-align: middle;\n",
       "    }\n",
       "\n",
       "    .dataframe tbody tr th {\n",
       "        vertical-align: top;\n",
       "    }\n",
       "\n",
       "    .dataframe thead th {\n",
       "        text-align: right;\n",
       "    }\n",
       "</style>\n",
       "<table border=\"1\" class=\"dataframe\">\n",
       "  <thead>\n",
       "    <tr style=\"text-align: right;\">\n",
       "      <th></th>\n",
       "      <th>ID_Producto</th>\n",
       "      <th>Producto</th>\n",
       "      <th>Categoria</th>\n",
       "      <th>Precio</th>\n",
       "      <th>Unidades_Vendidas</th>\n",
       "    </tr>\n",
       "  </thead>\n",
       "  <tbody>\n",
       "    <tr>\n",
       "      <th>0</th>\n",
       "      <td>101</td>\n",
       "      <td>Portátil</td>\n",
       "      <td>Electrónica</td>\n",
       "      <td>1200</td>\n",
       "      <td>50</td>\n",
       "    </tr>\n",
       "    <tr>\n",
       "      <th>1</th>\n",
       "      <td>102</td>\n",
       "      <td>Smartphone</td>\n",
       "      <td>Electrónica</td>\n",
       "      <td>800</td>\n",
       "      <td>150</td>\n",
       "    </tr>\n",
       "    <tr>\n",
       "      <th>2</th>\n",
       "      <td>201</td>\n",
       "      <td>Silla Oficina</td>\n",
       "      <td>Mobiliario</td>\n",
       "      <td>150</td>\n",
       "      <td>300</td>\n",
       "    </tr>\n",
       "    <tr>\n",
       "      <th>3</th>\n",
       "      <td>202</td>\n",
       "      <td>Mesa Escritorio</td>\n",
       "      <td>Mobiliario</td>\n",
       "      <td>200</td>\n",
       "      <td>100</td>\n",
       "    </tr>\n",
       "    <tr>\n",
       "      <th>4</th>\n",
       "      <td>301</td>\n",
       "      <td>Teclado</td>\n",
       "      <td>Accesorios</td>\n",
       "      <td>75</td>\n",
       "      <td>500</td>\n",
       "    </tr>\n",
       "  </tbody>\n",
       "</table>\n",
       "</div>"
      ],
      "text/plain": [
       "   ID_Producto         Producto    Categoria  Precio  Unidades_Vendidas\n",
       "0          101         Portátil  Electrónica    1200                 50\n",
       "1          102       Smartphone  Electrónica     800                150\n",
       "2          201    Silla Oficina   Mobiliario     150                300\n",
       "3          202  Mesa Escritorio   Mobiliario     200                100\n",
       "4          301          Teclado   Accesorios      75                500"
      ]
     },
     "execution_count": 2,
     "metadata": {},
     "output_type": "execute_result"
    }
   ],
   "source": [
    "import pandas as pd\n",
    "\n",
    "# Leemos el archivo CSV y lo cargamos en un DataFrame\n",
    "# Pandas infiere automáticamente la cabecera (los nombres de las columnas)\n",
    "df_ventas = pd.read_csv('ejemplo_ventas.csv')\n",
    "\n",
    "print(\"DataFrame cargado desde CSV:\")\n",
    "df_ventas"
   ]
  },
  {
   "cell_type": "markdown",
   "metadata": {},
   "source": [
    "La función `read_csv` es muy potente y tiene muchos parámetros para adaptarse a archivos CSV con formatos no estándar. Veamos algunos de los más útiles:\n",
    "\n",
    "* `sep`: Para especificar el delimitador si no es una coma. Por ejemplo, `sep=';'` para archivos delimitados por punto y coma.\n",
    "* `header`: Para indicar qué fila del archivo contiene los nombres de las columnas. Si no hay cabecera, se usa `header=None`.\n",
    "* `names`: Para proporcionar una lista con los nombres de las columnas, muy útil si el archivo no tiene cabecera.\n",
    "* `index_col`: Para especificar qué columna (o columnas) debe usarse como índice del DataFrame."
   ]
  },
  {
   "cell_type": "markdown",
   "metadata": {},
   "source": [
    "**Ejemplo 2: Lectura de un CSV sin cabecera y especificando un índice**\n",
    "\n",
    "Imaginemos que nuestro archivo, `ventas_sin_header.csv`, no tiene la fila de nombres de columna:\n",
    "```csv\n",
    "101,Portátil,Electrónica,1200,50\n",
    "102,Smartphone,Electrónica,800,150\n",
    "201,Silla Oficina,Mobiliario,150,300\n",
    "```"
   ]
  },
  {
   "cell_type": "code",
   "execution_count": 5,
   "metadata": {},
   "outputs": [
    {
     "name": "stdout",
     "output_type": "stream",
     "text": [
      "DataFrame con cabecera e índice personalizados:\n"
     ]
    },
    {
     "data": {
      "text/html": [
       "<div>\n",
       "<style scoped>\n",
       "    .dataframe tbody tr th:only-of-type {\n",
       "        vertical-align: middle;\n",
       "    }\n",
       "\n",
       "    .dataframe tbody tr th {\n",
       "        vertical-align: top;\n",
       "    }\n",
       "\n",
       "    .dataframe thead th {\n",
       "        text-align: right;\n",
       "    }\n",
       "</style>\n",
       "<table border=\"1\" class=\"dataframe\">\n",
       "  <thead>\n",
       "    <tr style=\"text-align: right;\">\n",
       "      <th></th>\n",
       "      <th>Producto</th>\n",
       "      <th>Categoria</th>\n",
       "      <th>Precio</th>\n",
       "      <th>Unidades_Vendidas</th>\n",
       "    </tr>\n",
       "    <tr>\n",
       "      <th>ID_Producto</th>\n",
       "      <th></th>\n",
       "      <th></th>\n",
       "      <th></th>\n",
       "      <th></th>\n",
       "    </tr>\n",
       "  </thead>\n",
       "  <tbody>\n",
       "    <tr>\n",
       "      <th>101</th>\n",
       "      <td>Portátil</td>\n",
       "      <td>Electrónica</td>\n",
       "      <td>1200</td>\n",
       "      <td>50</td>\n",
       "    </tr>\n",
       "    <tr>\n",
       "      <th>102</th>\n",
       "      <td>Smartphone</td>\n",
       "      <td>Electrónica</td>\n",
       "      <td>800</td>\n",
       "      <td>150</td>\n",
       "    </tr>\n",
       "    <tr>\n",
       "      <th>201</th>\n",
       "      <td>Silla Oficina</td>\n",
       "      <td>Mobiliario</td>\n",
       "      <td>150</td>\n",
       "      <td>300</td>\n",
       "    </tr>\n",
       "  </tbody>\n",
       "</table>\n",
       "</div>"
      ],
      "text/plain": [
       "                  Producto    Categoria  Precio  Unidades_Vendidas\n",
       "ID_Producto                                                       \n",
       "101               Portátil  Electrónica    1200                 50\n",
       "102             Smartphone  Electrónica     800                150\n",
       "201          Silla Oficina   Mobiliario     150                300"
      ]
     },
     "execution_count": 5,
     "metadata": {},
     "output_type": "execute_result"
    }
   ],
   "source": [
    "# Creamos el archivo para el ejemplo\n",
    "# csv_data = \"\"\"101,Portátil,Electrónica,1200,50\n",
    "# 102,Smartphone,Electrónica,800,150\n",
    "# 201,Silla Oficina,Mobiliario,150,300\"\"\"\n",
    "# with open('ventas_sin_header.csv', 'w') as f:\n",
    "#   f.write(csv_data)\n",
    "\n",
    "# Definimos los nombres de las columnas\n",
    "nombres_col = ['ID_Producto', 'Producto', 'Categoria', 'Precio', 'Unidades_Vendidas']\n",
    "\n",
    "# Leemos el archivo, indicando que no hay cabecera, \n",
    "# proporcionando los nombres y usando ID_Producto como índice\n",
    "df_ventas_2 = pd.read_csv('ventas_sin_header.csv', header=None, names=nombres_col, index_col='ID_Producto')\n",
    "\n",
    "print(\"DataFrame con cabecera e índice personalizados:\")\n",
    "df_ventas_2"
   ]
  },
  {
   "cell_type": "markdown",
   "metadata": {},
   "source": [
    "#### 1.2. Lectura de archivos Excel\n",
    "\n",
    "Pandas también puede leer y escribir archivos en formato Microsoft Excel (`.xls` y `.xlsx`). Para ello, utiliza librerías externas como `openpyxl` y `xlrd`. Si no las instalaste en la unidad anterior, puedes hacerlo ahora:\n",
    "\n",
    "```bash\n",
    "pip install openpyxl xlrd\n",
    "```\n",
    "\n",
    "La función principal es `pd.read_excel()`.\n",
    "\n",
    "**Ejemplo 3: Lectura de un archivo Excel**\n",
    "\n",
    "Primero, vamos a crear un archivo de Excel usando el DataFrame que ya teníamos."
   ]
  },
  {
   "cell_type": "code",
   "execution_count": 6,
   "metadata": {},
   "outputs": [
    {
     "name": "stdout",
     "output_type": "stream",
     "text": [
      "Archivo 'ejemplo_ventas.xlsx' creado con éxito.\n"
     ]
    }
   ],
   "source": [
    "# Usaremos el primer DataFrame que creamos\n",
    "df_ventas.to_excel('ejemplo_ventas.xlsx', sheet_name='Ventas_2024', index=False)\n",
    "print(\"Archivo 'ejemplo_ventas.xlsx' creado con éxito.\")"
   ]
  },
  {
   "cell_type": "code",
   "execution_count": 7,
   "metadata": {},
   "outputs": [
    {
     "name": "stdout",
     "output_type": "stream",
     "text": [
      "DataFrame cargado desde Excel:\n"
     ]
    },
    {
     "data": {
      "text/html": [
       "<div>\n",
       "<style scoped>\n",
       "    .dataframe tbody tr th:only-of-type {\n",
       "        vertical-align: middle;\n",
       "    }\n",
       "\n",
       "    .dataframe tbody tr th {\n",
       "        vertical-align: top;\n",
       "    }\n",
       "\n",
       "    .dataframe thead th {\n",
       "        text-align: right;\n",
       "    }\n",
       "</style>\n",
       "<table border=\"1\" class=\"dataframe\">\n",
       "  <thead>\n",
       "    <tr style=\"text-align: right;\">\n",
       "      <th></th>\n",
       "      <th>ID_Producto</th>\n",
       "      <th>Producto</th>\n",
       "      <th>Categoria</th>\n",
       "      <th>Precio</th>\n",
       "      <th>Unidades_Vendidas</th>\n",
       "    </tr>\n",
       "  </thead>\n",
       "  <tbody>\n",
       "    <tr>\n",
       "      <th>0</th>\n",
       "      <td>101</td>\n",
       "      <td>Portátil</td>\n",
       "      <td>Electrónica</td>\n",
       "      <td>1200</td>\n",
       "      <td>50</td>\n",
       "    </tr>\n",
       "    <tr>\n",
       "      <th>1</th>\n",
       "      <td>102</td>\n",
       "      <td>Smartphone</td>\n",
       "      <td>Electrónica</td>\n",
       "      <td>800</td>\n",
       "      <td>150</td>\n",
       "    </tr>\n",
       "    <tr>\n",
       "      <th>2</th>\n",
       "      <td>201</td>\n",
       "      <td>Silla Oficina</td>\n",
       "      <td>Mobiliario</td>\n",
       "      <td>150</td>\n",
       "      <td>300</td>\n",
       "    </tr>\n",
       "    <tr>\n",
       "      <th>3</th>\n",
       "      <td>202</td>\n",
       "      <td>Mesa Escritorio</td>\n",
       "      <td>Mobiliario</td>\n",
       "      <td>200</td>\n",
       "      <td>100</td>\n",
       "    </tr>\n",
       "    <tr>\n",
       "      <th>4</th>\n",
       "      <td>301</td>\n",
       "      <td>Teclado</td>\n",
       "      <td>Accesorios</td>\n",
       "      <td>75</td>\n",
       "      <td>500</td>\n",
       "    </tr>\n",
       "  </tbody>\n",
       "</table>\n",
       "</div>"
      ],
      "text/plain": [
       "   ID_Producto         Producto    Categoria  Precio  Unidades_Vendidas\n",
       "0          101         Portátil  Electrónica    1200                 50\n",
       "1          102       Smartphone  Electrónica     800                150\n",
       "2          201    Silla Oficina   Mobiliario     150                300\n",
       "3          202  Mesa Escritorio   Mobiliario     200                100\n",
       "4          301          Teclado   Accesorios      75                500"
      ]
     },
     "execution_count": 7,
     "metadata": {},
     "output_type": "execute_result"
    }
   ],
   "source": [
    "# Ahora leemos el archivo de Excel que acabamos de crear\n",
    "df_excel = pd.read_excel('ejemplo_ventas.xlsx', sheet_name='Ventas_2024')\n",
    "\n",
    "print(\"DataFrame cargado desde Excel:\")\n",
    "df_excel"
   ]
  },
  {
   "cell_type": "markdown",
   "metadata": {},
   "source": [
    "La función `read_excel` comparte muchos parámetros con `read_csv`, pero tiene algunos específicos para Excel, como `sheet_name`, que permite especificar qué hoja del libro de trabajo queremos leer. Si no se especifica, lee la primera hoja por defecto."
   ]
  },
  {
   "cell_type": "markdown",
   "metadata": {},
   "source": [
    "### 2. Técnicas para Exportar Datos Procesados\n",
    "\n",
    "Tan importante como leer datos es saber exportarlos. Después de limpiar, transformar o analizar nuestros datos, querremos guardar los resultados. Pandas ofrece métodos `to_*` para exportar DataFrames a una gran variedad de formatos.\n",
    "\n",
    "#### 2.1. Exportación a CSV"
   ]
  },
  {
   "cell_type": "code",
   "execution_count": null,
   "metadata": {},
   "outputs": [],
   "source": [
    "# Vamos a añadir una nueva columna a nuestro DataFrame\n",
    "df_ventas['Ingresos_Totales'] = df_ventas['Precio'] * df_ventas['Unidades_Vendidas']\n",
    "\n",
    "print(\"DataFrame con nueva columna de ingresos:\")\n",
    "print(df_ventas)\n",
    "\n",
    "# Exportamos el DataFrame modificado a un nuevo archivo CSV\n",
    "# Con index=False evitamos que Pandas escriba el índice del DataFrame en el archivo\n",
    "df_ventas.to_csv('ventas_con_ingresos.csv', index=False)\n",
    "\n",
    "print(\"\\nDataFrame exportado a 'ventas_con_ingresos.csv'\")"
   ]
  },
  {
   "cell_type": "markdown",
   "metadata": {},
   "source": [
    "#### 2.2. Exportación a Excel"
   ]
  },
  {
   "cell_type": "code",
   "execution_count": null,
   "metadata": {},
   "outputs": [],
   "source": [
    "# Exportamos el mismo DataFrame a un archivo Excel\n",
    "df_ventas.to_excel('ventas_con_ingresos.xlsx', \n",
    "                  sheet_name='Resultados', \n",
    "                  index=False)\n",
    "\n",
    "print(\"DataFrame exportado a 'ventas_con_ingresos.xlsx' en la hoja 'Resultados'\")"
   ]
  },
  {
   "cell_type": "markdown",
   "metadata": {},
   "source": [
    "### Propuesta de Ejercicios\n",
    "\n",
    "**Ejercicio 1: Lectura de Datos de Múltiples Fuentes**\n",
    "\n",
    "1.  Busca en internet un conjunto de datos público en formato CSV que te interese (por ejemplo, de deportes, cine, demografía...). Una buena fuente es [Kaggle](https://www.kaggle.com/datasets).\n",
    "2.  Descarga el archivo CSV y cárgalo en un DataFrame de Pandas en tu notebook.\n",
    "3.  Muestra las 10 primeras filas y la información general del DataFrame con `.info()`.\n",
    "4.  Exporta ese mismo DataFrame a un archivo Excel llamado `mi_dataset.xlsx`.\n",
    "\n",
    "**Ejercicio 2: Manejo de Parámetros de Lectura**\n",
    "\n",
    "1.  Crea un archivo de texto llamado `datos_especiales.txt` con el siguiente contenido, usando punto y coma como separador:\n",
    "    ```\n",
    "    # Datos de sensores\n",
    "    sensor_id;medida;unidad\n",
    "    A01;23.5;C\n",
    "    A02;24.1;C\n",
    "    B01;68.0;%\n",
    "    ```\n",
    "2.  Utiliza `pd.read_csv()` para leer el archivo. Deberás usar los parámetros `sep` para indicar el separador y `comment` para ignorar las líneas que empiezan con `#`.\n",
    "3.  Muestra el DataFrame resultante.\n",
    "\n",
    "**Ejercicio 3: Exportación Selectiva**\n",
    "\n",
    "1.  Usando el DataFrame del **Ejercicio 1**, selecciona solo las 3 primeras columnas.\n",
    "2.  Exporta este subconjunto de datos a un nuevo archivo CSV llamado `dataset_reducido.csv`.\n",
    "3.  Asegúrate de que el archivo exportado no contenga la columna de índice de Pandas."
   ]
  }
 ],
 "metadata": {
  "kernelspec": {
   "display_name": "Python 3.10.11 ('venv': venv)",
   "language": "python",
   "name": "python3"
  },
  "language_info": {
   "codemirror_mode": {
    "name": "ipython",
    "version": 3
   },
   "file_extension": ".py",
   "mimetype": "text/x-python",
   "name": "python",
   "nbconvert_exporter": "python",
   "pygments_lexer": "ipython3",
   "version": "3.10.11"
  },
  "vscode": {
   "interpreter": {
    "hash": "2d4e2a90c9c2c07801c0d21f4546ef9a613b5a9ccbf970de93eec2539f61cb2f"
   }
  }
 },
 "nbformat": 4,
 "nbformat_minor": 4
}
