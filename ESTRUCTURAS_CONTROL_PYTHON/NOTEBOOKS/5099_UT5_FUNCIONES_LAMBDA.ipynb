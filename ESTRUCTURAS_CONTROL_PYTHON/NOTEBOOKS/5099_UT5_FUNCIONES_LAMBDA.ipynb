{
 "cells": [
  {
   "cell_type": "markdown",
   "metadata": {},
   "source": [
    "# Módulo 5099: Estructuras de Control en Python\n",
    "## Unidad 3: Funciones, Modularidad y Expresiones Lambda\n",
    "\n",
    "En la unidad anterior, nos centramos en el flujo de control con `if-elif-else`. Ahora, daremos un salto fundamental en la programación: **la abstracción y la modularidad**.\n",
    "\n",
    "El objetivo de esta unidad es entender por qué usamos funciones y cómo una herramienta especial, las **expresiones `lambda`**, nos permite escribir código más limpio y eficiente para tareas específicas.\n",
    "\n",
    "**Objetivos:**\n",
    "* Entender el principio **DRY (Don't Repeat Yourself)** y cómo las funciones lo solucionan.\n",
    "* Dominar la sintaxis de las funciones tradicionales (`def`).\n",
    "* Comprender qué es una **función anónima** (`lambda`).\n",
    "* Dominar el uso de `lambda` como argumento en **funciones de orden superior** como `sorted()`, `map()` y `filter()`."
   ]
  },
  {
   "cell_type": "markdown",
   "metadata": {},
   "source": [
    "---"
   ]
  },
  {
   "cell_type": "markdown",
   "metadata": {},
   "source": [
    "### 1. El Problema: Código Repetitivo\n",
    "\n",
    "Imagina que tenemos que calcular el precio final con IVA (21%) de varios productos. Sin funciones, nuestro código se vería así:"
   ]
  },
  {
   "cell_type": "code",
   "execution_count": null,
   "metadata": {},
   "outputs": [],
   "source": [
    "precio_camisa = 50\n",
    "precio_pantalon = 80\n",
    "precio_zapatos = 120\n",
    "\n",
    "# Cálculo para la camisa\n",
    "iva_camisa = precio_camisa * 0.21\n",
    "total_camisa = precio_camisa + iva_camisa\n",
    "print(f\"Total camisa: {total_camisa:.2f} €\")\n",
    "\n",
    "# Cálculo para el pantalón\n",
    "iva_pantalon = precio_pantalon * 0.21\n",
    "total_pantalon = precio_pantalon + iva_pantalon\n",
    "print(f\"Total pantalón: {total_pantalon:.2f} €\")\n",
    "\n",
    "# Cálculo para los zapatos\n",
    "iva_zapatos = precio_zapatos * 0.21\n",
    "total_zapatos = precio_zapatos + iva_zapatos\n",
    "print(f\"Total zapatos: {total_zapatos:.2f} €\")\n",
    "\n",
    "print(\"\\nEste código es repetitivo y difícil de mantener.\")\n",
    "print(\"¿Y si el IVA cambia al 23%? Tendríamos que cambiarlo en 3 sitios.\")"
   ]
  },
  {
   "cell_type": "markdown",
   "metadata": {},
   "source": [
    "### 2. La Solución Tradicional: Funciones con `def`\n",
    "\n",
    "Para solucionar esto, encapsulamos la lógica en una **función**. La definimos una vez y la reutilizamos (la *llamamos*) tantas veces como queramos."
   ]
  },
  {
   "cell_type": "code",
   "execution_count": null,
   "metadata": {},
   "outputs": [],
   "source": [
    "TIPO_IVA = 0.21 # Definimos el IVA como una constante global\n",
    "\n",
    "def calcular_precio_final(precio_base):\n",
    "    \"\"\"Calcula el precio final de un producto sumándole el IVA.\"\"\"\n",
    "    iva = precio_base * TIPO_IVA\n",
    "    total = precio_base + iva\n",
    "    return total\n",
    "\n",
    "# Ahora, usamos (llamamos) la función\n",
    "total_camisa = calcular_precio_final(50)\n",
    "total_pantalon = calcular_precio_final(80)\n",
    "total_zapatos = calcular_precio_final(120)\n",
    "\n",
    "print(f\"Total camisa: {total_camisa:.2f} €\")\n",
    "print(f\"Total pantalón: {total_pantalon:.2f} €\")\n",
    "print(f\"Total zapatos: {total_zapatos:.2f} €\")\n",
    "\n",
    "print(\"\\nMucho más limpio. Si el IVA cambia, solo lo modifico en un lugar.\")"
   ]
  },
  {
   "cell_type": "markdown",
   "metadata": {},
   "source": [
    "---"
   ]
  },
  {
   "cell_type": "markdown",
   "metadata": {},
   "source": [
    "### 3. Funciones `lambda`: La Vía Rápida para Tareas Sencillas\n",
    "\n",
    "A veces, necesitamos una función muy simple que solo vamos a usar una vez. Definir una función completa con `def`, darle un nombre, etc., puede ser excesivo.\n",
    "\n",
    "Una **expresión `lambda`** es una forma de crear una pequeña **función anónima** (sin nombre) en una sola línea.\n",
    "\n",
    "#### Sintaxis:\n",
    "\n",
    "```python\n",
    "lambda argumentos : expresion\n",
    "```\n",
    "\n",
    "* `lambda`: Es la palabra clave.\n",
    "* `argumentos`: Los parámetros que recibe la función (igual que en `def`).\n",
    "* `:`: Separa los argumentos de la expresión.\n",
    "* `expresion`: Una **única expresión** (no sentencias) que se evalúa y se devuelve.\n",
    "\n",
    "**Restricción clave:** Las `lambda` solo pueden contener *una expresión*, no múltiples líneas de código, ni `if` complejos, ni bucles."
   ]
  },
  {
   "cell_type": "code",
   "execution_count": null,
   "metadata": {},
   "outputs": [],
   "source": [
    "# Función tradicional (def)\n",
    "def duplicar(n):\n",
    "    return n * 2\n",
    "\n",
    "# Función equivalente (lambda)\n",
    "duplicar_lambda = lambda n : n * 2\n",
    "\n",
    "print(f\"Con 'def': {duplicar(10)}\")\n",
    "print(f\"Con 'lambda': {duplicar_lambda(10)}\")\n",
    "\n",
    "# Una lambda con múltiples argumentos\n",
    "sumar = lambda x, y : x + y\n",
    "print(f\"\\nSuma con lambda: {sumar(5, 3)}\")\n",
    "\n",
    "# Una lambda para calcular el precio final (como antes)\n",
    "TIPO_IVA = 0.21\n",
    "calcular_total_lambda = lambda precio_base : precio_base + (precio_base * TIPO_IVA)\n",
    "print(f\"Total con lambda: {calcular_total_lambda(50):.2f} €\")"
   ]
  },
  {
   "cell_type": "markdown",
   "metadata": {},
   "source": [
    "### 4. ¿Cuándo usar `lambda`? El Verdadero Poder\n",
    "\n",
    "Asignar una `lambda` a una variable (como hicimos con `sumar = lambda ...`) se considera generalmente una **mala práctica**. Si la función necesita un nombre, ¡usa `def`!\n",
    "\n",
    "El verdadero poder de `lambda` es usarlas como **argumentos para otras funciones**. Funciones que reciben funciones como parámetros se llaman **Funciones de Orden Superior**.\n",
    "\n",
    "Las más comunes son `sorted()`, `map()` y `filter()`."
   ]
  },
  {
   "cell_type": "markdown",
   "metadata": {},
   "source": [
    "#### 4.1. Uso Complejo 1: `sorted()` y el argumento `key`\n",
    "\n",
    "Esta es la aplicación más útil y común. La función `sorted()` ordena un iterable. Por defecto, ordena por el valor natural de los elementos."
   ]
  },
  {
   "cell_type": "code",
   "execution_count": null,
   "metadata": {},
   "outputs": [],
   "source": [
    "lista_nombres = [\"Carlos\", \"Ana\", \"Zacarías\", \"Beatriz\"]\n",
    "\n",
    "# Orden por defecto (alfabético)\n",
    "orden_alfabetico = sorted(lista_nombres)\n",
    "print(f\"Orden alfabético: {orden_alfabetico}\")\n",
    "\n",
    "# ¿Y si queremos ordenar por el NÚMERO DE LETRAS?\n",
    "# Usamos el argumento 'key' para pasar una función que le diga a sorted() QUÉ valor usar para comparar.\n",
    "\n",
    "# Con 'def' (la forma larga)\n",
    "def obtener_longitud(nombre):\n",
    "    return len(nombre)\n",
    "\n",
    "orden_longitud_def = sorted(lista_nombres, key=obtener_longitud)\n",
    "print(f\"Orden por longitud (con def): {orden_longitud_def}\")\n",
    "\n",
    "# Con 'lambda' (la forma idiomática y limpia)\n",
    "# No necesitamos crear una función 'obtener_longitud' que solo usaremos una vez.\n",
    "orden_longitud_lambda = sorted(lista_nombres, key=lambda nombre: len(nombre))\n",
    "print(f\"Orden por longitud (con lambda): {orden_longitud_lambda}\")"
   ]
  },
  {
   "cell_type": "code",
   "execution_count": null,
   "metadata": {},
   "outputs": [],
   "source": [
    "# Ejemplo más avanzado: Ordenar una lista de tuplas\n",
    "# Queremos ordenar los productos por precio (el segundo elemento, índice 1), de más barato a más caro.\n",
    "\n",
    "productos = [('Camisa', 25.50), ('Pantalón', 40.00), ('Zapatos', 80.99), ('Calcetines', 10.25)]\n",
    "\n",
    "# Orden por defecto (alfabético, por el primer elemento de la tupla)\n",
    "print(f\"Orden por defecto: {sorted(productos)}\")\n",
    "\n",
    "# Orden por precio (el elemento en el índice 1)\n",
    "orden_precio = sorted(productos, key=lambda item: item[1])\n",
    "print(f\"Orden por precio: {orden_precio}\")\n",
    "\n",
    "# Orden por precio DESCENDENTE\n",
    "orden_precio_desc = sorted(productos, key=lambda item: item[1], reverse=True)\n",
    "print(f\"Orden por precio (desc): {orden_precio_desc}\")"
   ]
  },
  {
   "cell_type": "markdown",
   "metadata": {},
   "source": [
    "#### 4.2. Uso Complejo 2: `map()`\n",
    "\n",
    "La función `map()` aplica una función a cada elemento de un iterable (como una lista) y devuelve un nuevo iterable (un *objeto map*) con los resultados.\n",
    "\n",
    "**Sintaxis:** `map(funcion, iterable)`"
   ]
  },
  {
   "cell_type": "code",
   "execution_count": null,
   "metadata": {},
   "outputs": [],
   "source": [
    "numeros = [1, 2, 3, 4, 5]\n",
    "\n",
    "# Queremos obtener una lista con los cuadrados de cada número\n",
    "\n",
    "# Con 'def'\n",
    "def cuadrado(n):\n",
    "    return n ** 2\n",
    "cuadrados_def = map(cuadrado, numeros)\n",
    "\n",
    "# Con 'lambda' (más directo)\n",
    "cuadrados_lambda = map(lambda x: x ** 2, numeros)\n",
    "\n",
    "# map() devuelve un 'iterador', no una lista. Debemos convertirlo.\n",
    "print(f\"Lista original: {numeros}\")\n",
    "print(f\"Lista de cuadrados: {list(cuadrados_lambda)}\")\n",
    "\n",
    "# Ejemplo: Convertir una lista de precios a strings con formato \"€\"\n",
    "precios_float = [25.5, 40.0, 10.25]\n",
    "precios_formato = map(lambda p: f\"{p:.2f} €\", precios_float)\n",
    "print(f\"Precios formateados: {list(precios_formato)}\")"
   ]
  },
  {
   "cell_type": "markdown",
   "metadata": {},
   "source": [
    "#### 4.3. Uso Complejo 3: `filter()`\n",
    "\n",
    "La función `filter()` crea un nuevo iterable con los elementos del iterable original que cumplen una condición (es decir, aquellos para los que la función devuelve `True`).\n",
    "\n",
    "**Sintaxis:** `filter(funcion_booleana, iterable)`"
   ]
  },
  {
   "cell_type": "code",
   "execution_count": null,
   "metadata": {},
   "outputs": [],
   "source": [
    "numeros = [1, 2, 3, 4, 5, 6, 7, 8, 9, 10]\n",
    "\n",
    "# Queremos obtener una lista solo con los números pares\n",
    "\n",
    "# La 'funcion_booleana' debe devolver True si el número es par, False si es impar\n",
    "numeros_pares = filter(lambda x: x % 2 == 0, numeros)\n",
    "\n",
    "# filter() también devuelve un iterador\n",
    "print(f\"Lista original: {numeros}\")\n",
    "print(f\"Números pares: {list(numeros_pares)}\")\n",
    "\n",
    "# Ejemplo: Filtrar nombres que empiezan con 'A'\n",
    "nombres = [\"Ana\", \"Beatriz\", \"Antonio\", \"Carlos\", \"Alba\"]\n",
    "nombres_con_a = filter(lambda nombre: nombre.startswith(\"A\"), nombres)\n",
    "print(f\"Nombres con 'A': {list(nombres_con_a)}\")"
   ]
  },
  {
   "cell_type": "markdown",
   "metadata": {},
   "source": [
    "---"
   ]
  },
  {
   "cell_type": "markdown",
   "metadata": {},
   "source": [
    "### 5. Usos Aún Más Avanzados (Nivel Experto)\n",
    "\n",
    "Las `lambda` son extremadamente flexibles. Aquí hay dos patrones avanzados:\n",
    "\n",
    "1.  **Diccionarios de Operaciones (Dispatch Table):** Usar `lambda` como valores en un diccionario para seleccionar una operación.\n",
    "2.  **Funciones que devuelven Funciones (Closures/Factories):** Una función `def` puede *devolver* una `lambda`."
   ]
  },
  {
   "cell_type": "code",
   "execution_count": null,
   "metadata": {},
   "outputs": [],
   "source": [
    "# 1. Diccionario de Operaciones\n",
    "operaciones = {\n",
    "    'sumar': lambda x, y: x + y,\n",
    "    'restar': lambda x, y: x - y,\n",
    "    'multiplicar': lambda x, y: x * y,\n",
    "    'dividir': lambda x, y: x / y\n",
    "}\n",
    "\n",
    "op = 'multiplicar'\n",
    "a = 10\n",
    "b = 5\n",
    "\n",
    "# Seleccionamos la función 'lambda' del diccionario y la llamamos\n",
    "resultado = operaciones[op](a, b)\n",
    "print(f\"Resultado de '{op}': {resultado}\")\n",
    "\n",
    "# 2. Funciones que devuelven Lambdas (Factory)\n",
    "\n",
    "def crear_multiplicador(n):\n",
    "    \"\"\"Esto es una 'fábrica' que crea funciones multiplicadoras.\"\"\"\n",
    "    return lambda x: x * n\n",
    "\n",
    "# Creamos una función que duplica\n",
    "duplicador = crear_multiplicador(2)\n",
    "\n",
    "# Creamos una función que triplica\n",
    "triplicador = crear_multiplicador(3)\n",
    "\n",
    "print(f\"\\nDuplicador de 10: {duplicador(10)}\")\n",
    "print(f\"Triplicador de 10: {triplicador(10)}\")"
   ]
  },
  {
   "cell_type": "markdown",
   "metadata": {},
   "source": [
    "---"
   ]
  },
  {
   "cell_type": "markdown",
   "metadata": {},
   "source": [
    "### 6. Ejercicios de Consolidación\n",
    "\n",
    "Intenta resolver estos desafíos usando `lambda` donde sea apropiado."
   ]
  },
  {
   "cell_type": "markdown",
   "metadata": {},
   "source": [
    "#### Desafío 1: Ordenar un Diccionario Complejo\n",
    "\n",
    "Tienes una lista de alumnos, donde cada alumno es un diccionario. Ordena la lista de **mayor a menor nota**."
   ]
  },
  {
   "cell_type": "code",
   "execution_count": null,
   "metadata": {},
   "outputs": [],
   "source": []
  },
  {
   "cell_type": "markdown",
   "metadata": {},
   "source": [
    "#### Desafío 2: Filtrado y Mapeo Combinado\n",
    "\n",
    "Tienes una lista de precios. Quieres obtener una nueva lista que contenga solo los precios **superiores a 50€**, pero con un **10% de descuento** ya aplicado."
   ]
  },
  {
   "cell_type": "code",
   "execution_count": null,
   "metadata": {},
   "outputs": [],
   "source": []
  },
  {
   "cell_type": "markdown",
   "metadata": {},
   "source": [
    "#### Desafío 3: Selector de Operaciones (Dispatch Table)\n",
    "\n",
    "Crea un diccionario `calculadora` que almacene funciones `lambda` para las operaciones: 'cuadrado' (x²), 'cubo' (x³) y 'raiz' (x⁰·⁵).\n",
    "\n",
    "Luego, úsalo para calcular el **cubo** del número **5**."
   ]
  },
  {
   "cell_type": "code",
   "execution_count": null,
   "metadata": {},
   "outputs": [],
   "source": []
  }
 ],
 "metadata": {
  "kernelspec": {
   "display_name": "Python 3 (ipykernel)",
   "language": "python",
   "name": "python3"
  },
  "language_info": {
   "codemirror_mode": {
    "name": "ipython",
    "version": 3
   },
   "file_extension": ".py",
   "mimetype": "text/x-python",
   "name": "python",
   "nbconvert_exporter": "python",
   "pygments_lexer": "ipython3",
   "version": "3.10.12"
  }
 },
 "nbformat": 4,
 "nbformat_minor": 4
}
