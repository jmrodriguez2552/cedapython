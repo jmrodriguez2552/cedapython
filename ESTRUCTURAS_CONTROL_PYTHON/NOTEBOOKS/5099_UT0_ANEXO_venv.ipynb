{
 "cells": [
  {
   "cell_type": "markdown",
   "metadata": {},
   "source": [
    "## Anexo: Entornos Virtuales en Python - \"Tu taller para cada proyecto\"\n",
    "\n",
    "A medida que avanzamos, empezaremos a usar \"librerías\" o \"paquetes\" de terceros, que son conjuntos de código que otras personas han escrito y que nos facilitan mucho el trabajo. \n",
    "\n",
    "Aquí surge un problema común: el **conflicto de dependencias**. Imagina que el Proyecto A necesita la versión 1.0 de una librería, pero el Proyecto B, que empiezas un mes después, necesita la versión 2.0 de la misma librería. Si instalas la 2.0, ¡podrías romper el Proyecto A! \n",
    "\n",
    "La solución a este problema son los **entornos virtuales**.\n",
    "\n",
    "### ¿Qué es un Entorno Virtual? 🛠️\n",
    "\n",
    "Piensa en un entorno virtual como un **taller de trabajo completamente aislado y limpio para cada uno de tus proyectos**. \n",
    "\n",
    "Cada entorno virtual tiene su propia instalación de Python y sus propias librerías, completamente separadas del Python principal de tu ordenador y de otros entornos. De esta forma, lo que instales o desinstales en un proyecto no afectará en absoluto a los demás.\n",
    "\n",
    "**Ventajas Clave:**\n",
    "* **Aislamiento:** Evita conflictos entre las dependencias de diferentes proyectos.\n",
    "* **Reproducibilidad:** Facilita que otros (o tu \"yo\" del futuro) puedan recrear el entorno exacto necesario para que tu proyecto funcione, gracias a los ficheros de requisitos.\n",
    "* **Organización:** Mantiene tu instalación global de Python limpia y ordenada.\n",
    "* **Portabilidad:** Permite definir las dependencias de un proyecto para que funcione en cualquier máquina."
   ]
  },
  {
   "cell_type": "markdown",
   "metadata": {},
   "source": [
    "### ¿Cómo se usa? El Módulo `venv`\n",
    "\n",
    "Python incluye por defecto un módulo llamado `venv` para gestionar entornos virtuales. Es la forma estándar y recomendada de hacerlo. Los siguientes comandos se deben ejecutar en tu **terminal o consola de sistema** (CMD, PowerShell, Terminal, etc.), no en una celda de código de Python.\n",
    "\n",
    "#### Paso 1: Crear el Entorno Virtual\n",
    "\n",
    "1.  Abre tu terminal.\n",
    "2.  Navega con el comando `cd` hasta la carpeta principal de tu proyecto.\n",
    "3.  Ejecuta el siguiente comando:\n",
    "\n",
    "```bash\n",
    "python -m venv nombre_del_entorno\n",
    "```\n",
    "* `python -m venv`: Le dice a Python que ejecute el módulo `venv`.\n",
    "* `nombre_del_entorno`: Es el nombre que le darás a la carpeta que contendrá tu entorno. Un nombre común y recomendado es `venv`.\n",
    "\n",
    "**Ejemplo práctico:**\n",
    "```bash\n",
    "python -m venv venv\n",
    "```\n",
    "Verás que se ha creado una nueva carpeta llamada `venv` dentro de tu proyecto."
   ]
  },
  {
   "cell_type": "markdown",
   "metadata": {},
   "source": [
    "#### Paso 2: Activar el Entorno Virtual\n",
    "\n",
    "Crear el entorno no es suficiente; necesitas **activarlo**. El comando es diferente según tu sistema operativo.\n",
    "\n",
    "**En Windows (CMD o PowerShell):**\n",
    "```bash\n",
    "venv\\Scripts\\activate\n",
    "```\n",
    "\n",
    "**En macOS o Linux:**\n",
    "```bash\n",
    "source venv/bin/activate\n",
    "```\n",
    "\n",
    "Sabrás que ha funcionado porque **el nombre del entorno aparecerá al principio de la línea de tu terminal**, algo así: `(venv) C:\\Users\\TuUsuario\\MiProyecto>`. Esto te confirma que estás \"dentro\" del entorno aislado."
   ]
  },
  {
   "cell_type": "markdown",
   "metadata": {},
   "source": [
    "#### Paso 3: Trabajar en el Entorno (Instalar Paquetes)\n",
    "\n",
    "Con el entorno activado, ahora puedes usar `pip`, el gestor de paquetes de Python, para instalar librerías. Cualquier paquete que instales ahora se guardará **únicamente** dentro de la carpeta `venv` de tu proyecto.\n",
    "\n",
    "Por ejemplo, instalemos una librería muy popular para hacer peticiones web llamada `requests`:\n",
    "\n",
    "```bash\n",
    "pip install requests\n",
    "```\n",
    "\n",
    "Puedes ver los paquetes instalados en tu entorno con:\n",
    "```bash\n",
    "pip list\n",
    "```\n",
    "Verás que `requests` (y sus propias dependencias) aparecen en la lista."
   ]
  },
  {
   "cell_type": "markdown",
   "metadata": {},
   "source": [
    "#### Paso 4: Generar el Fichero de Requisitos\n",
    "\n",
    "Para que tu proyecto sea reproducible, es una buena práctica guardar una lista de todos los paquetes que has instalado. Esto se hace con un fichero llamado `requirements.txt`.\n",
    "\n",
    "Con tu entorno activado, ejecuta:\n",
    "```bash\n",
    "pip freeze > requirements.txt\n",
    "```\n",
    "Esto crea un fichero `requirements.txt` con la lista exacta de paquetes y versiones que necesita tu proyecto. Si compartes tu proyecto con otra persona, esa persona solo necesitará crear su propio entorno y ejecutar `pip install -r requirements.txt` para instalar todo lo necesario.\n"
   ]
  },
  {
   "cell_type": "markdown",
   "metadata": {},
   "source": [
    "#### Paso 5: Desactivar el Entorno\n",
    "\n",
    "Cuando hayas terminado de trabajar en tu proyecto, puedes \"salir\" del entorno virtual. Simplemente escribe en la terminal:\n",
    "```bash\n",
    "deactivate\n",
    "```\n",
    "Verás que el prefijo `(venv)` desaparece de tu terminal, indicando que has vuelto a la configuración global de Python de tu sistema."
   ]
  },
  {
   "cell_type": "markdown",
   "metadata": {},
   "source": [
    "### Resumen del Flujo de Trabajo\n",
    "\n",
    "1.  **Crea una carpeta** para tu nuevo proyecto.\n",
    "2.  **Abre una terminal** y navega hasta esa carpeta.\n",
    "3.  **Crea el entorno**: `python -m venv venv`\n",
    "4.  **Activa el entorno**: `venv\\Scripts\\activate` (Windows) o `source venv/bin/activate` (Mac/Linux).\n",
    "5.  **Instala las librerías** que necesites con `pip install ...`.\n",
    "6.  **Programa** tu aplicación.\n",
    "7.  **Actualiza tu fichero de requisitos**: `pip freeze > requirements.txt`.\n",
    "8.  **Desactiva el entorno** cuando termines: `deactivate`.\n",
    "\n",
    "¡Adoptar este hábito desde el principio te ahorrará muchísimos problemas en el futuro y es una de las marcas de un desarrollador de Python profesional!"
   ]
  }
 ],
 "metadata": {
  "kernelspec": {
   "display_name": "Python 3.10.11 ('venv': venv)",
   "language": "python",
   "name": "python3"
  },
  "language_info": {
   "codemirror_mode": {
    "name": "ipython",
    "version": 3
   },
   "file_extension": ".py",
   "mimetype": "text/x-python",
   "name": "python",
   "nbconvert_exporter": "python",
   "pygments_lexer": "ipython3",
   "version": "3.10.11"
  },
  "vscode": {
   "interpreter": {
    "hash": "2d4e2a90c9c2c07801c0d21f4546ef9a613b5a9ccbf970de93eec2539f61cb2f"
   }
  }
 },
 "nbformat": 4,
 "nbformat_minor": 2
}
