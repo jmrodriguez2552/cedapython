{
 "cells": [
  {
   "cell_type": "markdown",
   "metadata": {},
   "source": [
    "# Módulo 5099: Estructuras de Control en Python\n",
    "## Unidad 2: Flujo de Control y Sentencias Condicionales (Nivel Avanzado)\n",
    "\n",
    "Bienvenido a esta unidad de trabajo. Damos por sentada una comprensión básica de `if`, `else` y variables. El objetivo de esta unidad es dominar la **lógica condicional compleja**, el **anidamiento** y la **aplicación de operadores lógicos** para resolver problemas no triviales. \n",
    "\n",
    "**Objetivos:**\n",
    "* Entender la evaluación de **cortocircuito** (`short-circuiting`).\n",
    "* Manejar múltiples condiciones con `if-elif-else` de forma eficiente.\n",
    "* Resolver problemas que requieran **anidamiento complejo** de condicionales.\n",
    "* Aplicar la lógica booleana para simplificar código."
   ]
  },
  {
   "cell_type": "markdown",
   "metadata": {},
   "source": [
    "---"
   ]
  },
  {
   "cell_type": "markdown",
   "metadata": {},
   "source": [
    "### 1. Operadores y Expresiones Booleanas Avanzadas\n",
    "\n",
    "La base de una buena estructura condicional no es solo el `if`, sino la expresión que evalúa. Dominar los operadores lógicos es fundamental."
   ]
  },
  {
   "cell_type": "markdown",
   "metadata": {},
   "source": [
    "#### 1.1. Operadores Lógicos: `and`, `or`, `not`\n",
    "\n",
    "Recordatorio rápido:\n",
    "* `A and B`: Es `True` solo si **ambos** A y B son `True`.\n",
    "* `A or B`: Es `True` si **alguno** de los dos (A o B) es `True`.\n",
    "* `not A`: Invierte el valor booleano de A."
   ]
  },
  {
   "cell_type": "code",
   "execution_count": 1,
   "metadata": {},
   "outputs": [
    {
     "name": "stdout",
     "output_type": "stream",
     "text": [
      "Puede conducir: True\n",
      "Tiene acceso al vehículo: True\n",
      "Es menor de edad: False\n"
     ]
    }
   ],
   "source": [
    "edad = 25\n",
    "tiene_permiso = True\n",
    "es_propietario = False\n",
    "\n",
    "# and: ¿Puede conducir legalmente?\n",
    "puede_conducir = (edad >= 18) and tiene_permiso\n",
    "print(f\"Puede conducir: {puede_conducir}\")\n",
    "\n",
    "# or: ¿Tiene acceso al vehículo?\n",
    "tiene_acceso = tiene_permiso or es_propietario\n",
    "print(f\"Tiene acceso al vehículo: {tiene_acceso}\")\n",
    "\n",
    "# not: ¿Es menor de edad?\n",
    "es_menor = not (edad >= 18)\n",
    "print(f\"Es menor de edad: {es_menor}\")"
   ]
  },
  {
   "cell_type": "markdown",
   "metadata": {},
   "source": [
    "#### 1.2. Evaluación de Cortocircuito (Short-Circuiting)\n",
    "\n",
    "Este es un concepto **fundamental** en Python. El intérprete es eficiente y deja de evaluar una expresión lógica tan pronto como conoce el resultado final.\n",
    "\n",
    "* **En `and`**: Si el primer operando (`A`) es `False`, el resultado de `A and B` **siempre** será `False`. Python **ni siquiera evalúa** `B`.\n",
    "* **En `or`**: Si el primer operando (`A`) es `True`, el resultado de `A or B` **siempre** será `True`. Python **ni siquiera evalúa** `B`.\n",
    "\n",
    "Esto no es solo por velocidad, sino que es una **herramienta de control crucial** para evitar errores."
   ]
  },
  {
   "cell_type": "code",
   "execution_count": 2,
   "metadata": {},
   "outputs": [
    {
     "name": "stdout",
     "output_type": "stream",
     "text": [
      "División no realizada o no mayor que 5\n",
      "La lista no existe o está vacía\n"
     ]
    }
   ],
   "source": [
    "# Ejemplo 1: Evitar un error de división por cero\n",
    "\n",
    "divisor = 0\n",
    "numero = 10\n",
    "\n",
    "# Esta línea daría un error: ZeroDivisionError\n",
    "# if (divisor != 0) and (numero / divisor > 5):\n",
    "#    print(\"División mayor que 5\")\n",
    "\n",
    "# Esta línea es SEGURA gracias al cortocircuito:\n",
    "# 1. (divisor != 0) se evalúa como `False`.\n",
    "# 2. Python ve `False and ...` y sabe que el resultado total será `False`.\n",
    "# 3. NUNCA ejecuta (numero / divisor > 5), por lo que el error no ocurre.\n",
    "if (divisor != 0) and (numero / divisor > 5):\n",
    "    print(\"División mayor que 5\")\n",
    "else:\n",
    "    print(\"División no realizada o no mayor que 5\")\n",
    "\n",
    "# Ejemplo 2: Comprobar un objeto antes de usarlo\n",
    "\n",
    "mi_lista = None # Imagina que esta lista a veces existe y a veces no\n",
    "\n",
    "# Esta línea daría un error: 'NoneType' object is not iterable\n",
    "# if len(mi_lista) > 0 and mi_lista[0] == 'hola':\n",
    "#     print(\"Encontrado hola\")\n",
    "\n",
    "# Esta línea es SEGURA:\n",
    "# 1. (mi_lista is not None) se evalúa como `False`.\n",
    "# 2. Python ve `False and ...` y se detiene.\n",
    "# 3. NUNCA intenta ejecutar len(mi_lista).\n",
    "if (mi_lista is not None) and (len(mi_lista) > 0):\n",
    "    print(f\"La lista tiene {len(mi_lista)} elementos\")\n",
    "else:\n",
    "    print(\"La lista no existe o está vacía\")"
   ]
  },
  {
   "cell_type": "markdown",
   "metadata": {},
   "source": [
    "---"
   ]
  },
  {
   "cell_type": "markdown",
   "metadata": {},
   "source": [
    "### 2. Práctica Guiada 1: Calculadora de Tramos de IRPF\n",
    "\n",
    "**Enunciado:** Desarrolla una calculadora que pida una renta anual y calcule los impuestos a pagar. El cálculo es **progresivo**: cada tramo de la renta tributa a un tipo diferente.\n",
    "\n",
    "| Tramo de Renta | Tipo Impositivo |\n",
    "| :--- | :--- |\n",
    "| Hasta 12.450 € | 19% |\n",
    "| De 12.450 € a 20.200 € | 24% |\n",
    "| De 20.200 € a 35.200 € | 30% |\n",
    "| De 35.200 € a 60.000 € | 37% |\n",
    "| Más de 60.000 € | 45% |\n",
    "\n",
    "**Error común:** Un principiante haría `if renta < 12450: ...` y calcularía toda la renta a ese tipo. ¡Incorrecto!\n",
    "\n",
    "**Ejemplo de cálculo para 25.000 €:**\n",
    "* Los primeros 12.450 € tributan al 19% -> `12450 * 0.19 = 2365.5 €`\n",
    "* El tramo de 12.450 a 20.200 (7.750 €) tributa al 24% -> `(20200 - 12450) * 0.24 = 1860 €`\n",
    "* El resto, de 20.200 a 25.000 (4.800 €), tributa al 30% -> `(25000 - 20200) * 0.30 = 1440 €`\n",
    "* **Total a pagar:** 2365.5 + 1860 + 1440 = 5665.5 €"
   ]
  },
  {
   "cell_type": "markdown",
   "metadata": {},
   "source": [
    "#### Solución: Lógica de Cascada (Waterfall Logic)\n",
    "\n",
    "La forma más limpia de implementar esto es con una serie de `if` (sin `elif`) que calculan el impuesto de cada tramo y van \"restándolo\" de la renta que queda por evaluar. Es una lógica \"cascada\" que fluye de arriba hacia abajo."
   ]
  },
  {
   "cell_type": "code",
   "execution_count": null,
   "metadata": {},
   "outputs": [],
   "source": [
    "renta_anual = 40000 # Prueba con 25000, 40000, 70000\n",
    "\n",
    "impuesto_total = 0\n",
    "renta_restante = renta_anual\n",
    "\n",
    "# Definimos los límites y tipos\n",
    "LIMITE_TRAMO_1 = 12450\n",
    "LIMITE_TRAMO_2 = 20200\n",
    "LIMITE_TRAMO_3 = 35200\n",
    "LIMITE_TRAMO_4 = 60000\n",
    "\n",
    "TIPO_TRAMO_1 = 0.19\n",
    "TIPO_TRAMO_2 = 0.24\n",
    "TIPO_TRAMO_3 = 0.30\n",
    "TIPO_TRAMO_4 = 0.37\n",
    "TIPO_TRAMO_5 = 0.45\n",
    "\n",
    "if renta_anual <= 0:\n",
    "    print(\"No hay impuestos que pagar.\")\n",
    "else:\n",
    "    # TRAMO 1: Aplica a todos los que ganen algo\n",
    "    if renta_restante > LIMITE_TRAMO_1:\n",
    "        # Calculamos el impuesto solo para este tramo completo\n",
    "        impuesto_total += LIMITE_TRAMO_1 * TIPO_TRAMO_1\n",
    "    else:\n",
    "        # Es el último tramo, calculamos sobre lo que queda y terminamos\n",
    "        impuesto_total += renta_restante * TIPO_TRAMO_1\n",
    "    \n",
    "    # TRAMO 2: Solo si la renta superó el límite 1\n",
    "    if renta_restante > LIMITE_TRAMO_1:\n",
    "        # La cantidad a la que aplicamos el tipo es lo que hay entre el límite 2 y el 1\n",
    "        cantidad_en_tramo = min(renta_restante, LIMITE_TRAMO_2) - LIMITE_TRAMO_1\n",
    "        impuesto_total += cantidad_en_tramo * TIPO_TRAMO_2\n",
    "\n",
    "    # TRAMO 3: Solo si la renta superó el límite 2\n",
    "    if renta_restante > LIMITE_TRAMO_2:\n",
    "        cantidad_en_tramo = min(renta_restante, LIMITE_TRAMO_3) - LIMITE_TRAMO_2\n",
    "        impuesto_total += cantidad_en_tramo * TIPO_TRAMO_3\n",
    "        \n",
    "    # TRAMO 4: Solo si la renta superó el límite 3\n",
    "    if renta_restante > LIMITE_TRAMO_3:\n",
    "        cantidad_en_tramo = min(renta_restante, LIMITE_TRAMO_4) - LIMITE_TRAMO_3\n",
    "        impuesto_total += cantidad_en_tramo * TIPO_TRAMO_4\n",
    "        \n",
    "    # TRAMO 5: Solo si la renta superó el límite 4\n",
    "    if renta_restante > LIMITE_TRAMO_4:\n",
    "        cantidad_en_tramo = renta_restante - LIMITE_TRAMO_4\n",
    "        impuesto_total += cantidad_en_tramo * TIPO_TRAMO_5\n",
    "\n",
    "print(f\"Para una renta anual de {renta_anual} €\")\n",
    "print(f\"El total de impuestos a pagar es: {impuesto_total:.2f} €\")"
   ]
  },
  {
   "cell_type": "markdown",
   "metadata": {},
   "source": [
    "---"
   ]
  },
  {
   "cell_type": "markdown",
   "metadata": {},
   "source": [
    "### 3. Práctica Guiada 2: Validador de Fechas\n",
    "\n",
    "**Enunciado:** Crea un programa que pida día, mes y año, y determine si la fecha es válida. Se debe tener en cuenta los años bisiestos.\n",
    "\n",
    "**Reglas de Año Bisiesto:**\n",
    "1.  Un año es bisiesto si es divisible por 4.\n",
    "2.  **Excepto** si es divisible por 100, **a menos que** también sea divisible por 400.\n",
    "\n",
    "Esto es un ejemplo perfecto de lógica booleana y anidamiento:\n",
    "`(es_divisible_por_4 AND NO es_divisible_por_100) OR (es_divisible_por_400)`"
   ]
  },
  {
   "cell_type": "code",
   "execution_count": null,
   "metadata": {},
   "outputs": [],
   "source": [
    "# Pedimos los datos\n",
    "dia = 29\n",
    "mes = 2\n",
    "ano = 1900 # Probar con 2024 (bisiesto), 2023 (no), 1900 (no), 2000 (bisiesto)\n",
    "\n",
    "print(f\"Validando la fecha: {dia}/{mes}/{ano}\")\n",
    "\n",
    "es_valida = True # Asumimos que es válida hasta que encontremos un error (Flag)\n",
    "es_bisiesto = False\n",
    "\n",
    "# 1. Validar el año (no puede ser 0 o negativo)\n",
    "if ano <= 0:\n",
    "    es_valida = False\n",
    "    print(\"Error: El año no puede ser cero o negativo.\")\n",
    "else:\n",
    "    # 2. Determinar si es bisiesto (solo si el año es válido)\n",
    "    if (ano % 4 == 0 and ano % 100 != 0) or (ano % 400 == 0):\n",
    "        es_bisiesto = True\n",
    "        # print(\"INFO: Es un año bisiesto.\")\n",
    "    \n",
    "    # 3. Validar el mes (solo si el año es válido)\n",
    "    if not (1 <= mes <= 12):\n",
    "        es_valida = False\n",
    "        print(\"Error: El mes debe estar entre 1 y 12.\")\n",
    "    else:\n",
    "        # 4. Validar el día (solo si el mes es válido)\n",
    "        dias_del_mes = 0\n",
    "        \n",
    "        if mes in [1, 3, 5, 7, 8, 10, 12]:\n",
    "            dias_del_mes = 31\n",
    "        elif mes in [4, 6, 9, 11]:\n",
    "            dias_del_mes = 30\n",
    "        elif mes == 2:\n",
    "            if es_bisiesto:\n",
    "                dias_del_mes = 29\n",
    "            else:\n",
    "                dias_del_mes = 28\n",
    "        \n",
    "        if not (1 <= dia <= dias_del_mes):\n",
    "            es_valida = False\n",
    "            print(f\"Error: El día debe estar entre 1 y {dias_del_mes} para ese mes.\")\n",
    "\n",
    "# 5. Resultado final\n",
    "if es_valida:\n",
    "    print(f\"\\nLa fecha {dia}/{mes}/{ano} es VÁLIDA.\")\n",
    "else:\n",
    "    print(f\"\\nLa fecha {dia}/{mes}/{ano} NO es válida.\")"
   ]
  },
  {
   "cell_type": "markdown",
   "metadata": {},
   "source": [
    "---"
   ]
  },
  {
   "cell_type": "markdown",
   "metadata": {},
   "source": [
    "### 4. Ejercicios de Consolidación (Desafíos)\n",
    "\n",
    "Intenta resolver estos problemas. Ponen a prueba tu capacidad para combinar todos los conceptos de esta unidad."
   ]
  },
  {
   "cell_type": "markdown",
   "metadata": {},
   "source": [
    "#### Desafío 1: Intersección de Rectángulos\n",
    "\n",
    "**Enunciado:** Dados dos rectángulos (A y B) en un plano 2D, determina si se solapan. Un rectángulo se define por sus coordenadas `(x1, y1)` (esquina inferior izquierda) y `(x2, y2)` (esquina superior derecha).\n",
    "\n",
    "**Pista:** Es mucho más fácil pensar en la condición opuesta. ¿Cuándo **NO** se solapan? No se solapan si uno está completamente a la izquierda, derecha, arriba o abajo del otro.\n",
    "\n",
    "* A está a la izquierda de B: `A_x2 < B_x1`\n",
    "* A está a la derecha de B: `A_x1 > B_x2`\n",
    "* A está por encima de B: `A_y1 > B_y2`\n",
    "* A está por debajo de B: `A_y2 < B_y1`\n",
    "\n",
    "Si alguna de estas condiciones es `True`, **NO** hay solapamiento. Por lo tanto, si **todas** son `False`, sí hay solapamiento.\n"
   ]
  },
  {
   "cell_type": "code",
   "execution_count": null,
   "metadata": {},
   "outputs": [],
   "source": [
    "x1 = int(input(\"Introduce la coordenada x del rectángulo A\"))\n",
    "y1 = int(input(\"Introduce la coordenada y del rectángulo A\"))\n",
    "x2 = int(input(\"Introduce la coordenada x del rectángulo B\"))\n",
    "y2 = int(input(\"Introduce la coordenada y del rectángulo B\"))\n",
    "\n"
   ]
  },
  {
   "cell_type": "markdown",
   "metadata": {},
   "source": [
    "#### Desafío 2: Sistema de Puntuación de Crédito\n",
    "\n",
    "**Enunciado:** Escribe un programa que asigne una puntuación de crédito (de 0 a 100) a un solicitante basándose en las siguientes reglas. La puntuación inicial es 50.\n",
    "\n",
    "* **Ingresos Anuales:**\n",
    "    * Menos de 15.000€: -10 puntos\n",
    "    * Entre 15.000€ y 30.000€: +5 puntos\n",
    "    * Más de 30.000€: +15 puntos\n",
    "* **Historial de Crédito (años):**\n",
    "    * Menos de 1 año: -20 puntos\n",
    "    * Entre 1 y 5 años: +10 puntos\n",
    "    * Más de 5 años: +25 puntos\n",
    "* **Deudas Actuales:**\n",
    "    * Si tiene deudas (`True`): -10 puntos\n",
    "    * Si no tiene deudas (`False`): +10 puntos\n",
    "* **Regla Especial:**\n",
    "    * Si los ingresos son más de 50.000€ **Y** no tiene deudas, se añaden +10 puntos extra.\n",
    "    * Si el historial es menor de 1 año **Y** tiene deudas, se restan -15 puntos extra.\n",
    "\n",
    "La puntuación final no puede ser menor de 0 ni mayor de 100."
   ]
  },
  {
   "cell_type": "code",
   "execution_count": null,
   "metadata": {},
   "outputs": [],
   "source": [
    "puntacion_inicial = 50\n",
    "extra = 0\n",
    "ingresos_anuales = float(input(\"Introduce tus ingresos anuales\"))\n",
    "historial_credito = int(input(\"Itroduce tus años de historial\"))\n",
    "deudas_actuales = input(\"Introduce si tienes deudas Y/N\")\n",
    "if ingresos_anuales < 15000:\n",
    "    puntacion_inicial = puntacion_inicial-10\n",
    "elif ingresos_anuales >= 15000 and ingresos_anuales<=30000:\n",
    "    puntacion_inicial = puntacion_inicial+5\n",
    "elif ingresos_anuales > 30000:\n",
    "    puntacion_inicial = puntacion_inicial+15\n",
    "\n",
    "\n",
    "if historial_credito < 1:\n",
    "    puntacion_inicial = puntacion_inicial-20\n",
    "elif historial_credito >= 1 and historial_credito <=5:\n",
    "    puntacion_inicial = puntacion_inicial+10\n",
    "elif historial_credito >5:\n",
    "    puntacion_inicial = puntacion_inicial+25\n",
    "\n",
    "if deudas_actuales == 'Y':\n",
    "    deudas_actuales = True\n",
    "    puntacion_inicial = puntacion_inicial-10\n",
    "else:\n",
    "    deudas_actuales = False\n",
    "    puntacion_inicial = puntacion_inicial+10\n",
    "\n",
    "if ingresos_anuales > 50000 and deudas_actuales is False:\n",
    "    extra +=10\n",
    "\n",
    "if historial_credito < 1 and deudas_actuales is False:\n",
    "    extra -=15"
   ]
  }
 ],
 "metadata": {
  "kernelspec": {
   "display_name": "Python 3.10.11 ('venv': venv)",
   "language": "python",
   "name": "python3"
  },
  "language_info": {
   "codemirror_mode": {
    "name": "ipython",
    "version": 3
   },
   "file_extension": ".py",
   "mimetype": "text/x-python",
   "name": "python",
   "nbconvert_exporter": "python",
   "pygments_lexer": "ipython3",
   "version": "3.10.11"
  },
  "vscode": {
   "interpreter": {
    "hash": "2d4e2a90c9c2c07801c0d21f4546ef9a613b5a9ccbf970de93eec2539f61cb2f"
   }
  }
 },
 "nbformat": 4,
 "nbformat_minor": 2
}
