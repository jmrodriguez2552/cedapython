{
 "cells": [
  {
   "cell_type": "markdown",
   "metadata": {},
   "source": [
    "## Ejercicio 1: ¿Mayor de Edad Interactivo?\n",
    "\n",
    "Pide al usuario su año de nacimiento usando input(). Calcula su edad aproximada y guárdala en una variable. Luego, crea una variable booleana llamada es_mayor_de_edad que sea True si la edad es mayor o igual a 18, y False en caso contrario. Finalmente, muestra un mensaje claro al usuario indicando si es mayor de edad o no (ej: \"¿Es mayor de edad?: True\")."
   ]
  },
  {
   "cell_type": "code",
   "execution_count": 2,
   "metadata": {},
   "outputs": [],
   "source": [
    "anio_nacimiento = input(\"Introduce tu año de nacimiento\")\n",
    "anio_nacimiento = int(anio_nacimiento)\n",
    "es_mayor_edad = True\n",
    "anio_actual = 2025\n",
    "edad = anio_actual - anio_nacimiento\n",
    "if edad > 18 :\n",
    "    print(es_mayor_edad)\n",
    "else:\n",
    "    es_mayor_edad = False\n",
    "    print(es_mayor_edad)"
   ]
  }
 ],
 "metadata": {
  "kernelspec": {
   "display_name": "Python 3.10.11 ('venv': venv)",
   "language": "python",
   "name": "python3"
  },
  "language_info": {
   "codemirror_mode": {
    "name": "ipython",
    "version": 3
   },
   "file_extension": ".py",
   "mimetype": "text/x-python",
   "name": "python",
   "nbconvert_exporter": "python",
   "pygments_lexer": "ipython3",
   "version": "3.10.11"
  },
  "orig_nbformat": 4,
  "vscode": {
   "interpreter": {
    "hash": "2d4e2a90c9c2c07801c0d21f4546ef9a613b5a9ccbf970de93eec2539f61cb2f"
   }
  }
 },
 "nbformat": 4,
 "nbformat_minor": 2
}
