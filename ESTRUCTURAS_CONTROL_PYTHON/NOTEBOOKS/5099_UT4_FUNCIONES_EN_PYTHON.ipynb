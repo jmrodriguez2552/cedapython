{
 "cells": [
  {
   "cell_type": "markdown",
   "metadata": {},
   "source": [
    "# Módulo 5099: Estructuras de Control en Python\n",
    "## Unidad 4: Funciones \n",
    "\n",
    "¿Qué pasa si queremos hacer la misma tarea varias veces en distintos sitios?\n",
    "\n",
    "Aquí es donde entran las **funciones**. \n",
    "\n",
    "**Objetivos de esta unidad:**\n",
    "* Entender el principio **DRY** (Don't Repeat Yourself - No te repitas).\n",
    "* Aprender a **definir** y **llamar** a una función simple.\n",
    "* Entender cómo pasar información a una función usando **parámetros**.\n",
    "* Entender cómo recibir un resultado de una función usando `return`.\n",
    "* Comprender la diferencia vital entre `print` y `return`."
   ]
  },
  {
   "cell_type": "markdown",
   "metadata": {},
   "source": [
    "---"
   ]
  },
  {
   "cell_type": "markdown",
   "metadata": {},
   "source": [
    "### 1. El Problema: Código Repetitivo (¡No te repitas!)\n",
    "\n",
    "Imagina que queremos saludar y dar la bienvenida a tres usuarios diferentes en nuestro programa."
   ]
  },
  {
   "cell_type": "code",
   "execution_count": null,
   "metadata": {},
   "outputs": [],
   "source": [
    "# Saludo para Ana\n",
    "print(\"¡Hola, Ana!\")\n",
    "print(\"Bienvenida a nuestro programa.\")\n",
    "print(\"-----------------------------\")\n",
    "\n",
    "# Saludo para Carlos\n",
    "print(\"¡Hola, Carlos!\")\n",
    "print(\"Bienvenido a nuestro programa.\")\n",
    "print(\"-----------------------------\")\n",
    "\n",
    "# Saludo para Bea\n",
    "print(\"¡Hola, Bea!\")\n",
    "print(\"Bienvenida a nuestro programa.\")\n",
    "print(\"-----------------------------\")\n",
    "\n",
    "print(\"\\nEste código funciona, pero es terrible. Estamos repitiendo la misma lógica una y otra vez.\")\n",
    "print(\"Si quisiéramos cambiar 'Bienvenido' por 'Te damos la bienvenida', tendríamos que cambiarlo en 3 sitios.\")"
   ]
  },
  {
   "cell_type": "markdown",
   "metadata": {},
   "source": [
    "### 2. La Solución: Una \"Receta\" reutilizable\n",
    "\n",
    "Una **función** es como una **receta** o una **pequeña máquina**. \n",
    "\n",
    "* La **defines** una vez (escribes la receta).\n",
    "* La **llamas** (usas la receta) tantas veces como quieras.\n",
    "\n",
    "La palabra clave para **definir** una función es `def`."
   ]
  },
  {
   "cell_type": "markdown",
   "metadata": {},
   "source": [
    "#### 2.1. Definir y Llamar a una Función Simple\n",
    "\n",
    "Vamos a crear una función que simplemente imprime un saludo."
   ]
  },
  {
   "cell_type": "code",
   "execution_count": null,
   "metadata": {},
   "outputs": [],
   "source": [
    "# --- 1. DEFINICIÓN DE LA FUNCIÓN ---\n",
    "# (Esto es como escribir la receta. No hace nada todavía)\n",
    "def saludar():\n",
    "    # ¡La indentación (espacio) es vital!\n",
    "    # Todo lo que esté aquí dentro pertenece a la función.\n",
    "    print(\"¡Hola!\")\n",
    "    print(\"Bienvenido/a a nuestro programa.\")\n",
    "    print(\"-----------------------------\")\n",
    "\n",
    "\n",
    "# --- 2. LLAMADA A LA FUNCIÓN ---\n",
    "# (Ahora usamos la receta. El código de dentro se ejecuta)\n",
    "\n",
    "print(\"Llamando a la función por primera vez:\")\n",
    "saludar()\n",
    "\n",
    "print(\"Llamando a la función por segunda vez:\")\n",
    "saludar()\n",
    "\n",
    "print(\"¡Mucho mejor! Si queremos cambiar el saludo, solo lo cambiamos en un sitio (en la definición).\")\n"
   ]
  },
  {
   "cell_type": "markdown",
   "metadata": {},
   "source": [
    "### 3. Dando \"Ingredientes\" a la Función: Parámetros\n",
    "\n",
    "Nuestra función `saludar()` es útil, pero siempre hace lo mismo. Saluda de forma genérica.\n",
    "¿Y si queremos que salude a una persona específica? Necesitamos pasarle \"ingredientes\".\n",
    "\n",
    "Estos \"ingredientes\" se llaman **parámetros** (en la definición) y **argumentos** (en la llamada).\n",
    "\n",
    "* **Parámetro:** El nombre de la variable *dentro* de los paréntesis de la `def`. Es el \"hueco\" para el ingrediente.\n",
    "* **Argumento:** El valor real que le *pasamos* a la función cuando la llamamos.\n"
   ]
  },
  {
   "cell_type": "code",
   "execution_count": null,
   "metadata": {},
   "outputs": [],
   "source": [
    "# 'nombre' es el PARÁMETRO (el hueco)\n",
    "def saludar_a(nombre):\n",
    "    print(f\"¡Hola, {nombre}!\") # Usamos el parámetro como una variable\n",
    "    print(\"Bienvenido/a a nuestro programa.\")\n",
    "    print(\"-----------------------------\")\n",
    "\n",
    "# Ahora, llamamos a la función pasándole ARGUMENTOS\n",
    "\n",
    "saludar_a(\"Ana\")     # \"Ana\" es el ARGUMENTO\n",
    "saludar_a(\"Carlos\")  # \"Carlos\" es el ARGUMENTO\n",
    "saludar_a(\"Bea\")     # \"Bea\" es el ARGUMENTO"
   ]
  },
  {
   "cell_type": "code",
   "execution_count": null,
   "metadata": {},
   "outputs": [],
   "source": [
    "# Una función puede tener múltiples parámetros\n",
    "\n",
    "def presentar(nombre, edad):\n",
    "    print(f\"Hola, me llamo {nombre} y tengo {edad} años.\")\n",
    "\n",
    "presentar(\"Marcos\", 30)\n",
    "presentar(\"Lucía\", 25)"
   ]
  },
  {
   "cell_type": "markdown",
   "metadata": {},
   "source": [
    "### 4. Obteniendo un \"Resultado\": La palabra `return`\n",
    "\n",
    "Nuestras funciones `saludar_a` y `presentar` hacen una acción (imprimen en pantalla), pero no nos *devuelven* nada.\n",
    "\n",
    "Imagina una función `sumar`. No queremos que *imprima* la suma, queremos que nos *devuelva* el resultado para poder guardarlo en una variable y usarlo después.\n",
    "\n",
    "Para esto sirve la palabra clave `return`."
   ]
  },
  {
   "cell_type": "code",
   "execution_count": null,
   "metadata": {},
   "outputs": [],
   "source": [
    "def sumar(num1, num2):\n",
    "    total = num1 + num2\n",
    "    return total # Devuelve el valor de 'total' al exterior\n",
    "\n",
    "# Cuando 'return' se ejecuta, la función TERMINA.\n",
    "def funcion_corta(x):\n",
    "    return x * 10\n",
    "    print(\"¡Esta línea NUNCA se ejecutará!\")\n",
    "\n",
    "# --- Usando la función 'sumar' ---\n",
    "\n",
    "# Llamamos a la función y guardamos el valor devuelto en una variable\n",
    "resultado_suma = sumar(5, 3)\n",
    "\n",
    "print(f\"El resultado de la suma es: {resultado_suma}\")\n",
    "\n",
    "# Podemos usar el resultado en otras operaciones\n",
    "total_final = resultado_suma * 2\n",
    "print(f\"El resultado por dos es: {total_final}\")"
   ]
  },
  {
   "cell_type": "markdown",
   "metadata": {},
   "source": [
    "Los párametros de entrada pueden tener asignado un valor por defecto, tal y como se muestra en el siguiente ejemplo"
   ]
  },
  {
   "cell_type": "code",
   "execution_count": null,
   "metadata": {},
   "outputs": [],
   "source": [
    "def my_print(mensaje = \"Mi mensaje por defecto\"):\n",
    "    print(mensaje)\n",
    "my_print(\"Hola Mundo\") # imprime 'Hola Mundo'\n",
    "my_print() # imprime 'Mi mensaje por defecto'"
   ]
  },
  {
   "cell_type": "markdown",
   "metadata": {},
   "source": [
    "### 5. Diferencia VITAL: `print` vs. `return`\n",
    "\n",
    "Este es el concepto más importante (y a veces confuso) de las funciones.\n",
    "\n",
    "* `print()`: Es una acción que **muestra algo en la pantalla**. Es como un altavoz. La función *grita* algo, pero no te da nada en la mano.\n",
    "* `return`: Es una acción que **devuelve un valor**. Es como un repartidor. La función te *entrega* un paquete (un valor) que puedes guardar y usar.\n",
    "\n",
    "Veamos la diferencia en la práctica:"
   ]
  },
  {
   "cell_type": "code",
   "execution_count": null,
   "metadata": {},
   "outputs": [],
   "source": [
    "# Versión con PRINT (El Altavoz)\n",
    "def sumar_con_print(a, b):\n",
    "    print(a + b)\n",
    "\n",
    "# Versión con RETURN (El Repartidor)\n",
    "def sumar_con_return(a, b):\n",
    "    return a + b\n",
    "\n",
    "# --- Vamos a intentar guardar el resultado ---\n",
    "\n",
    "print(\"Llamando a sumar_con_print:\")\n",
    "resultado_print = sumar_con_print(10, 5)\n",
    "# (Verás que el '15' se imprime en la línea de arriba)\n",
    "\n",
    "print(\"\\nLlamando a sumar_con_return:\")\n",
    "resultado_return = sumar_con_return(10, 5)\n",
    "# (Aquí no se imprime nada, el 15 se ha 'devuelto' y guardado)\n",
    "\n",
    "print(f\"\\nEl valor guardado de 'resultado_print' es: {resultado_print}\")\n",
    "print(f\"El valor guardado de 'resultado_return' es: {resultado_return}\")\n",
    "\n",
    "# ¡Date cuenta! La variable 'resultado_print' es 'None' (Nada).\n",
    "# La función 'sumar_con_print' hizo su trabajo (imprimió 15), pero no devolvió NADA.\n",
    "# 'sumar_con_return' nos entregó el 15 y lo pudimos guardar."
   ]
  },
  {
   "cell_type": "markdown",
   "metadata": {},
   "source": [
    "### 6. Buenas Prácticas: Documentando tu Función (Docstrings)\n",
    "\n",
    "Es una costumbre excelente explicar qué hace tu función usando un comentario especial justo después del `def`. A esto se le llama **docstring** (cadena de documentación) y usa triples comillas `\"\"\"`."
   ]
  },
  {
   "cell_type": "code",
   "execution_count": null,
   "metadata": {},
   "outputs": [],
   "source": [
    "def calcular_area_rectangulo(base, altura):\n",
    "    \"\"\"\n",
    "    Calcula el área de un rectángulo.\n",
    "\n",
    "    Parámetros:\n",
    "    base (int/float): La longitud de la base del rectángulo.\n",
    "    altura (int/float): La longitud de la altura del rectángulo.\n",
    "\n",
    "    Devuelve:\n",
    "    float: El área calculada (base * altura).\n",
    "    \"\"\"\n",
    "    if base < 0 or altura < 0:\n",
    "        return 0 # No puede haber áreas negativas\n",
    "    \n",
    "    return base * altura\n",
    "\n",
    "# Ahora, cuando usemos la función, otros programadores (¡o tú mismo en el futuro!)\n",
    "# pueden saber qué hace sin tener que leer todo el código.\n",
    "area = calcular_area_rectangulo(10, 5)\n",
    "print(f\"El área es: {area}\")\n",
    "\n",
    "# En Jupyter, puedes ver el docstring de una función escribiendo su nombre y '?'\n",
    "# Descomenta la siguiente línea y ejecútala en una celda de código:\n",
    "# calcular_area_rectangulo?"
   ]
  },
  {
   "cell_type": "markdown",
   "metadata": {},
   "source": [
    "---"
   ]
  },
  {
   "cell_type": "markdown",
   "metadata": {},
   "source": [
    "### 7. Ejercicios de Consolidación\n",
    "\n",
    "¡Tu turno! Intenta crear estas funciones."
   ]
  },
  {
   "cell_type": "markdown",
   "metadata": {},
   "source": [
    "#### Desafío 1: Convertidor de Temperatura\n",
    "\n",
    "Crea una función llamada `celsius_a_fahrenheit` que tome una temperatura en grados Celsius como **parámetro** y **devuelva** la temperatura equivalente en Fahrenheit.\n",
    "\n",
    "**Fórmula:** `Fahrenheit = (Celsius * 9/5) + 32`"
   ]
  },
  {
   "cell_type": "code",
   "execution_count": null,
   "metadata": {},
   "outputs": [],
   "source": []
  },
  {
   "cell_type": "markdown",
   "metadata": {},
   "source": [
    "#### Desafío 2: Verificador de Edad\n",
    "\n",
    "Crea una función llamada `es_mayor_de_edad` que tome una `edad` como **parámetro**.\n",
    "\n",
    "La función debe **devolver** `True` si la edad es 18 o más, y `False` si es menor de 18. (Esto se llama devolver un valor Booleano)."
   ]
  },
  {
   "cell_type": "code",
   "execution_count": null,
   "metadata": {},
   "outputs": [],
   "source": []
  }
 ],
 "metadata": {
  "kernelspec": {
   "display_name": "Python 3 (ipykernel)",
   "language": "python",
   "name": "python3"
  },
  "language_info": {
   "codemirror_mode": {
    "name": "ipython",
    "version": 3
   },
   "file_extension": ".py",
   "mimetype": "text/x-python",
   "name": "python",
   "nbconvert_exporter": "python",
   "pygments_lexer": "ipython3",
   "version": "3.10.12"
  }
 },
 "nbformat": 4,
 "nbformat_minor": 4
}
