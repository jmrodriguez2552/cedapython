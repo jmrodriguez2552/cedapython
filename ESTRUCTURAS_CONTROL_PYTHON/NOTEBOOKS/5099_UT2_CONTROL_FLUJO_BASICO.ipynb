{
 "cells": [
  {
   "cell_type": "markdown",
   "metadata": {},
   "source": [
    "# Módulo 5099: Estructuras de Control en Python\n",
    "## Unidad 3: Control de Flujo Básico: Los Bucles\n",
    "\n",
    "¡Bienvenido/a a la unidad sobre bucles! Hasta ahora, nuestros programas se ejecutan una vez, de arriba a abajo. Pero, ¿qué pasa si queremos que el ordenador haga una tarea repetitiva? \n",
    "\n",
    "Imagina que te pido que saludes a 100 personas. Sería muy aburrido escribir `print(\"Hola\")` 100 veces. Los **bucles** son la herramienta que nos permite decirle a Python: \"Repite esta acción varias veces\".\n",
    "\n",
    "Esto es fundamental en la programación y se conoce como **iteración**.\n",
    "\n",
    "**Objetivos de esta unidad:**\n",
    "* Entender qué es un bucle y por qué es útil.\n",
    "* Aprender a usar el bucle `for`: para repetir algo un número **definido** de veces.\n",
    "* Aprender a usar el bucle `while`: para repetir algo un número **indefinido** de veces (mientras se cumpla una condición).\n",
    "* Aprender a controlar los bucles con `break` y `continue`."
   ]
  },
  {
   "cell_type": "markdown",
   "metadata": {},
   "source": [
    "---"
   ]
  },
  {
   "cell_type": "markdown",
   "metadata": {},
   "source": [
    "### 1. El Bucle `for`: El Bucle \"Definido\"\n",
    "\n",
    "Usamos el bucle `for` cuando sabemos **cuántas veces** queremos repetir una acción.\n",
    "\n",
    "La analogía más sencilla es \"para cada elemento en esta caja, haz algo\".\n",
    "\n",
    "La forma más fácil de usarlo es con una lista."
   ]
  },
  {
   "cell_type": "code",
   "execution_count": 1,
   "metadata": {},
   "outputs": [
    {
     "name": "stdout",
     "output_type": "stream",
     "text": [
      "Hoy es: Lunes\n",
      "Hoy es: Martes\n",
      "Hoy es: Miércoles\n",
      "Hoy es: Jueves\n",
      "Hoy es: Viernes\n",
      "Hoy es: Sábado\n",
      "Hoy es: Domingo\n",
      "\n",
      "¡El bucle ha terminado! Esta línea solo se imprime una vez.\n"
     ]
    }
   ],
   "source": [
    "# Tenemos una 'caja' (una lista) con los días de la semana\n",
    "dias_semana = [\"Lunes\", \"Martes\", \"Miércoles\", \"Jueves\", \"Viernes\", \"Sábado\", \"Domingo\"]\n",
    "\n",
    "# Le decimos a Python: \"Para cada 'dia' que encuentres en la lista 'dias_semana', imprímelo\".\n",
    "for dia in dias_semana:\n",
    "    # ¡La indentación (el espacio a la izquierda) es MUY importante!\n",
    "    # Todo lo que esté indentado aquí dentro se repetirá en cada vuelta del bucle.\n",
    "    print(f\"Hoy es: {dia}\")\n",
    "\n",
    "print(\"\\n¡El bucle ha terminado! Esta línea solo se imprime una vez.\")"
   ]
  },
  {
   "cell_type": "markdown",
   "metadata": {},
   "source": [
    "#### 1.1. La función `range()`: El compañero perfecto de `for`\n",
    "\n",
    "¿Qué pasa si no tenemos una lista, y solo queremos repetir algo 5 veces? ¿Tenemos que crear la lista `[1, 2, 3, 4, 5]`? \n",
    "\n",
    "No es necesario. Usamos la función `range()`.\n",
    "\n",
    "`range(N)` genera una secuencia de números desde 0 hasta N-1.\n",
    "\n",
    "* `range(5)` genera: `0, 1, 2, 3, 4`\n",
    "* `range(1, 6)` genera: `1, 2, 3, 4, 5` (Empieza en el primero, termina *antes* del segundo)\n",
    "* `range(0, 10, 2)` genera: `0, 2, 4, 6, 8` (De 0 a 10, de 2 en 2)"
   ]
  },
  {
   "cell_type": "code",
   "execution_count": 2,
   "metadata": {},
   "outputs": [
    {
     "name": "stdout",
     "output_type": "stream",
     "text": [
      "--- Ejemplo 1 ---\n",
      "(Vuelta 0) ¡Hola!\n",
      "(Vuelta 1) ¡Hola!\n",
      "(Vuelta 2) ¡Hola!\n",
      "\n",
      "--- Ejemplo 2 ---\n",
      "El número es: 1\n",
      "El número es: 2\n",
      "El número es: 3\n",
      "El número es: 4\n",
      "El número es: 5\n",
      "\n",
      "--- Ejemplo 3 ---\n",
      "Quedan... 10\n",
      "Quedan... 8\n",
      "Quedan... 6\n",
      "Quedan... 4\n",
      "Quedan... 2\n",
      "¡Despegue!\n"
     ]
    }
   ],
   "source": [
    "# Ejemplo 1: Repetir un saludo 3 veces\n",
    "print(\"--- Ejemplo 1 ---\")\n",
    "for i in range(3): # i tomará los valores 0, 1, 2\n",
    "    print(f\"(Vuelta {i}) ¡Hola!\")\n",
    "\n",
    "# Ejemplo 2: Contar del 1 al 5\n",
    "print(\"\\n--- Ejemplo 2 ---\")\n",
    "for numero in range(1, 6):\n",
    "    print(f\"El número es: {numero}\")\n",
    "\n",
    "# Ejemplo 3: Cuenta atrás de 2 en 2\n",
    "print(\"\\n--- Ejemplo 3 ---\")\n",
    "for cuenta_atras in range(10, 0, -2):\n",
    "    print(f\"Quedan... {cuenta_atras}\")\n",
    "print(\"¡Despegue!\")"
   ]
  },
  {
   "cell_type": "markdown",
   "metadata": {},
   "source": [
    "#### 1.2. Ejemplo Práctico `for`: La Tabla de Multiplicar\n",
    "\n",
    "Vamos a combinar lo que sabemos: pedimos un número al usuario y usamos un bucle `for` con `range()` para mostrar su tabla de multiplicar."
   ]
  },
  {
   "cell_type": "code",
   "execution_count": 5,
   "metadata": {},
   "outputs": [
    {
     "name": "stdout",
     "output_type": "stream",
     "text": [
      "--- Calculadora de Tablas de Multiplicar ---\n",
      "6 x 1 = 6\n",
      "6 x 2 = 12\n",
      "6 x 3 = 18\n",
      "6 x 4 = 24\n",
      "6 x 5 = 30\n",
      "6 x 6 = 36\n",
      "6 x 7 = 42\n",
      "6 x 8 = 48\n",
      "6 x 9 = 54\n",
      "6 x 10 = 60\n"
     ]
    }
   ],
   "source": [
    "print(\"--- Calculadora de Tablas de Multiplicar ---\")\n",
    "\n",
    "# Pedimos el número (y lo convertimos a entero)\n",
    "numero_tabla = int(input(\"¿De qué número quieres la tabla?: \"))\n",
    "\n",
    "# Queremos multiplicar del 1 al 10, así que usamos range(1, 11)\n",
    "for i in range(1, 11):\n",
    "    resultado = numero_tabla * i\n",
    "    print(f\"{numero_tabla} x {i} = {resultado}\")"
   ]
  },
  {
   "cell_type": "markdown",
   "metadata": {},
   "source": [
    "---"
   ]
  },
  {
   "cell_type": "markdown",
   "metadata": {},
   "source": [
    "### 2. El Bucle `while`: El Bucle \"Indefinido\"\n",
    "\n",
    "Usamos `while` (mientras) cuando **no sabemos cuántas veces** tenemos que repetir algo, pero sí sabemos la **condición para seguir**.\n",
    "\n",
    "La analogía es: \"Mientras esta condición sea Verdadera, sigue repitiendo\".\n",
    "\n",
    "**¡¡ADVERTENCIA!!** Con `while`, es posible crear un **bucle infinito**. Si la condición *nunca* se vuelve Falsa, el programa se quedará atascado para siempre. \n",
    "\n",
    "Un bucle `while` seguro necesita 3 partes:\n",
    "1.  **Inicialización:** Una variable que usaremos en la condición.\n",
    "2.  **Condición:** La comprobación que hace el `while`.\n",
    "3.  **Actualización:** Algo *dentro* del bucle que cambie la variable, para que en algún momento la condición sea Falsa."
   ]
  },
  {
   "cell_type": "code",
   "execution_count": 6,
   "metadata": {},
   "outputs": [
    {
     "name": "stdout",
     "output_type": "stream",
     "text": [
      "El valor de i es: 0\n",
      "El valor de i es: 1\n",
      "El valor de i es: 2\n",
      "El valor de i es: 3\n",
      "El valor de i es: 4\n",
      "Bucle 'while' terminado.\n"
     ]
    }
   ],
   "source": [
    "# Vamos a replicar un 'for i in range(5)' usando un 'while'\n",
    "\n",
    "i = 0                # 1. INICIALIZACIÓN\n",
    "\n",
    "while i < 5:         # 2. CONDICIÓN\n",
    "    print(f\"El valor de i es: {i}\")\n",
    "    i = i + 1        # 3. ACTUALIZACIÓN (¡La más importante!)\n",
    "\n",
    "print(\"Bucle 'while' terminado.\")\n",
    "\n",
    "# Si comentas la línea 'i = i + 1', ¡el programa se colgará en un bucle infinito!"
   ]
  },
  {
   "cell_type": "markdown",
   "metadata": {},
   "source": [
    "#### 2.1. Ejemplo Práctico `while`: Validación de Contraseña\n",
    "\n",
    "El uso más común de `while` es para validar la entrada de un usuario. No sabemos cuántos intentos necesitará.\n",
    "\n",
    "Vamos a pedir una contraseña y no dejaremos que el programa continúe *mientras* la contraseña sea incorrecta."
   ]
  },
  {
   "cell_type": "code",
   "execution_count": 7,
   "metadata": {},
   "outputs": [
    {
     "name": "stdout",
     "output_type": "stream",
     "text": [
      "¡Contraseña incorrecta! Inténtalo de nuevo.\n",
      "\n",
      "¡Contraseña correcta! Bienvenido.\n"
     ]
    }
   ],
   "source": [
    "contrasena_secreta = \"python123\"\n",
    "\n",
    "# 1. INICIALIZACIÓN (Pedimos la contraseña por primera vez)\n",
    "intento = input(\"Introduce la contraseña: \")\n",
    "\n",
    "# 2. CONDICIÓN (Mientras el intento sea DIFERENTE a la secreta)\n",
    "while intento != contrasena_secreta:\n",
    "    print(\"¡Contraseña incorrecta! Inténtalo de nuevo.\")\n",
    "    \n",
    "    # 3. ACTUALIZACIÓN (Volvemos a pedir la contraseña)\n",
    "    intento = input(\"Introduce la contraseña: \")\n",
    "\n",
    "print(\"\\n¡Contraseña correcta! Bienvenido.\")"
   ]
  },
  {
   "cell_type": "markdown",
   "metadata": {},
   "source": [
    "---"
   ]
  },
  {
   "cell_type": "markdown",
   "metadata": {},
   "source": [
    "### 3. Controlando Bucles: `break` y `continue`\n",
    "\n",
    "A veces, queremos alterar el comportamiento normal de un bucle.\n",
    "\n",
    "#### `break` (Romper)\n",
    "Es como el freno de emergencia. **Rompe el bucle y sale de él inmediatamente**, sin importar la condición.\n",
    "\n",
    "**Uso:** Cuando encontramos lo que buscábamos y no necesitamos seguir."
   ]
  },
  {
   "cell_type": "code",
   "execution_count": 9,
   "metadata": {},
   "outputs": [
    {
     "name": "stdout",
     "output_type": "stream",
     "text": [
      "Buscando el primer número divisible por 7 entre 1 y 100...\n",
      "¡Encontrado! El número es: 7\n",
      "El bucle ha terminado (quizás antes de tiempo gracias a 'break').\n"
     ]
    }
   ],
   "source": [
    "# Buscar el primer número divisible por 7 en un rango\n",
    "\n",
    "print(\"Buscando el primer número divisible por 7 entre 1 y 100...\")\n",
    "\n",
    "for numero in range(1, 101):\n",
    "    if numero % 7 == 0: # Si el resto de dividir por 7 es 0\n",
    "        print(f\"¡Encontrado! El número es: {numero}\")\n",
    "        break # ¡SALIMOS DEL BUCLE! No seguimos buscando.\n",
    "\n",
    "print(\"El bucle ha terminado (quizás antes de tiempo gracias a 'break').\")"
   ]
  },
  {
   "cell_type": "markdown",
   "metadata": {},
   "source": [
    "#### `continue` (Continuar)\n",
    "**Salta a la siguiente vuelta del bucle**. Ignora todo el código que venga después de él *dentro* del bucle y pasa a la siguiente iteración.\n",
    "\n",
    "**Uso:** Cuando queremos ignorar un elemento específico y seguir con los demás."
   ]
  },
  {
   "cell_type": "code",
   "execution_count": 10,
   "metadata": {},
   "outputs": [
    {
     "name": "stdout",
     "output_type": "stream",
     "text": [
      "Imprimiendo solo los números IMPARES del 1 al 10...\n",
      "1\n",
      "3\n",
      "5\n",
      "7\n",
      "9\n",
      "Bucle terminado.\n"
     ]
    }
   ],
   "source": [
    "# Imprimir todos los números del 1 al 10, excepto los números pares.\n",
    "\n",
    "print(\"Imprimiendo solo los números IMPARES del 1 al 10...\")\n",
    "\n",
    "for numero in range(1, 11):\n",
    "    if numero % 2 == 0: # Si es par\n",
    "        continue # ¡SALTAMOS A LA SIGUIENTE VUELTA! El print() de abajo no se ejecuta.\n",
    "    \n",
    "    print(numero)\n",
    "\n",
    "print(\"Bucle terminado.\")"
   ]
  },
  {
   "cell_type": "markdown",
   "metadata": {},
   "source": [
    "---"
   ]
  },
  {
   "cell_type": "markdown",
   "metadata": {},
   "source": [
    "### 4. Ejercicios de Consolidación\n",
    "\n",
    "¡Es tu turno! Intenta resolver estos problemas usando los bucles que hemos aprendido."
   ]
  },
  {
   "cell_type": "markdown",
   "metadata": {},
   "source": [
    "#### Desafío 1: El Sumador\n",
    "\n",
    "Escribe un programa que calcule la suma de todos los números del 1 al 100.\n",
    "Deberás crear una variable `total = 0` antes del bucle y luego, en cada vuelta, sumarle el número actual (`total = total + i`).\n",
    "Usa un bucle `for` y `range()`."
   ]
  },
  {
   "cell_type": "code",
   "execution_count": 8,
   "metadata": {},
   "outputs": [
    {
     "name": "stdout",
     "output_type": "stream",
     "text": [
      "La suma total de los 100 primeros números es: 5050\n"
     ]
    }
   ],
   "source": [
    "total = 0\n",
    "for num in range(1,101):\n",
    "    total = total + num\n",
    "\n",
    "print(f\"La suma total de los 100 primeros números es: {total}\")"
   ]
  },
  {
   "cell_type": "markdown",
   "metadata": {},
   "source": [
    "#### Desafío 2: Adivina el Número (Simple)\n",
    "\n",
    "Crea un juego simple. Define un `numero_secreto = 7` (puedes ponerlo directamente en el código).\n",
    "El programa debe pedir al usuario que adivine el número (un `int(input(...))`).\n",
    "Usa un bucle `while` para que, *mientras* el número introducido no sea el secreto, le diga \"Fallaste, prueba otra vez\" y se lo vuelva a pedir. \n",
    "Cuando acierte, el bucle terminará y el programa imprimirá \"¡Felicidades, has acertado!\"."
   ]
  },
  {
   "cell_type": "code",
   "execution_count": 11,
   "metadata": {},
   "outputs": [
    {
     "name": "stdout",
     "output_type": "stream",
     "text": [
      "Fallaste, prueba otra vez\n",
      "Felicidades, has acertado!\n"
     ]
    }
   ],
   "source": [
    "num_secreto = 7\n",
    "num =int(input(\"Introduce el número a adivinar\"))\n",
    "while(num != num_secreto):\n",
    "    print(\"Fallaste, prueba otra vez\")\n",
    "    num =int(input(\"Introduce el número a adivinar\"))\n",
    "\n",
    "print(\"Felicidades, has acertado!\")"
   ]
  },
  {
   "cell_type": "markdown",
   "metadata": {},
   "source": [
    "#### Desafío 3: El Cajero Automático (Menú Básico)\n",
    "\n",
    "Simula un menú de un cajero. El programa debe mostrar el menú continuamente hasta que el usuario elija la opción \"Salir\".\n",
    "\n",
    "Usa un bucle `while True:` (un bucle infinito a propósito) y la sentencia `break` para salir cuando el usuario elija la opción 4."
   ]
  },
  {
   "cell_type": "code",
   "execution_count": 16,
   "metadata": {},
   "outputs": [
    {
     "name": "stdout",
     "output_type": "stream",
     "text": [
      "Menu Operacional\n",
      "----------------\n",
      "1. Sacar dinero\n",
      "2.Ingresar dinero\n",
      "3.Consultar saldo\n",
      "4.Salir\n",
      "Reintegro realizado correctamente\n",
      "Menu Operacional\n",
      "----------------\n",
      "1. Sacar dinero\n",
      "2.Ingresar dinero\n",
      "3.Consultar saldo\n",
      "4.Salir\n",
      "Ingreso realizado correctamente\n",
      "Menu Operacional\n",
      "----------------\n",
      "1. Sacar dinero\n",
      "2.Ingresar dinero\n",
      "3.Consultar saldo\n",
      "4.Salir\n",
      "Tu saldo actual es de: 700.0 euros\n",
      "Menu Operacional\n",
      "----------------\n",
      "1. Sacar dinero\n",
      "2.Ingresar dinero\n",
      "3.Consultar saldo\n",
      "4.Salir\n",
      "Fin de la aplicación\n"
     ]
    }
   ],
   "source": [
    "saldo =1000\n",
    "while(True):\n",
    "    print(\"Menu Operacional\")\n",
    "    print(\"----------------\")\n",
    "    print(\"1. Sacar dinero\\n2.Ingresar dinero\\n3.Consultar saldo\\n4.Salir\")\n",
    "    opcion = int(input(\"Introduce una opción\"))\n",
    "    if opcion == 4:\n",
    "        print(\"Fin de la aplicación\")\n",
    "        break\n",
    "    elif opcion == 2:\n",
    "        cantidad = float(input(\"Introduce una cantidad a ingresar\"))\n",
    "        saldo = saldo + cantidad\n",
    "        print(\"Ingreso realizado correctamente\")\n",
    "    elif opcion == 1:\n",
    "        cantidad = float(input(\"Introduce una cantidad a retirar\"))\n",
    "        if cantidad < saldo:\n",
    "            saldo = saldo - cantidad\n",
    "            print(\"Reintegro realizado correctamente\")\n",
    "        else:\n",
    "            print(\"Saldo insuficiente\")\n",
    "    elif opcion == 3:\n",
    "        print(f\"Tu saldo actual es de: {saldo} euros\")\n",
    "    else:\n",
    "        print(\"Opción no disponible\")\n",
    "\n",
    "\n"
   ]
  }
 ],
 "metadata": {
  "kernelspec": {
   "display_name": "Python 3.10.11 ('venv': venv)",
   "language": "python",
   "name": "python3"
  },
  "language_info": {
   "codemirror_mode": {
    "name": "ipython",
    "version": 3
   },
   "file_extension": ".py",
   "mimetype": "text/x-python",
   "name": "python",
   "nbconvert_exporter": "python",
   "pygments_lexer": "ipython3",
   "version": "3.10.11"
  },
  "vscode": {
   "interpreter": {
    "hash": "2d4e2a90c9c2c07801c0d21f4546ef9a613b5a9ccbf970de93eec2539f61cb2f"
   }
  }
 },
 "nbformat": 4,
 "nbformat_minor": 4
}
