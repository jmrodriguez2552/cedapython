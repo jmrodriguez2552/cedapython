{
 "cells": [
  {
   "cell_type": "code",
   "execution_count": null,
   "metadata": {},
   "outputs": [],
   "source": []
  },
  {
   "cell_type": "markdown",
   "metadata": {},
   "source": [
    "## Ejercicio 1: Calculadora de Área\n",
    "\n",
    "Crea dos variables, base y altura, para un rectángulo. Asigna los valores 10 y 5 respectivamente. Calcula el área (base * altura) y el perímetro (2 * base + 2 * altura) y guarda los resultados en dos nuevas variables. Finalmente, muestra los resultados por pantalla con un texto explicativo (ej: \"El área del rectángulo es: [resultado]\")."
   ]
  },
  {
   "cell_type": "code",
   "execution_count": 1,
   "metadata": {},
   "outputs": [
    {
     "name": "stdout",
     "output_type": "stream",
     "text": [
      "El área del rectangulo es : 50\n",
      "El perímetro del rectangulo es : 30\n"
     ]
    }
   ],
   "source": [
    "base = 10\n",
    "altura = 5\n",
    "\n",
    "area = base * altura\n",
    "perimetro = (2*base + 2 * altura)\n",
    "\n",
    "print(f\"El área del rectangulo es : {area}\")\n",
    "print(f\"El perímetro del rectangulo es : {perimetro}\")"
   ]
  },
  {
   "cell_type": "markdown",
   "metadata": {},
   "source": [
    "## Ejercicio 2: Conversor de Moneda Simple\n",
    "\n",
    "Crea una variable euros con el valor 50. Suponiendo que el tipo de cambio es 1.07 dólares por euro, calcula cuántos dólares son esos 50 euros y almacena el resultado en una variable dolares. Muestra el resultado final."
   ]
  },
  {
   "cell_type": "code",
   "execution_count": 2,
   "metadata": {},
   "outputs": [
    {
     "name": "stdout",
     "output_type": "stream",
     "text": [
      "El cambio de 50 euros a dolares es: 53.5\n"
     ]
    }
   ],
   "source": [
    "euros = 50\n",
    "tipo_cambio = 1.07\n",
    "dolares = euros * tipo_cambio\n",
    "\n",
    "print(f\"El cambio de {euros} euros a dolares es: {dolares}\")"
   ]
  },
  {
   "cell_type": "markdown",
   "metadata": {},
   "source": [
    "## Ejercicio 3: Ficha Personal\n",
    "\n",
    "Crea tres variables: nombre_completo, año_nacimiento y profesion. Asigna tus propios datos. Muestra por pantalla una frase que combine estas tres variables de forma coherente."
   ]
  },
  {
   "cell_type": "code",
   "execution_count": 3,
   "metadata": {},
   "outputs": [
    {
     "name": "stdout",
     "output_type": "stream",
     "text": [
      "Hola mi nombre es: Jose Manuel Rodríguez  y mi año de nacimiento es: 1980\n",
      "Mi profesión es: Actualmente soy estudiante del curso de especialización de Python\n"
     ]
    }
   ],
   "source": [
    "nombre_completo = \"Jose Manuel Rodríguez \"\n",
    "anio_nacimiento = 1980\n",
    "profesion = \"Actualmente soy estudiante del curso de especialización de Python\"\n",
    "\n",
    "print(f\"Hola mi nombre es: {nombre_completo} y mi año de nacimiento es: {anio_nacimiento}\\nMi profesión es: {profesion}\")"
   ]
  }
 ],
 "metadata": {
  "kernelspec": {
   "display_name": "Python 3.10.11 ('venv': venv)",
   "language": "python",
   "name": "python3"
  },
  "language_info": {
   "codemirror_mode": {
    "name": "ipython",
    "version": 3
   },
   "file_extension": ".py",
   "mimetype": "text/x-python",
   "name": "python",
   "nbconvert_exporter": "python",
   "pygments_lexer": "ipython3",
   "version": "3.10.11"
  },
  "orig_nbformat": 4,
  "vscode": {
   "interpreter": {
    "hash": "2d4e2a90c9c2c07801c0d21f4546ef9a613b5a9ccbf970de93eec2539f61cb2f"
   }
  }
 },
 "nbformat": 4,
 "nbformat_minor": 2
}
