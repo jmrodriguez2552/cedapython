{
 "cells": [
  {
   "cell_type": "markdown",
   "metadata": {},
   "source": [
    "# Módulo 5099: Estructuras de Control en Python\n",
    "## UT1: Fundamentos de programación en Python y expresiones lógicas\n",
    "---\n",
    "**Duración:** 4 Semanas (8 horas lectivas)\n",
    "\n",
    "**Objetivos de la Unidad:**\n",
    "* Comprender la sintaxis básica del lenguaje Python.\n",
    "* Identificar y utilizar los tipos de datos fundamentales.\n",
    "* Declarar y manipular variables para almacenar información.\n",
    "* Realizar operaciones aritméticas y de comparación.\n",
    "* Construir expresiones lógicas para la toma de decisiones.\n",
    "* Crear programas sencillos que interactúen con el usuario.\n",
    "* Familiarizarse con el entorno de trabajo de los Jupyter Notebooks."
   ]
  },
  {
   "cell_type": "markdown",
   "metadata": {},
   "source": [
    "## Introducción a Jupyter Notebooks\n",
    "\n",
    "¡Bienvenido a Jupyter! Esta herramienta será nuestro laboratorio de pruebas durante el curso. Un Jupyter Notebook es un documento interactivo que te permite escribir y ejecutar código (como Python), visualizar los resultados, y al mismo tiempo, documentar todo con texto, imágenes y enlaces. Es increíblemente popular en el mundo del análisis de datos y la programación científica por su flexibilidad.\n",
    "\n",
    "### Características Principales:\n",
    "\n",
    "1.  **Celdas (Cells)**: El notebook está compuesto por celdas. Hay dos tipos principales que usaremos:\n",
    "    * **Celdas de Código**: Aquí es donde escribimos y ejecutamos nuestro código Python. Las reconocerás por el `In [ ]:` que aparece a su izquierda.\n",
    "    * **Celdas de Markdown**: Aquí es donde escribimos texto enriquecido (como este mismo bloque). Markdown es un lenguaje muy sencillo que permite añadir formato como **negritas**, *cursivas*, listas, enlaces, etc.\n",
    "\n",
    "2.  **Kernel**: Imagina el Kernel como el motor que está detrás del telón. Es el responsable de ejecutar el código que escribes en las celdas. Cuando ejecutas una celda de código, se la envías al Kernel, él la procesa y te devuelve el resultado.\n",
    "\n",
    "3.  **Interactividad**: Lo mejor de los notebooks es que son interactivos. Puedes ejecutar las celdas en cualquier orden, modificarlas y volver a ejecutarlas para ver cómo cambian los resultados. Esto hace que sea una herramienta fantástica para experimentar y aprender.\n",
    "\n",
    "### ¿Cómo se usa?\n",
    "\n",
    "* **Para ejecutar una celda**: Selecciónala haciendo clic en ella y luego presiona `Shift + Enter` (o `Ctrl + Enter` si no quieres moverte a la siguiente celda).\n",
    "* **Para cambiar el tipo de celda**: Ve al menú desplegable de la barra de herramientas y elige entre `Code` o `Markdown`.\n",
    "* **Para guardar**: ¡No te olvides de guardar tu trabajo! Puedes hacerlo desde el menú `File > Save` o con el atajo `Ctrl + S`."
   ]
  },
  {
   "cell_type": "markdown",
   "metadata": {},
   "source": [
    "--- \n",
    "### Semana 1-2: ¡Hola, Python! - El Primer Contacto\n",
    "\n",
    "Durante estas dos primeras semanas, nos familiarizaremos con el lenguaje y las herramientas que usaremos. El objetivo es perderle el miedo a la programación y entender cómo \"hablar\" con el ordenador a través de Python. 🐍"
   ]
  },
  {
   "cell_type": "markdown",
   "metadata": {},
   "source": [
    "#### 1.1 Variables: Las cajas del código\n",
    "\n",
    "Una variable es como una caja con una etiqueta donde guardamos información. Para crear una variable en Python, simplemente le damos un nombre (la etiqueta) y le asignamos un valor con el operador `=`."
   ]
  },
  {
   "cell_type": "code",
   "execution_count": null,
   "metadata": {},
   "outputs": [],
   "source": [
    "# Asignamos el valor 28 a la variable 'edad'\n",
    "edad = 28\n",
    "\n",
    "# Asignamos el texto \"María\" a la variable 'nombre'\n",
    "nombre = \"María\"\n",
    "\n",
    "# Podemos mostrar el valor de una variable usando la función print()\n",
    "# La función print() es nuestra herramienta para ver qué está pasando en el código.\n",
    "print(nombre)\n",
    "print(edad)"
   ]
  },
  {
   "cell_type": "markdown",
   "metadata": {},
   "source": [
    "#### Definir variables con su tipo   \n",
    "\n",
    "Para definir una variable con su tipo, debemos escribir el nombre de la variable, dos puntos y el tipo de dato. En este ejemplo se puede ver de forma más clara:"
   ]
  },
  {
   "cell_type": "code",
   "execution_count": null,
   "metadata": {},
   "outputs": [],
   "source": [
    "name: str = 'Alber'\n",
    "age: int = 33\n",
    "height: float = 1.74\n",
    "is_dev: bool = True"
   ]
  },
  {
   "cell_type": "markdown",
   "metadata": {},
   "source": [
    "#### 1.2 Tipos de Datos Fundamentales\n",
    "\n",
    "Python maneja diferentes tipos de información. Los más básicos son:\n",
    "\n",
    "* **Integer (`int`):** Números enteros, sin decimales. Ej: `28`, `-5`, `1000`.\n",
    "* **Float (`float`):** Números de punto flotante, es decir, con decimales. Ej: `3.14`, `-0.5`, `99.95`.\n",
    "* **String (`str`):** Cadenas de texto. Se escriben entre comillas simples (`' '`) o dobles (`\" \"`). Ej: `'Hola mundo'`, `\"Python es genial\"`.\n",
    "* **Boolean (`bool`):** Representa uno de dos valores: `True` (verdadero) o `False` (falso). Son la base de toda la lógica en programación.\n",
    "\n",
    "Podemos saber el tipo de una variable con la función `type()`."
   ]
  },
  {
   "cell_type": "code",
   "execution_count": null,
   "metadata": {},
   "outputs": [],
   "source": [
    "numero_de_alumnos = 25\n",
    "precio_cafe = 1.20\n",
    "mensaje_bienvenida = \"Bienvenidos a la UT1\"\n",
    "clase_empezada = True\n",
    "\n",
    "print(type(numero_de_alumnos))\n",
    "print(type(precio_cafe))\n",
    "print(type(mensaje_bienvenida))\n",
    "print(type(clase_empezada))"
   ]
  },
  {
   "cell_type": "markdown",
   "metadata": {},
   "source": [
    "**¡OJO!** El lenguaje Python usa *\"tipado dinámico\"*. Es decir, una variable podría tomar cualquier tipo de valor.    \n",
    "Desde la versión 3.5 de Python, se añadió la opción de poder anotar las variables para definir el tipo de dato y también en el retorno de una función aunque actualmente solo es descriptivo y si, por ejemplo, se define una variable de tipo **string** y se le asigna un valor numérico, no ocurrirá ningún error."
   ]
  },
  {
   "cell_type": "code",
   "execution_count": 2,
   "metadata": {},
   "outputs": [
    {
     "name": "stdout",
     "output_type": "stream",
     "text": [
      "María\n",
      "<class 'str'>\n",
      "42\n",
      "<class 'int'>\n"
     ]
    }
   ],
   "source": [
    "# Establecer el tipo de dato de una variable\n",
    "nombre: str = \"María\"\n",
    "print(nombre)\n",
    "print(type(nombre))\n",
    "# Cambiamos el contenido de la variable 'nombre' y su tipo de dato\n",
    "nombre = 42\n",
    "print(nombre)\n",
    "print(type(nombre)) "
   ]
  },
  {
   "cell_type": "markdown",
   "metadata": {},
   "source": [
    "#### Definir tipo de datos complejos   (anterior a version 3.9)\n",
    "Si queremos definir tipos de datos como **Tuple**, **Dict**, **List**, **Set**, **Collection** y otros tipos, es necesario importar la librería **typing** para poder usarlos, salvo que se utilice la versión 3.9 o superior de Python que ya incluye estos tipos:"
   ]
  },
  {
   "cell_type": "code",
   "execution_count": 4,
   "metadata": {},
   "outputs": [],
   "source": [
    "# Para versiones anteriores a la 3.9\n",
    "from typing import Tuple, Dict, List, Set\n",
    "\n",
    "tupla: Tuple = (0, 1, 2, 3)\n",
    "diccionario: Dict = {'name': 'Alber'}\n",
    "lista: List = [0, 1, 2, 3]\n",
    "conjunto: Set = {0, 1, 2, 3}"
   ]
  },
  {
   "cell_type": "markdown",
   "metadata": {},
   "source": [
    "#### Clasificación de tipos.   \n",
    "\n",
    "Los tipos de datos compuestos estándar se pueden clasificar como los dos siguientes:\n",
    "\n",
    "- **Mutable**: su contenido (o dicho valor) puede cambiarse en tiempo de ejecución.\n",
    "\n",
    "- **Inmutable**: su contenido (o dicho valor) no puede cambiarse en tiempo de ejecución."
   ]
  },
  {
   "cell_type": "markdown",
   "metadata": {},
   "source": [
    "Se pueden resumir los tipos de datos compuestos estándar en la siguiente tabla:   \n",
    "\n",
    "|Categoría|Nombre|Descripción|\n",
    "|---------|------|-----------|\n",
    "|Números inmutables|int|entero|\n",
    "||float|coma flotante|\n",
    "||complex|complejo|\n",
    "||bool|booleano|\n",
    "|Secuencias inmutables|str|cadena caracteres|\n",
    "||tuple|tupla|\n",
    "|Secuencias mutables|list|lista|\n",
    "||range|rango|\n",
    "|Mapeos|dict|diccionario|\n",
    "|Conjuntos mutables|set|conjunto mutable|\n",
    "|Conjuntos inmutables|frozenset|conjunto inmutable|\n",
    "\n",
    "#### Otros tipos de datos.   \n",
    "\n",
    "|Categoría|Nombre|Descripción|\n",
    "|---------|------|-----------|\n",
    "|Objeto integrado|NoneType|objeto *None*|\n",
    "|Objeto integrado|NotImplementedType|objeto *NotImplemented*|\n",
    "|Objeto integrado|ellipsis|el objeto *Ellipsis*|\n",
    "|Objeto integrado|file|objeto *file*|\n",
    "\n",
    "\n",
    "#### Objeto NONE\n",
    "Este tipo tiene un solo valor. Hay un solo objeto con este valor.    \n",
    "Se accede a este objeto a través del nombre incorporado «None».    \n",
    "Se utiliza para indicar la ausencia de un valor en muchas situaciones, por ejemplo, se devuelve desde las funciones que no devuelven nada explícitamente. Su valor de verdad es *False*.   \n",
    "\n",
    "#### Objeto NotImplemented     \n",
    "\n",
    "Este tipo tiene un solo valor. Hay un solo objeto con este valor. Se accede a este objeto a través del nombre incorporado «NotImplemented».    \n",
    "Los métodos numéricos y los métodos de comparación enriquecidos (como __eq__(), __lt__() y amigos), para indicar que la comparación no se implementa con respecto al otro tipo, es decir, pueden devolver este valor si no implementan la operación para los operandos proporcionados. (El intérprete luego intentará la operación reflejada, o algún otro respaldo «fallback», dependiendo del operador). Su valor de verdad es **True**.   \n",
    "\n",
    "*NotImplemented* es una señal que se devuelve en operaciones de comparación o métodos de protocolo (como __eq__) para indicar que la operación no se implementa para la combinación de tipos dados. En lugar de lanzar un error, permite que Python intente invertir los operandos para ver si el otro objeto puede manejar la comparación.\n",
    "   \n",
    "\n",
    "#### Objeto ELLIPSIS (...).   \n",
    "\n",
    "Este tipo tiene un solo valor. Hay un solo objeto con este valor. Se accede a este objeto *ellipsis* a través del nombre incorporado **«Ellipsis»**.    \n",
    "Se utiliza para indicar la presencia de la sintaxis «...» en una porción o la notación de corte extendida. Su valor de verdad es True.   \n",
    "Ejemplo:"
   ]
  },
  {
   "cell_type": "code",
   "execution_count": 2,
   "metadata": {},
   "outputs": [
    {
     "name": "stdout",
     "output_type": "stream",
     "text": [
      "('hola', 'mundo', '!')\n",
      "<class 'tuple'>\n"
     ]
    }
   ],
   "source": [
    "from typing import Tuple\n",
    "tupla_cadenas: Tuple[str, ...] = (\"hola\", \"mundo\", \"!\") # Esta es una tupla con varias cadenas\n",
    "print(tupla_cadenas)\n",
    "print(type(tupla_cadenas))"
   ]
  },
  {
   "cell_type": "markdown",
   "metadata": {},
   "source": [
    "#### 1.3 Operaciones Aritméticas Básicas\n",
    "\n",
    "Podemos usar Python como una potente calculadora. Los operadores son intuitivos."
   ]
  },
  {
   "cell_type": "code",
   "execution_count": null,
   "metadata": {},
   "outputs": [],
   "source": [
    "a = 15\n",
    "b = 4\n",
    "\n",
    "suma = a + b\n",
    "resta = a - b\n",
    "multiplicacion = a * b\n",
    "division = a / b\n",
    "division_entera = a // b  # Descarta la parte decimal\n",
    "resto = a % b             # Devuelve el resto de la división (muy útil para saber si un número es par)\n",
    "potencia = a ** b          # a elevado a b\n",
    "\n",
    "print(\"Suma:\", suma)\n",
    "print(\"Resta:\", resta)\n",
    "print(\"Multiplicación:\", multiplicacion)\n",
    "print(\"División:\", division)\n",
    "print(\"División Entera:\", division_entera)\n",
    "print(\"Resto (Módulo):\", resto)\n",
    "print(\"Potencia:\", potencia)"
   ]
  },
  {
   "cell_type": "markdown",
   "metadata": {},
   "source": [
    "--- \n",
    "### 🏋️‍♂️ Ejercicios Propuestos (Semanas 1-2)\n",
    "\n",
    "**Ejercicio 1: Calculadora de Área**  \n",
    "\n",
    "Crea dos variables, `base` y `altura`, para un rectángulo. Asigna los valores `10` y `5` respectivamente. Calcula el área (`base * altura`) y el perímetro (`2 * base + 2 * altura`) y guarda los resultados en dos nuevas variables. Finalmente, muestra los resultados por pantalla con un texto explicativo (ej: \"El área del rectángulo es: [resultado]\").\n",
    "\n",
    "**Ejercicio 2: Conversor de Moneda Simple**   \n",
    "\n",
    "Crea una variable `euros` con el valor `50`. Suponiendo que el tipo de cambio es `1.07` dólares por euro, calcula cuántos dólares son esos 50 euros y almacena el resultado en una variable `dolares`. Muestra el resultado final.\n",
    "\n",
    "**Ejercicio 3: Ficha Personal**   \n",
    "\n",
    "Crea tres variables: `nombre_completo`, `año_nacimiento` y `profesion`. Asigna tus propios datos. Muestra por pantalla una frase que combine estas tres variables de forma coherente."
   ]
  },
  {
   "cell_type": "markdown",
   "metadata": {},
   "source": [
    "--- \n",
    "### Semana 3-4: Operadores, Expresiones y la Primera Interacción\n",
    "\n",
    "Ahora que conocemos los fundamentos, vamos a profundizar en cómo Python evalúa condiciones y cómo podemos empezar a crear programas que se comuniquen con el usuario. 🗣️"
   ]
  },
  {
   "cell_type": "markdown",
   "metadata": {},
   "source": [
    "#### 2.1 Operadores de Comparación\n",
    "\n",
    "Estos operadores comparan dos valores y el resultado de la comparación es siempre un valor booleano (`True` o `False`). Son la base de las estructuras de control que veremos en la UT2.\n",
    "\n",
    "* `==` : Igual a\n",
    "* `!=` : Distinto de\n",
    "* `>`  : Mayor que\n",
    "* `<`  : Menor que\n",
    "* `>=` : Mayor o igual que\n",
    "* `<=` : Menor o igual que"
   ]
  },
  {
   "cell_type": "code",
   "execution_count": null,
   "metadata": {},
   "outputs": [],
   "source": [
    "nota_corte = 5.0\n",
    "mi_nota = 7.2\n",
    "\n",
    "aprobado = mi_nota >= nota_corte\n",
    "print('¿He aprobado?', aprobado)\n",
    "\n",
    "a = 10\n",
    "b = 10\n",
    "print('¿a es igual a b?', a == b)\n",
    "print('¿a es distinto de b?', a != b)"
   ]
  },
  {
   "cell_type": "markdown",
   "metadata": {},
   "source": [
    "#### 2.2 Operadores Lógicos\n",
    "\n",
    "Estos operadores nos permiten combinar varias expresiones booleanas para crear condiciones más complejas.\n",
    "\n",
    "* **`and`**: Devuelve `True` si **ambas** expresiones son verdaderas.\n",
    "* **`or`**: Devuelve `True` si **al menos una** de las expresiones es verdadera.\n",
    "* **`not`**: Invierte el valor booleano (si es `True` lo convierte en `False`, y viceversa)."
   ]
  },
  {
   "cell_type": "code",
   "execution_count": null,
   "metadata": {},
   "outputs": [],
   "source": [
    "edad = 25\n",
    "tiene_carnet = True\n",
    "\n",
    "# Para alquilar un coche necesitas ser mayor de 21 Y tener carnet\n",
    "puede_alquilar = (edad > 21) and (tiene_carnet == True)\n",
    "print(\"¿Puede alquilar el coche?\", puede_alquilar)\n",
    "\n",
    "dia_semana = \"domingo\"\n",
    "es_festivo = False\n",
    "\n",
    "# No se trabaja si es fin de semana O si es festivo\n",
    "no_se_trabaja = (dia_semana == \"sábado\") or (dia_semana == \"domingo\") or (es_festivo == True)\n",
    "print(\"¿Toca descansar?\", no_se_trabaja)\n",
    "\n",
    "# Negando una condición\n",
    "se_trabaja = not no_se_trabaja\n",
    "print(\"¿Toca trabajar?\", se_trabaja)"
   ]
  },
  {
   "cell_type": "markdown",
   "metadata": {},
   "source": [
    "#### 2.3 Entrada y Salida de Datos: `input()` y `print()`\n",
    "\n",
    "Ya conocemos `print()` para mostrar información. Ahora introducimos `input()` para solicitar información al usuario.\n",
    "\n",
    "**¡MUY IMPORTANTE!** La función `input()` **siempre** devuelve el dato como una cadena de texto (`str`). Si necesitamos usarlo como un número para hacer cálculos, debemos **convertirlo explícitamente** usando `int()` o `float()`."
   ]
  },
  {
   "cell_type": "code",
   "execution_count": null,
   "metadata": {},
   "outputs": [],
   "source": [
    "# Pedimos el nombre al usuario\n",
    "nombre_usuario = input(\"Por favor, introduce tu nombre: \")\n",
    "\n",
    "# Saludamos al usuario\n",
    "print(\"¡Hola,\", nombre_usuario, \"! Encantado de conocerte.\")\n",
    "\n",
    "# Pedimos la edad (y la convertimos a entero)\n",
    "edad_texto = input(\"¿Cuántos años tienes? \")\n",
    "edad_numero = int(edad_texto) # Aquí ocurre la conversión\n",
    "\n",
    "# Ahora ya podemos operar con la edad como un número\n",
    "print(\"Dentro de 10 años, tendrás\", edad_numero + 10, \"años.\")"
   ]
  },
  {
   "cell_type": "markdown",
   "metadata": {},
   "source": [
    "##### 2.3.1 Salida con formato\n",
    "La función ```print()``` puede tener un número variable de argumentos:\n",
    "\n",
    "- cuando estos son cadenas de caracteres, los muestra tal cual en la consola de salida, dispositivo genérico normalmente asociado a la pantalla.\n",
    "\n",
    "- cuando el argumento de la función no es una cadena de caracteres, implícitamente la función print() realiza la conversión requerida desde el tipo de dato original a str.\n",
    "\n",
    "El funcionamiento por defecto de print() es tal que, al finalizar la salida por pantalla, escribe un carácter que representa el cambio del cursor de la pantalla hacia una nueva línea, el carácter \\n. En la mayoría de los casos, este es el comportamiento adecuado.\n",
    "\n",
    "En algunas ocasiones, sin embargo, se podría requerir que el cursor permaneciera en la misma línea después de ejecutar la función print(). Para ello, se puede incluir un argumento invocado mediante el parámetro end de forma que contenga el carácter que la función debe utilizar al final de la línea.\n",
    "\n",
    "Veamos el ejemplo siguiente:"
   ]
  },
  {
   "cell_type": "code",
   "execution_count": null,
   "metadata": {},
   "outputs": [],
   "source": [
    "vol = 3\n",
    "print(\"El valor del volumen es:\", end=\" \")\n",
    "print(vol)"
   ]
  },
  {
   "cell_type": "markdown",
   "metadata": {},
   "source": [
    "```El valor del volumen es: 3```"
   ]
  },
  {
   "cell_type": "markdown",
   "metadata": {},
   "source": [
    "En ocasiones se desea tener un control más detallado de la forma en que los valores van a ser ofrecidos al usuario. Puede desearse, por ejemplo:\n",
    "\n",
    "- mostrar solo un determinado número de dígitos significativos de determinado valor, o\n",
    "\n",
    "- reservar un espacio en pantalla específico para sacar datos en forma de tabla, respetando la alineación de las columnas.\n",
    "\n",
    "Para estos casos, se utiliza preferentemente la opción de especificar formatos en las cadenas de caracteres.\n",
    "\n",
    "Por ejemplo:"
   ]
  },
  {
   "cell_type": "code",
   "execution_count": null,
   "metadata": {},
   "outputs": [],
   "source": [
    "area_base = 10.6666\n",
    "area_lado = 20.3891\n",
    "area_total = 2*area_base + area_lado\n",
    "\n",
    "print(\"El área de la base es {:.2f}, el del lado {:.2f} y el área total es {:.3f}\".\n",
    "      format(area_base, area_lado, area_total))\n",
    "print(\"Cambiando el orden total: {2:.2f} es 2*{0:.2f} + {1:.2f}\".\n",
    "      format(area_base, area_lado, area_total))"
   ]
  },
  {
   "cell_type": "markdown",
   "metadata": {},
   "source": [
    "```\n",
    "El área de la base es 10.67, el del lado 20.39 y el área total es 41.722\n",
    "Cambiando el orden total: 41.72 es 2*10.67 + 20.39\n",
    "```"
   ]
  },
  {
   "cell_type": "markdown",
   "metadata": {},
   "source": [
    "Se puede observar que el uso de las llaves ```{}``` para introducir dentro de la cadena de caracteres referencias a valores que serán proporcionados mediante el método .format(). Estas referencias tienen el formato ```{[n]:[tam][.precisión]formato}```. Se debe entender que los corchetes no se mostrarán por pantalla, sino que, como es costumbre a la hora de describir la sintaxis de algunas sentencias, significa que su contenido puede ser omitido.\n",
    "\n",
    "- **n** se utiliza para especificar el número de orden del valor que debe ser embebido tal y como aparece en los argumentos de **.format()**, comenzando en cero. Si se omite esta especificación, se asume el mismo orden en que los argumentos aparecen en .format(). \n",
    "\n",
    "- **tam** establece el tamaño del campo en pantalla; de no existir, se tomará el espacio necesario, cualquiera que este sea.\n",
    "\n",
    "- **.precisión** especifica el número de lugares decimales al que se redondeará el valor. Esto es aplicable en el caso de que se trate de un valor real.\n",
    "\n",
    "- **formato** es una letra que identifica el tipo del valor: f para float, d para int y s para str son los más habituales.\n",
    "\n",
    "Sobre el ejemplo siguiente, haced modificaciones y razonad el resultado:"
   ]
  },
  {
   "cell_type": "code",
   "execution_count": null,
   "metadata": {},
   "outputs": [],
   "source": [
    "print(\"{:5d}{:15.3f}\".format(123, 1.234343))\n",
    "print(\"{1:5f}{0:15d}\".format(1, 1180.2))"
   ]
  },
  {
   "cell_type": "markdown",
   "metadata": {},
   "source": [
    "##### 2.3.2 Literales de cadena con formato.   \n",
    "\n",
    "Desde Python 3.6 los literales de cadena con formato o **f-strings** son una nueva forma de formatear texto mucho más legible y concisa respecto al uso del método ```.format()```. Además, es más improbable cometer errores, tales como olvidar un parámetro en .format(). Por último, el interprete las procesa de forma más eficiente.\n",
    "\n",
    "Veamos un ejemplo usando **f-strings**:"
   ]
  },
  {
   "cell_type": "code",
   "execution_count": null,
   "metadata": {},
   "outputs": [],
   "source": [
    "area_base = 10.6666\n",
    "area_lado = 20.3891\n",
    "area_total = 2*area_base + area_lado\n",
    "\n",
    "print(f\"El área de la base es {area_base:.2f}, el del lado {area_lado:.2f} y el área total es {area_total:.3f}\")"
   ]
  },
  {
   "cell_type": "markdown",
   "metadata": {},
   "source": [
    "```\n",
    "El área de la base es 10.67, el del lado 20.39 y el área total es 41.722\n",
    "```"
   ]
  },
  {
   "cell_type": "markdown",
   "metadata": {},
   "source": [
    "Con esta nueva técnica, basta con prefijar la cadena con la letra *f* o *F* e incluir dentro de las llaves la expresión correspondiente. Como se observa en el ejemplo, se pueden incluir especificadores de formato:```[tam][.precisión]formato```.\n",
    "\n",
    "En el caso de que se generen líneas de código muy largas, como en el ejemplo anterior, puede optarse por el uso de paréntesis como se muestra en el siguiente ejemplo:"
   ]
  },
  {
   "cell_type": "code",
   "execution_count": null,
   "metadata": {},
   "outputs": [],
   "source": [
    "print((f'El área de la base es {area_base:.2f}, '\n",
    "       f'el del lado {area_lado:.2f} y el '\n",
    "       f'área total es {area_total:.3f}'))"
   ]
  },
  {
   "cell_type": "markdown",
   "metadata": {},
   "source": [
    "```\n",
    "El área de la base es 10.67, el del lado 20.39 y el área total es 41.722\n",
    "```"
   ]
  },
  {
   "cell_type": "markdown",
   "metadata": {},
   "source": [
    "También es posible usar f-strings con cadenas distribuidas en varias líneas:"
   ]
  },
  {
   "cell_type": "code",
   "execution_count": null,
   "metadata": {},
   "outputs": [],
   "source": [
    "print((f'''El área de la base es {area_base:.2f}\n",
    "El área del lado {area_lado:.2f}\n",
    "El área total es {area_total:.3f}'''))"
   ]
  },
  {
   "cell_type": "markdown",
   "metadata": {},
   "source": [
    "```\n",
    "El área de la base es 10.67\n",
    "El área del lado 20.39\n",
    "El área total es 41.722\n",
    "```"
   ]
  },
  {
   "cell_type": "markdown",
   "metadata": {},
   "source": [
    "--- \n",
    "### 🏋️‍♂️ Ejercicios Propuestos (Semanas 3-4)\n",
    "\n",
    "**Ejercicio 1: ¿Mayor de Edad Interactivo?**   \n",
    "\n",
    "Pide al usuario su año de nacimiento usando `input()`. Calcula su edad aproximada y guárdala en una variable. Luego, crea una variable booleana llamada `es_mayor_de_edad` que sea `True` si la edad es mayor o igual a 18, y `False` en caso contrario. Finalmente, muestra un mensaje claro al usuario indicando si es mayor de edad o no (ej: \"¿Es mayor de edad?: True\").\n",
    "\n",
    "**Ejercicio 2: Calculadora de IMC (Índice de Masa Corporal) Interactiva**   \n",
    "\n",
    "Pide al usuario su peso en kg (usando `float()` para la conversión) y su altura en metros (también con `float()`). Calcula su IMC con la fórmula: `IMC = peso / (altura ** 2)`. Muestra por pantalla el IMC calculado con un mensaje explicativo.\n",
    "\n",
    "**Ejercicio 3: Verificador de Acceso**   \n",
    "\n",
    "Pide al usuario su edad (como número entero). Pide al usuario si es socio (puede responder 'si' o 'no'). Crea una variable booleana que sea `True` solo si el usuario tiene 18 años o más **Y** es socio. Muestra el resultado de esta variable."
   ]
  }
 ],
 "metadata": {
  "kernelspec": {
   "display_name": "Python 3",
   "language": "python",
   "name": "python3"
  },
  "language_info": {
   "codemirror_mode": {
    "name": "ipython",
    "version": 3
   },
   "file_extension": ".py",
   "mimetype": "text/x-python",
   "name": "python",
   "nbconvert_exporter": "python",
   "pygments_lexer": "ipython3",
   "version": "3.12.3"
  }
 },
 "nbformat": 4,
 "nbformat_minor": 2
}
